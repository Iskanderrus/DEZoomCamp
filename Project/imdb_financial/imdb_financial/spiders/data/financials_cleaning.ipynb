{
 "cells": [
  {
   "cell_type": "code",
   "execution_count": 60,
   "id": "b9365544",
   "metadata": {},
   "outputs": [],
   "source": [
    "import pandas as pd"
   ]
  },
  {
   "cell_type": "code",
   "execution_count": 61,
   "id": "b9cd6c0b",
   "metadata": {},
   "outputs": [],
   "source": [
    "df = pd.read_csv('films_financials.csv', low_memory=False)"
   ]
  },
  {
   "cell_type": "code",
   "execution_count": 62,
   "id": "b7875735",
   "metadata": {},
   "outputs": [
    {
     "data": {
      "text/html": [
       "<div>\n",
       "<style scoped>\n",
       "    .dataframe tbody tr th:only-of-type {\n",
       "        vertical-align: middle;\n",
       "    }\n",
       "\n",
       "    .dataframe tbody tr th {\n",
       "        vertical-align: top;\n",
       "    }\n",
       "\n",
       "    .dataframe thead th {\n",
       "        text-align: right;\n",
       "    }\n",
       "</style>\n",
       "<table border=\"1\" class=\"dataframe\">\n",
       "  <thead>\n",
       "    <tr style=\"text-align: right;\">\n",
       "      <th></th>\n",
       "      <th>title</th>\n",
       "      <th>top_cast</th>\n",
       "      <th>director</th>\n",
       "      <th>writer</th>\n",
       "      <th>country_of_origin</th>\n",
       "      <th>language</th>\n",
       "      <th>release_date</th>\n",
       "      <th>production_company</th>\n",
       "      <th>filming_locations</th>\n",
       "      <th>aspect_ratio</th>\n",
       "      <th>budget_local_currency</th>\n",
       "      <th>gross_us_canada</th>\n",
       "      <th>opening_weekend_us_canada_usd</th>\n",
       "      <th>opening_weekend_date</th>\n",
       "      <th>gross_worldwide</th>\n",
       "      <th>movie_url</th>\n",
       "    </tr>\n",
       "  </thead>\n",
       "  <tbody>\n",
       "    <tr>\n",
       "      <th>0</th>\n",
       "      <td>The Super Mario Bros. Movie</td>\n",
       "      <td>Chris Pratt,Anya Taylor-Joy,Charlie Day,Jack B...</td>\n",
       "      <td>Aaron Horvath</td>\n",
       "      <td>Matthew Fogel</td>\n",
       "      <td>United States,Japan</td>\n",
       "      <td>English</td>\n",
       "      <td>April 5, 2023 (United States)</td>\n",
       "      <td>Universal Pictures,Nintendo,Illumination Enter...</td>\n",
       "      <td>Paris, France</td>\n",
       "      <td>2.39 : 1</td>\n",
       "      <td>$100,000,000 (estimated)</td>\n",
       "      <td>$240,201,260</td>\n",
       "      <td>$146,361,865</td>\n",
       "      <td>Apr 9, 2023</td>\n",
       "      <td>$427,851,677</td>\n",
       "      <td>https://www.imdb.com/title/tt6718170/?ref_=adv...</td>\n",
       "    </tr>\n",
       "    <tr>\n",
       "      <th>1</th>\n",
       "      <td>John Wick: Chapter 4</td>\n",
       "      <td>Keanu Reeves,Laurence Fishburne,George Georgio...</td>\n",
       "      <td>Chad Stahelski</td>\n",
       "      <td>Shay Hatten</td>\n",
       "      <td>United States,Germany</td>\n",
       "      <td>English</td>\n",
       "      <td>March 24, 2023 (United States)</td>\n",
       "      <td>87Eleven Entertainment,Lionsgate,Studio Babels...</td>\n",
       "      <td>Wadi Rum Desert, Jordan</td>\n",
       "      <td>2.39 : 1</td>\n",
       "      <td>$90,000,000 (estimated)</td>\n",
       "      <td>$149,987,236</td>\n",
       "      <td>$73,817,950</td>\n",
       "      <td>Mar 26, 2023</td>\n",
       "      <td>$271,987,236</td>\n",
       "      <td>https://www.imdb.com/title/tt10366206/?ref_=ad...</td>\n",
       "    </tr>\n",
       "    <tr>\n",
       "      <th>2</th>\n",
       "      <td>Vinland Saga</td>\n",
       "      <td>Yûto Uemura,Alejandro Saab,Mike Haimoto,Aleks ...</td>\n",
       "      <td>NaN</td>\n",
       "      <td>NaN</td>\n",
       "      <td>Japan</td>\n",
       "      <td>Japanese</td>\n",
       "      <td>July 6, 2019 (United States)</td>\n",
       "      <td>Wit Studio,Mappa</td>\n",
       "      <td>NaN</td>\n",
       "      <td>16:9 HD</td>\n",
       "      <td>NaN</td>\n",
       "      <td>NaN</td>\n",
       "      <td>NaN</td>\n",
       "      <td>NaN</td>\n",
       "      <td>NaN</td>\n",
       "      <td>https://www.imdb.com/title/tt10233448/?ref_=ad...</td>\n",
       "    </tr>\n",
       "    <tr>\n",
       "      <th>3</th>\n",
       "      <td>Star Wars: Rebels</td>\n",
       "      <td>Dave Filoni,Taylor Gray,Freddie Prinze Jr.,Van...</td>\n",
       "      <td>Simon Kinberg</td>\n",
       "      <td>NaN</td>\n",
       "      <td>United States</td>\n",
       "      <td>English</td>\n",
       "      <td>September 26, 2014 (United States)</td>\n",
       "      <td>CGCG Inc. (I),Disney XD,Disney-ABC Domestic Te...</td>\n",
       "      <td>NaN</td>\n",
       "      <td>1.78 : 1</td>\n",
       "      <td>NaN</td>\n",
       "      <td>NaN</td>\n",
       "      <td>NaN</td>\n",
       "      <td>NaN</td>\n",
       "      <td>NaN</td>\n",
       "      <td>https://www.imdb.com/title/tt2930604/?ref_=adv...</td>\n",
       "    </tr>\n",
       "    <tr>\n",
       "      <th>4</th>\n",
       "      <td>Star Wars: The Clone Wars</td>\n",
       "      <td>Tom Kane,Dee Bradley Baker,Matt Lanter,James A...</td>\n",
       "      <td>George Lucas</td>\n",
       "      <td>NaN</td>\n",
       "      <td>United States</td>\n",
       "      <td>English</td>\n",
       "      <td>October 3, 2008 (United States)</td>\n",
       "      <td>CGCG,Cartoon Network,Disney+</td>\n",
       "      <td>NaN</td>\n",
       "      <td>NaN</td>\n",
       "      <td>NaN</td>\n",
       "      <td>NaN</td>\n",
       "      <td>NaN</td>\n",
       "      <td>NaN</td>\n",
       "      <td>NaN</td>\n",
       "      <td>https://www.imdb.com/title/tt0458290/?ref_=adv...</td>\n",
       "    </tr>\n",
       "  </tbody>\n",
       "</table>\n",
       "</div>"
      ],
      "text/plain": [
       "                         title  \\\n",
       "0  The Super Mario Bros. Movie   \n",
       "1         John Wick: Chapter 4   \n",
       "2                 Vinland Saga   \n",
       "3            Star Wars: Rebels   \n",
       "4    Star Wars: The Clone Wars   \n",
       "\n",
       "                                            top_cast        director  \\\n",
       "0  Chris Pratt,Anya Taylor-Joy,Charlie Day,Jack B...   Aaron Horvath   \n",
       "1  Keanu Reeves,Laurence Fishburne,George Georgio...  Chad Stahelski   \n",
       "2  Yûto Uemura,Alejandro Saab,Mike Haimoto,Aleks ...             NaN   \n",
       "3  Dave Filoni,Taylor Gray,Freddie Prinze Jr.,Van...   Simon Kinberg   \n",
       "4  Tom Kane,Dee Bradley Baker,Matt Lanter,James A...    George Lucas   \n",
       "\n",
       "          writer      country_of_origin  language  \\\n",
       "0  Matthew Fogel    United States,Japan   English   \n",
       "1    Shay Hatten  United States,Germany   English   \n",
       "2            NaN                  Japan  Japanese   \n",
       "3            NaN          United States   English   \n",
       "4            NaN          United States   English   \n",
       "\n",
       "                         release_date  \\\n",
       "0       April 5, 2023 (United States)   \n",
       "1      March 24, 2023 (United States)   \n",
       "2        July 6, 2019 (United States)   \n",
       "3  September 26, 2014 (United States)   \n",
       "4     October 3, 2008 (United States)   \n",
       "\n",
       "                                  production_company        filming_locations  \\\n",
       "0  Universal Pictures,Nintendo,Illumination Enter...            Paris, France   \n",
       "1  87Eleven Entertainment,Lionsgate,Studio Babels...  Wadi Rum Desert, Jordan   \n",
       "2                                   Wit Studio,Mappa                      NaN   \n",
       "3  CGCG Inc. (I),Disney XD,Disney-ABC Domestic Te...                      NaN   \n",
       "4                       CGCG,Cartoon Network,Disney+                      NaN   \n",
       "\n",
       "  aspect_ratio     budget_local_currency gross_us_canada  \\\n",
       "0     2.39 : 1  $100,000,000 (estimated)    $240,201,260   \n",
       "1     2.39 : 1   $90,000,000 (estimated)    $149,987,236   \n",
       "2      16:9 HD                       NaN             NaN   \n",
       "3     1.78 : 1                       NaN             NaN   \n",
       "4          NaN                       NaN             NaN   \n",
       "\n",
       "  opening_weekend_us_canada_usd opening_weekend_date gross_worldwide  \\\n",
       "0                  $146,361,865          Apr 9, 2023    $427,851,677   \n",
       "1                   $73,817,950         Mar 26, 2023    $271,987,236   \n",
       "2                           NaN                  NaN             NaN   \n",
       "3                           NaN                  NaN             NaN   \n",
       "4                           NaN                  NaN             NaN   \n",
       "\n",
       "                                           movie_url  \n",
       "0  https://www.imdb.com/title/tt6718170/?ref_=adv...  \n",
       "1  https://www.imdb.com/title/tt10366206/?ref_=ad...  \n",
       "2  https://www.imdb.com/title/tt10233448/?ref_=ad...  \n",
       "3  https://www.imdb.com/title/tt2930604/?ref_=adv...  \n",
       "4  https://www.imdb.com/title/tt0458290/?ref_=adv...  "
      ]
     },
     "execution_count": 62,
     "metadata": {},
     "output_type": "execute_result"
    }
   ],
   "source": [
    "df.head()"
   ]
  },
  {
   "cell_type": "code",
   "execution_count": 63,
   "id": "269c958f",
   "metadata": {},
   "outputs": [],
   "source": [
    "digit_columns = ['budget_local_currency', 'gross_us_canada', 'opening_weekend_us_canada_usd', 'gross_worldwide']"
   ]
  },
  {
   "cell_type": "code",
   "execution_count": 64,
   "id": "80067e55",
   "metadata": {},
   "outputs": [],
   "source": [
    "def comma_cleaner(df, columns): \n",
    "    for column in columns: \n",
    "        df[column].replace(',','', regex=True, inplace=True)\n",
    "    return df"
   ]
  },
  {
   "cell_type": "code",
   "execution_count": 65,
   "id": "1f7f2d88",
   "metadata": {},
   "outputs": [],
   "source": [
    "df2 = comma_cleaner(df, digit_columns)"
   ]
  },
  {
   "cell_type": "code",
   "execution_count": 66,
   "id": "c3bee459",
   "metadata": {},
   "outputs": [],
   "source": [
    "df2.loc[:, 'local_currency'] = df2.loc[:,'budget_local_currency'].str.extract('(\\D+)', expand=False)"
   ]
  },
  {
   "cell_type": "code",
   "execution_count": 67,
   "id": "cc0cca4a",
   "metadata": {},
   "outputs": [],
   "source": [
    "df2.loc[:, 'local_currency_budget'] = df2.loc[:,'budget_local_currency'].str.extract('(\\d+)', expand=False)"
   ]
  },
  {
   "cell_type": "code",
   "execution_count": 68,
   "id": "23797ce6",
   "metadata": {},
   "outputs": [],
   "source": [
    "df2.drop('budget_local_currency', axis=1, inplace=True)"
   ]
  },
  {
   "cell_type": "code",
   "execution_count": 80,
   "id": "34298654",
   "metadata": {},
   "outputs": [],
   "source": [
    "list_1 = df2.local_currency.value_counts().index.tolist()"
   ]
  },
  {
   "cell_type": "code",
   "execution_count": 83,
   "id": "ba82d81b",
   "metadata": {},
   "outputs": [],
   "source": [
    "list_2 = [x.strip() for x in list_1]"
   ]
  },
  {
   "cell_type": "code",
   "execution_count": 84,
   "id": "fcb741e7",
   "metadata": {},
   "outputs": [
    {
     "name": "stdout",
     "output_type": "stream",
     "text": [
      "['$', '€', '₹', '£', 'CA$', 'A$', 'R$', 'BDT', 'MX$', 'SEK', 'RUR', 'CN¥', '₱', 'MYR', 'ARS', 'NOK', 'HUF', 'DKK', 'TRL', 'DEM', 'PKR', 'NZ$', 'FIM', 'NGN', 'ZAR', 'IDR', 'CHF', 'NPR', 'CZK', 'PLN', 'FRF', 'IRR', '₩', 'EGP', '¥', 'SGD', 'HK$', 'AED', 'NT$', 'THB', 'ESP', 'DOP', 'ITL', 'LKR', '₪', 'COP', 'BGL', 'MVR', 'ROL', 'CLP', '₫', 'UAH', 'GRD', 'VEB', 'HRK', 'PEN', 'ISK', 'YUM', 'NLG', 'MMK', 'PTE', 'KES', 'EC$', 'CRC', 'MOP', 'MAD', 'AZM', 'BAM', 'AFA', 'TMM', 'KWD', 'DZD', 'EEK', 'JMD', 'UGX', 'FCFA', 'LVL', 'CUP', 'JOD', 'BHD', 'AMD', 'GHC', 'ETB', 'SYP', 'MDL']\n"
     ]
    }
   ],
   "source": [
    "print(list_2)"
   ]
  },
  {
   "cell_type": "code",
   "execution_count": null,
   "id": "e1e97d4f",
   "metadata": {},
   "outputs": [],
   "source": []
  }
 ],
 "metadata": {
  "kernelspec": {
   "display_name": "Python 3 (ipykernel)",
   "language": "python",
   "name": "python3"
  },
  "language_info": {
   "codemirror_mode": {
    "name": "ipython",
    "version": 3
   },
   "file_extension": ".py",
   "mimetype": "text/x-python",
   "name": "python",
   "nbconvert_exporter": "python",
   "pygments_lexer": "ipython3",
   "version": "3.9.15"
  }
 },
 "nbformat": 4,
 "nbformat_minor": 5
}
