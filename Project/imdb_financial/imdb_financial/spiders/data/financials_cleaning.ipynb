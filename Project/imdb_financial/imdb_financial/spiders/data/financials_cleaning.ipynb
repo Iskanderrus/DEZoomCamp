{
 "cells": [
  {
   "cell_type": "code",
   "execution_count": 122,
   "id": "b9365544",
   "metadata": {},
   "outputs": [],
   "source": [
    "import pandas as pd\n",
    "import re\n",
    "from datetime import datetime\n",
    "import numpy as np"
   ]
  },
  {
   "cell_type": "code",
   "execution_count": 123,
   "id": "b9cd6c0b",
   "metadata": {},
   "outputs": [],
   "source": [
    "df = pd.read_csv('films_financials.csv', low_memory=False)"
   ]
  },
  {
   "cell_type": "code",
   "execution_count": 125,
   "id": "e04238a1",
   "metadata": {},
   "outputs": [],
   "source": [
    "df.loc[:, 'movie_id'] = df.loc[:, 'movie_url'].str.extract('([t]{2}\\d+)',\n",
    "                                                           expand=False)"
   ]
  },
  {
   "cell_type": "code",
   "execution_count": 126,
   "id": "b78a19ca",
   "metadata": {},
   "outputs": [],
   "source": [
    "list_columns = [\n",
    "    'top_cast', 'director', 'writer', 'country_of_origin', 'production_company'\n",
    "]"
   ]
  },
  {
   "cell_type": "code",
   "execution_count": 127,
   "id": "23bc2d21",
   "metadata": {},
   "outputs": [],
   "source": [
    "def table_creator(df, columns):\n",
    "    dfs = []\n",
    "    for column in list_columns:\n",
    "        temp_df = df[['movie_id', column]].copy()\n",
    "        temp_df.loc[:, column] = temp_df.loc[:, column].str.split(',')\n",
    "        temp_df = temp_df.explode(column)\n",
    "        temp_df.set_index('movie_id', inplace=True)\n",
    "        dfs.append(temp_df)\n",
    "    return dfs"
   ]
  },
  {
   "cell_type": "code",
   "execution_count": 128,
   "id": "7ee0581f",
   "metadata": {},
   "outputs": [],
   "source": [
    "df_copy = df.copy()"
   ]
  },
  {
   "cell_type": "code",
   "execution_count": 129,
   "id": "a02c046a",
   "metadata": {},
   "outputs": [],
   "source": [
    "list_of_dataframes = table_creator(df, list_columns)"
   ]
  },
  {
   "cell_type": "code",
   "execution_count": 130,
   "id": "d56e9c73",
   "metadata": {},
   "outputs": [],
   "source": [
    "cast = list_of_dataframes[0]\n",
    "director = list_of_dataframes[1]\n",
    "writer = list_of_dataframes[2]\n",
    "country_of_origin = list_of_dataframes[3]\n",
    "production_company = list_of_dataframes[4]"
   ]
  },
  {
   "cell_type": "code",
   "execution_count": 131,
   "id": "cab0ad4a",
   "metadata": {},
   "outputs": [],
   "source": [
    "df_copy.drop([\n",
    "    'top_cast', 'director', 'writer', 'country_of_origin', 'production_company'\n",
    "],\n",
    "             axis=1,\n",
    "             inplace=True)"
   ]
  },
  {
   "cell_type": "code",
   "execution_count": 132,
   "id": "269c958f",
   "metadata": {},
   "outputs": [],
   "source": [
    "digit_columns = [\n",
    "    'budget_local_currency', 'gross_us_canada',\n",
    "    'opening_weekend_us_canada_usd', 'gross_worldwide'\n",
    "]"
   ]
  },
  {
   "cell_type": "code",
   "execution_count": 133,
   "id": "80067e55",
   "metadata": {},
   "outputs": [],
   "source": [
    "def comma_cleaner(df, columns):\n",
    "    for column in columns:\n",
    "        df[column].replace(',', '', regex=True, inplace=True)\n",
    "    return df"
   ]
  },
  {
   "cell_type": "code",
   "execution_count": 134,
   "id": "1f7f2d88",
   "metadata": {},
   "outputs": [],
   "source": [
    "df2 = comma_cleaner(df_copy, digit_columns)"
   ]
  },
  {
   "cell_type": "code",
   "execution_count": 135,
   "id": "c3bee459",
   "metadata": {},
   "outputs": [],
   "source": [
    "df2.loc[:, 'local_currency'] = df2.loc[:, 'budget_local_currency'].str.extract(\n",
    "    '(\\D+)', expand=False)"
   ]
  },
  {
   "cell_type": "code",
   "execution_count": 136,
   "id": "cc0cca4a",
   "metadata": {},
   "outputs": [],
   "source": [
    "df2.loc[:,\n",
    "        'local_currency_budget'] = df2.loc[:,\n",
    "                                           'budget_local_currency'].str.extract(\n",
    "                                               '(\\d+)', expand=False)"
   ]
  },
  {
   "cell_type": "code",
   "execution_count": 137,
   "id": "23797ce6",
   "metadata": {},
   "outputs": [],
   "source": [
    "df2.drop('budget_local_currency', axis=1, inplace=True)"
   ]
  },
  {
   "cell_type": "code",
   "execution_count": 138,
   "id": "0d1ac788",
   "metadata": {},
   "outputs": [],
   "source": [
    "df2['release_country'] = df2['release_date'].astype(str).apply(\n",
    "    lambda x: x.split('(')[-1]).apply(lambda x: x.strip(')'))"
   ]
  },
  {
   "cell_type": "code",
   "execution_count": 139,
   "id": "daaf8045",
   "metadata": {},
   "outputs": [],
   "source": [
    "df2['release_date'] = df2['release_date'].astype(str).apply(\n",
    "    lambda x: x.split('(')[0])"
   ]
  },
  {
   "cell_type": "code",
   "execution_count": 140,
   "id": "814c7ae4",
   "metadata": {},
   "outputs": [],
   "source": [
    "df2['release_date'] = df2['release_date'].astype(str).apply(\n",
    "    lambda x: x.replace(',', '')).apply(lambda x: x.replace('  ', ' '))"
   ]
  },
  {
   "cell_type": "code",
   "execution_count": 141,
   "id": "d6e1e07a",
   "metadata": {},
   "outputs": [],
   "source": [
    "df2 = df2[[(len(x) > 7) for x in df2['release_date']]].copy()"
   ]
  },
  {
   "cell_type": "code",
   "execution_count": 142,
   "id": "84636c83",
   "metadata": {},
   "outputs": [],
   "source": [
    "df2 = pd.DataFrame(df2)"
   ]
  },
  {
   "cell_type": "code",
   "execution_count": 143,
   "id": "e70ff7ad",
   "metadata": {},
   "outputs": [],
   "source": [
    "def month_replacement(row):\n",
    "    months = {\n",
    "        \"January\": '01',\n",
    "        \"February\": '02',\n",
    "        \"March\": '03',\n",
    "        \"April\": '04',\n",
    "        \"May\": '05',\n",
    "        \"June\": '06',\n",
    "        \"July\": '07',\n",
    "        \"August\": '08',\n",
    "        \"September\": '09',\n",
    "        \"October\": '10',\n",
    "        \"November\": '11',\n",
    "        \"December\": '12'\n",
    "    }\n",
    "    old_date = row['release_date']\n",
    "    row['release_date'] = ''.join([months.get(i, i) for i in old_date.split()])\n",
    "    return row"
   ]
  },
  {
   "cell_type": "code",
   "execution_count": 144,
   "id": "dce4e263",
   "metadata": {},
   "outputs": [],
   "source": [
    "df2 = df2.apply(month_replacement, axis=1)"
   ]
  },
  {
   "cell_type": "code",
   "execution_count": 145,
   "id": "daf03ef7",
   "metadata": {},
   "outputs": [],
   "source": [
    "df2['release_date'] = pd.to_datetime(df2['release_date'],\n",
    "                                     format='%m%d%Y',\n",
    "                                     errors='coerce')"
   ]
  },
  {
   "cell_type": "code",
   "execution_count": 146,
   "id": "58548f37",
   "metadata": {},
   "outputs": [],
   "source": [
    "df2['opening_weekend_date'] = df2['opening_weekend_date'].astype(str).apply(\n",
    "    lambda x: x.replace(',', '')).apply(lambda x: x.replace('  ', ' '))"
   ]
  },
  {
   "cell_type": "code",
   "execution_count": 147,
   "id": "f3ebd385",
   "metadata": {},
   "outputs": [],
   "source": [
    "def short_month_replacement(row):\n",
    "    months = {\n",
    "        \"Jan\": '01',\n",
    "        \"Feb\": '02',\n",
    "        \"Mar\": '03',\n",
    "        \"Apr\": '04',\n",
    "        \"May\": '05',\n",
    "        \"Jun\": '06',\n",
    "        \"Jul\": '07',\n",
    "        \"Aug\": '08',\n",
    "        \"Sep\": '09',\n",
    "        \"Oct\": '10',\n",
    "        \"Nov\": '11',\n",
    "        \"Dec\": '12'\n",
    "    }\n",
    "    old_date = row['opening_weekend_date']\n",
    "    row['opening_weekend_date'] = ''.join(\n",
    "        [months.get(i, i) for i in old_date.split()])\n",
    "    return row"
   ]
  },
  {
   "cell_type": "code",
   "execution_count": 148,
   "id": "241f305b",
   "metadata": {},
   "outputs": [],
   "source": [
    "df2 = df2.apply(short_month_replacement, axis=1)"
   ]
  },
  {
   "cell_type": "code",
   "execution_count": 149,
   "id": "98746660",
   "metadata": {},
   "outputs": [],
   "source": [
    "df2['opening_weekend_date'] = pd.to_datetime(df2['opening_weekend_date'],\n",
    "                                             format='%m%d%Y',\n",
    "                                             errors='coerce')"
   ]
  },
  {
   "cell_type": "code",
   "execution_count": 150,
   "id": "ae49e2cc",
   "metadata": {},
   "outputs": [],
   "source": [
    "categories = [\n",
    "    'language', 'filming_locations', 'filming_locations', 'aspect_ratio',\n",
    "    'local_currency', 'release_country'\n",
    "]"
   ]
  },
  {
   "cell_type": "code",
   "execution_count": 151,
   "id": "a8e6dbea",
   "metadata": {},
   "outputs": [],
   "source": [
    "for column in categories:\n",
    "    df2[column].fillna('Not defined', inplace=True)"
   ]
  },
  {
   "cell_type": "code",
   "execution_count": 152,
   "id": "354a2967",
   "metadata": {},
   "outputs": [],
   "source": [
    "def currency_replacement(row):\n",
    "    currencies = {\n",
    "        '$': 'USD',\n",
    "        '€': 'EUR',\n",
    "        '£': 'GBP',\n",
    "        'CA$': 'CAD',\n",
    "        '₹': 'INR',\n",
    "        'RUR': 'RUB'\n",
    "    }\n",
    "    old_currency = row['local_currency']\n",
    "    row['local_currency'] = ' '.join(\n",
    "        [currencies.get(i, i) for i in old_currency.split()])\n",
    "    return row"
   ]
  },
  {
   "cell_type": "code",
   "execution_count": 153,
   "id": "c7396b74",
   "metadata": {},
   "outputs": [],
   "source": [
    "df2 = df2.apply(currency_replacement, axis=1)"
   ]
  },
  {
   "cell_type": "code",
   "execution_count": 154,
   "id": "93cf3ce4",
   "metadata": {},
   "outputs": [],
   "source": [
    "money_cols = [\n",
    "    'gross_us_canada', 'opening_weekend_us_canada_usd', 'gross_worldwide',\n",
    "    'local_currency_budget'\n",
    "]"
   ]
  },
  {
   "cell_type": "code",
   "execution_count": 161,
   "id": "d04ee13c",
   "metadata": {},
   "outputs": [],
   "source": [
    "for col in money_cols:\n",
    "    df2.loc[:, col] = df2.loc[:, col].str.extract('(\\d+)',\n",
    "                                                  expand=False).astype('float')"
   ]
  },
  {
   "cell_type": "code",
   "execution_count": 162,
   "id": "b5a33351",
   "metadata": {},
   "outputs": [],
   "source": [
    "def filming_location_split(row):\n",
    "    if row['filming_locations'] != 'Not defined':\n",
    "        location = row['filming_locations'].split(',')\n",
    "        row['filming_country'] = location[-1]\n",
    "        row['filming_locations'] = ', '.join(location[:-1])\n",
    "    return row"
   ]
  },
  {
   "cell_type": "code",
   "execution_count": 163,
   "id": "5441fdd7",
   "metadata": {},
   "outputs": [],
   "source": [
    "df2 = df2.apply(filming_location_split, axis=1)"
   ]
  },
  {
   "cell_type": "code",
   "execution_count": 164,
   "id": "efd8e6a9",
   "metadata": {},
   "outputs": [],
   "source": [
    "df2 = df2[[\n",
    "    'movie_id', 'title', 'filming_country', 'filming_locations', 'language',\n",
    "    'release_country', 'release_date', 'aspect_ratio', 'local_currency_budget',\n",
    "    'local_currency', 'opening_weekend_date', 'opening_weekend_us_canada_usd',\n",
    "    'gross_us_canada', 'gross_worldwide', 'movie_url'\n",
    "]]"
   ]
  },
  {
   "cell_type": "code",
   "execution_count": 165,
   "id": "055e201f",
   "metadata": {},
   "outputs": [],
   "source": [
    "df2['filming_country'] = df2['filming_country'].fillna('Not defined')"
   ]
  },
  {
   "cell_type": "code",
   "execution_count": null,
   "id": "d4c9c238",
   "metadata": {},
   "outputs": [],
   "source": [
    "df2.to_csv('financial_data.csv')"
   ]
  },
  {
   "cell_type": "code",
   "execution_count": null,
   "id": "3073c9ea",
   "metadata": {},
   "outputs": [],
   "source": [
    "cast.to_csv('./support/top_cast.csv')\n",
    "director.to_csv('./support/directors.csv')\n",
    "writer.to_csv('./support/writers.csv')\n",
    "country_of_origin.to_csv('./support/countries_of_origin.csv')\n",
    "production_company.to_csv('./support/production_companies.csv')"
   ]
  }
 ],
 "metadata": {
  "kernelspec": {
   "display_name": "Python 3 (ipykernel)",
   "language": "python",
   "name": "python3"
  },
  "language_info": {
   "codemirror_mode": {
    "name": "ipython",
    "version": 3
   },
   "file_extension": ".py",
   "mimetype": "text/x-python",
   "name": "python",
   "nbconvert_exporter": "python",
   "pygments_lexer": "ipython3",
   "version": "3.9.15"
  }
 },
 "nbformat": 4,
 "nbformat_minor": 5
}
