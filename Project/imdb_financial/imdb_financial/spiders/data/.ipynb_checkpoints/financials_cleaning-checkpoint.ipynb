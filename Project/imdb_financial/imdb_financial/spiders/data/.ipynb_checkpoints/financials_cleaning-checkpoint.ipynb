{
 "cells": [
  {
   "cell_type": "code",
   "execution_count": 1,
   "id": "b9365544",
   "metadata": {},
   "outputs": [],
   "source": [
    "import pandas as pd\n",
    "import re\n",
    "from datetime import datetime\n",
    "import numpy as np"
   ]
  },
  {
   "cell_type": "code",
   "execution_count": 2,
   "id": "b9cd6c0b",
   "metadata": {},
   "outputs": [],
   "source": [
    "df = pd.read_csv('films_financials.csv', low_memory=False)"
   ]
  },
  {
   "cell_type": "code",
   "execution_count": 3,
   "id": "e04238a1",
   "metadata": {},
   "outputs": [],
   "source": [
    "df.loc[:, 'movie_id'] = df.loc[:,'movie_url'].str.extract('([t]{2}\\d+)', expand=False)"
   ]
  },
  {
   "cell_type": "code",
   "execution_count": 4,
   "id": "b78a19ca",
   "metadata": {},
   "outputs": [],
   "source": [
    "list_columns = ['top_cast', 'director', 'writer', 'country_of_origin', 'production_company']"
   ]
  },
  {
   "cell_type": "code",
   "execution_count": 5,
   "id": "23bc2d21",
   "metadata": {},
   "outputs": [],
   "source": [
    "def table_creator(df, columns): \n",
    "    dfs = []\n",
    "    for column in list_columns: \n",
    "        temp_df = df[['movie_id', column]].copy()\n",
    "        temp_df.loc[:, column] = temp_df.loc[:, column].str.split(',')\n",
    "        temp_df = temp_df.explode(column)\n",
    "        temp_df.set_index('movie_id', inplace=True)\n",
    "        dfs.append(temp_df)\n",
    "    return dfs      "
   ]
  },
  {
   "cell_type": "code",
   "execution_count": 6,
   "id": "7ee0581f",
   "metadata": {},
   "outputs": [],
   "source": [
    "df_copy = df.copy()"
   ]
  },
  {
   "cell_type": "code",
   "execution_count": 8,
   "id": "241a5c5e",
   "metadata": {},
   "outputs": [],
   "source": [
    "list_of_dataframes = table_creator(df, list_columns)"
   ]
  },
  {
   "cell_type": "code",
   "execution_count": 9,
   "id": "d56e9c73",
   "metadata": {},
   "outputs": [],
   "source": [
    "cast = list_of_dataframes[0]\n",
    "director = list_of_dataframes[1]\n",
    "writer = list_of_dataframes[2]\n",
    "country_of_origin = list_of_dataframes[3]\n",
    "production_company = list_of_dataframes[4]"
   ]
  },
  {
   "cell_type": "code",
   "execution_count": 10,
   "id": "cab0ad4a",
   "metadata": {},
   "outputs": [],
   "source": [
    "df_copy.drop(['top_cast', 'director', 'writer', 'country_of_origin', 'production_company'], axis=1, inplace=True)"
   ]
  },
  {
   "cell_type": "code",
   "execution_count": 11,
   "id": "269c958f",
   "metadata": {},
   "outputs": [],
   "source": [
    "digit_columns = ['budget_local_currency', 'gross_us_canada', 'opening_weekend_us_canada_usd', 'gross_worldwide']"
   ]
  },
  {
   "cell_type": "code",
   "execution_count": 12,
   "id": "80067e55",
   "metadata": {},
   "outputs": [],
   "source": [
    "def comma_cleaner(df, columns): \n",
    "    for column in columns: \n",
    "        df[column].replace(',','', regex=True, inplace=True)\n",
    "    return df"
   ]
  },
  {
   "cell_type": "code",
   "execution_count": 13,
   "id": "1f7f2d88",
   "metadata": {},
   "outputs": [],
   "source": [
    "df2 = comma_cleaner(df_copy, digit_columns)"
   ]
  },
  {
   "cell_type": "code",
   "execution_count": 14,
   "id": "c3bee459",
   "metadata": {},
   "outputs": [],
   "source": [
    "df2.loc[:, 'local_currency'] = df2.loc[:,'budget_local_currency'].str.extract('(\\D+)', expand=False)"
   ]
  },
  {
   "cell_type": "code",
   "execution_count": 15,
   "id": "cc0cca4a",
   "metadata": {},
   "outputs": [],
   "source": [
    "df2.loc[:, 'local_currency_budget'] = df2.loc[:,'budget_local_currency'].str.extract('(\\d+)', expand=False)"
   ]
  },
  {
   "cell_type": "code",
   "execution_count": 16,
   "id": "23797ce6",
   "metadata": {},
   "outputs": [],
   "source": [
    "df2.drop('budget_local_currency', axis=1, inplace=True)"
   ]
  },
  {
   "cell_type": "code",
   "execution_count": 17,
   "id": "0d1ac788",
   "metadata": {},
   "outputs": [],
   "source": [
    "df2['release_country'] = df2['release_date'].astype(str).apply(lambda x: x.split('(')[-1]).apply(lambda x: x.strip(')'))"
   ]
  },
  {
   "cell_type": "code",
   "execution_count": 18,
   "id": "daaf8045",
   "metadata": {},
   "outputs": [],
   "source": [
    "df2['release_date'] = df2['release_date'].astype(str).apply(lambda x: x.split('(')[0])"
   ]
  },
  {
   "cell_type": "code",
   "execution_count": 19,
   "id": "814c7ae4",
   "metadata": {},
   "outputs": [],
   "source": [
    "df2['release_date'] = df2['release_date'].astype(str).apply(lambda x: x.replace(',', '')).apply(lambda x: x.replace('  ', ' '))"
   ]
  },
  {
   "cell_type": "code",
   "execution_count": 20,
   "id": "d6e1e07a",
   "metadata": {},
   "outputs": [],
   "source": [
    "df2 = df2[[(len(x) > 7) for x in df2['release_date']]].copy()"
   ]
  },
  {
   "cell_type": "code",
   "execution_count": 21,
   "id": "84636c83",
   "metadata": {},
   "outputs": [],
   "source": [
    "df2 = pd.DataFrame(df2)"
   ]
  },
  {
   "cell_type": "code",
   "execution_count": 22,
   "id": "e70ff7ad",
   "metadata": {},
   "outputs": [],
   "source": [
    "def month_replacement(row):\n",
    "    months = {\n",
    "        \"January\": '01',\n",
    "        \"February\": '02',\n",
    "        \"March\": '03',\n",
    "        \"April\": '04',\n",
    "        \"May\": '05',\n",
    "        \"June\": '06',\n",
    "        \"July\": '07',\n",
    "        \"August\": '08',\n",
    "        \"September\": '09',\n",
    "        \"October\": '10',\n",
    "        \"November\": '11',\n",
    "        \"December\": '12'\n",
    "    }\n",
    "    old_date = row['release_date']\n",
    "    row['release_date'] = ''.join([months.get(i, i) for i in old_date.split()])\n",
    "    return row"
   ]
  },
  {
   "cell_type": "code",
   "execution_count": 23,
   "id": "dce4e263",
   "metadata": {},
   "outputs": [],
   "source": [
    "df2 = df2.apply(month_replacement, axis=1)"
   ]
  },
  {
   "cell_type": "code",
   "execution_count": 24,
   "id": "daf03ef7",
   "metadata": {},
   "outputs": [],
   "source": [
    "df2['release_date'] = pd.to_datetime(df2['release_date'], format='%m%d%Y', errors='coerce')"
   ]
  },
  {
   "cell_type": "code",
   "execution_count": 25,
   "id": "58548f37",
   "metadata": {},
   "outputs": [],
   "source": [
    "df2['opening_weekend_date'] = df2['opening_weekend_date'].astype(str).apply(lambda x: x.replace(',', '')).apply(lambda x: x.replace('  ', ' '))"
   ]
  },
  {
   "cell_type": "code",
   "execution_count": 26,
   "id": "f3ebd385",
   "metadata": {},
   "outputs": [],
   "source": [
    "def short_month_replacement(row):\n",
    "    months = {\n",
    "        \"Jan\": '01',\n",
    "        \"Feb\": '02',\n",
    "        \"Mar\": '03',\n",
    "        \"Apr\": '04',\n",
    "        \"May\": '05',\n",
    "        \"Jun\": '06',\n",
    "        \"Jul\": '07',\n",
    "        \"Aug\": '08',\n",
    "        \"Sep\": '09',\n",
    "        \"Oct\": '10',\n",
    "        \"Nov\": '11',\n",
    "        \"Dec\": '12'\n",
    "    }\n",
    "    old_date = row['opening_weekend_date']\n",
    "    row['opening_weekend_date'] = ''.join([months.get(i, i) for i in old_date.split()])\n",
    "    return row"
   ]
  },
  {
   "cell_type": "code",
   "execution_count": 27,
   "id": "241f305b",
   "metadata": {},
   "outputs": [],
   "source": [
    "df2 = df2.apply(short_month_replacement, axis=1)"
   ]
  },
  {
   "cell_type": "code",
   "execution_count": 28,
   "id": "98746660",
   "metadata": {},
   "outputs": [],
   "source": [
    "df2['opening_weekend_date'] = pd.to_datetime(df2['opening_weekend_date'], format='%m%d%Y', errors='coerce')"
   ]
  },
  {
   "cell_type": "code",
   "execution_count": 29,
   "id": "ae49e2cc",
   "metadata": {},
   "outputs": [],
   "source": [
    "categories = ['language', 'filming_locations', 'filming_locations', 'aspect_ratio', 'local_currency', 'release_country']"
   ]
  },
  {
   "cell_type": "code",
   "execution_count": 30,
   "id": "a8e6dbea",
   "metadata": {},
   "outputs": [],
   "source": [
    "for column in categories: \n",
    "    df2[column].fillna('Not defined', inplace=True)"
   ]
  },
  {
   "cell_type": "code",
   "execution_count": 31,
   "id": "354a2967",
   "metadata": {},
   "outputs": [],
   "source": [
    "def currency_replacement(row):\n",
    "    currencies = {\n",
    "        '$': 'USD',\n",
    "        '€': 'EUR',\n",
    "        '£': 'GBP',\n",
    "        'CA$': 'CAD',\n",
    "        '₹': 'INR',\n",
    "        'RUR': 'RUB'\n",
    "    }\n",
    "    old_currency = row['local_currency']\n",
    "    row['local_currency'] = ' '.join(\n",
    "        [currencies.get(i, i) for i in old_currency.split()])\n",
    "    return row"
   ]
  },
  {
   "cell_type": "code",
   "execution_count": 32,
   "id": "c7396b74",
   "metadata": {},
   "outputs": [],
   "source": [
    "df2 = df2.apply(currency_replacement, axis=1)"
   ]
  },
  {
   "cell_type": "code",
   "execution_count": 33,
   "id": "93cf3ce4",
   "metadata": {},
   "outputs": [],
   "source": [
    "money_cols = ['gross_us_canada', 'opening_weekend_us_canada_usd', 'gross_worldwide', 'local_currency_budget']"
   ]
  },
  {
   "cell_type": "code",
   "execution_count": 34,
   "id": "b238798e",
   "metadata": {},
   "outputs": [],
   "source": [
    "for col in money_cols: \n",
    "    df2[col] = df2[col].str.replace('$', '', regex=True)\n",
    "    df2[col] = df2[col].astype(float)"
   ]
  },
  {
   "cell_type": "code",
   "execution_count": 35,
   "id": "b5a33351",
   "metadata": {},
   "outputs": [],
   "source": [
    "def filming_location_split(row):\n",
    "    if row['filming_locations'] != 'Not defined': \n",
    "        location = row['filming_locations'].split(',')\n",
    "        row['filming_country'] = location[-1]\n",
    "        row['filming_locations'] = ', '.join(location[:-1])\n",
    "    return row"
   ]
  },
  {
   "cell_type": "code",
   "execution_count": 36,
   "id": "5441fdd7",
   "metadata": {},
   "outputs": [],
   "source": [
    "df2 = df2.apply(filming_location_split, axis=1)"
   ]
  },
  {
   "cell_type": "code",
   "execution_count": 37,
   "id": "efd8e6a9",
   "metadata": {},
   "outputs": [],
   "source": [
    "df2 = df2[['movie_id', 'title', 'filming_country', 'filming_locations',\n",
    "          'language', 'release_country', 'release_date', 'aspect_ratio',\n",
    "          'local_currency_budget', 'local_currency', 'opening_weekend_date',\n",
    "          'opening_weekend_us_canada_usd', 'gross_us_canada',\n",
    "          'gross_worldwide', 'movie_url']]"
   ]
  },
  {
   "cell_type": "code",
   "execution_count": 38,
   "id": "055e201f",
   "metadata": {},
   "outputs": [],
   "source": [
    "df2['filming_country'] = df2['filming_country'].fillna('Not defined')"
   ]
  },
  {
   "cell_type": "code",
   "execution_count": 39,
   "id": "f1a4f34d",
   "metadata": {},
   "outputs": [
    {
     "name": "stdout",
     "output_type": "stream",
     "text": [
      "<class 'pandas.core.frame.DataFrame'>\n",
      "Int64Index: 1184 entries, 0 to 1259\n",
      "Data columns (total 15 columns):\n",
      " #   Column                         Non-Null Count  Dtype         \n",
      "---  ------                         --------------  -----         \n",
      " 0   movie_id                       1184 non-null   object        \n",
      " 1   title                          1184 non-null   object        \n",
      " 2   filming_country                1184 non-null   object        \n",
      " 3   filming_locations              1184 non-null   object        \n",
      " 4   language                       1184 non-null   object        \n",
      " 5   release_country                1184 non-null   object        \n",
      " 6   release_date                   1163 non-null   datetime64[ns]\n",
      " 7   aspect_ratio                   1184 non-null   object        \n",
      " 8   local_currency_budget          277 non-null    float64       \n",
      " 9   local_currency                 1184 non-null   object        \n",
      " 10  opening_weekend_date           225 non-null    datetime64[ns]\n",
      " 11  opening_weekend_us_canada_usd  225 non-null    float64       \n",
      " 12  gross_us_canada                238 non-null    float64       \n",
      " 13  gross_worldwide                272 non-null    float64       \n",
      " 14  movie_url                      1184 non-null   object        \n",
      "dtypes: datetime64[ns](2), float64(4), object(9)\n",
      "memory usage: 148.0+ KB\n"
     ]
    }
   ],
   "source": [
    "df2.info()"
   ]
  },
  {
   "cell_type": "code",
   "execution_count": null,
   "id": "41048e3c",
   "metadata": {},
   "outputs": [],
   "source": [
    "df2.to_csv('financial_data.csv')"
   ]
  },
  {
   "cell_type": "code",
   "execution_count": null,
   "id": "f6576ef0",
   "metadata": {},
   "outputs": [],
   "source": [
    "cast.to_csv('top_cast.csv')\n",
    "director.to_csv('directors.csv')\n",
    "writer.to_csv('writers.csv')\n",
    "country_of_origin.to_csv('countries_of_origin.csv')\n",
    "production_company.to_csv('production_companies.csv')"
   ]
  }
 ],
 "metadata": {
  "kernelspec": {
   "display_name": "Python 3 (ipykernel)",
   "language": "python",
   "name": "python3"
  },
  "language_info": {
   "codemirror_mode": {
    "name": "ipython",
    "version": 3
   },
   "file_extension": ".py",
   "mimetype": "text/x-python",
   "name": "python",
   "nbconvert_exporter": "python",
   "pygments_lexer": "ipython3",
   "version": "3.9.15"
  }
 },
 "nbformat": 4,
 "nbformat_minor": 5
}
