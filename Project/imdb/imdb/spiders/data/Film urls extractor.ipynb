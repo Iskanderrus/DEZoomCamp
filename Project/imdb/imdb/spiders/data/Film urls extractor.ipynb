{
 "cells": [
  {
   "cell_type": "code",
   "execution_count": 21,
   "id": "b8088f7b",
   "metadata": {},
   "outputs": [],
   "source": [
    "import glob\n",
    "import pandas as pd"
   ]
  },
  {
   "cell_type": "code",
   "execution_count": 22,
   "id": "70f3d38d",
   "metadata": {},
   "outputs": [],
   "source": [
    "files = glob.glob(\"*.csv\")"
   ]
  },
  {
   "cell_type": "code",
   "execution_count": 23,
   "id": "e79fa1f3",
   "metadata": {},
   "outputs": [],
   "source": [
    "dfs = [pd.read_csv(f, low_memory=False, usecols = ['movie_url']) for f in files]"
   ]
  },
  {
   "cell_type": "code",
   "execution_count": 24,
   "id": "98a8c61f",
   "metadata": {},
   "outputs": [],
   "source": [
    "urls_list = []\n",
    "for df in dfs: \n",
    "    urls_list.append(df.movie_url)"
   ]
  },
  {
   "cell_type": "code",
   "execution_count": 25,
   "id": "15da857e",
   "metadata": {},
   "outputs": [],
   "source": [
    "urls = pd.concat(urls_list, ignore_index=True)"
   ]
  },
  {
   "cell_type": "code",
   "execution_count": 26,
   "id": "fd8aaebf",
   "metadata": {},
   "outputs": [],
   "source": [
    "urls.drop_duplicates(keep='first', inplace=True)"
   ]
  },
  {
   "cell_type": "code",
   "execution_count": 27,
   "id": "536535ff",
   "metadata": {},
   "outputs": [],
   "source": [
    "urls.to_csv('../../../../imdb_financial/imdb_financial/spiders/data/film_urls.csv')"
   ]
  },
  {
   "cell_type": "code",
   "execution_count": 28,
   "id": "5bbc9a33",
   "metadata": {},
   "outputs": [
    {
     "data": {
      "text/plain": [
       "(1375146,)"
      ]
     },
     "execution_count": 28,
     "metadata": {},
     "output_type": "execute_result"
    }
   ],
   "source": [
    "urls.shape"
   ]
  },
  {
   "cell_type": "code",
   "execution_count": null,
   "id": "a6e82dce",
   "metadata": {},
   "outputs": [],
   "source": []
  }
 ],
 "metadata": {
  "kernelspec": {
   "display_name": "Python 3 (ipykernel)",
   "language": "python",
   "name": "python3"
  },
  "language_info": {
   "codemirror_mode": {
    "name": "ipython",
    "version": 3
   },
   "file_extension": ".py",
   "mimetype": "text/x-python",
   "name": "python",
   "nbconvert_exporter": "python",
   "pygments_lexer": "ipython3",
   "version": "3.9.15"
  }
 },
 "nbformat": 4,
 "nbformat_minor": 5
}
