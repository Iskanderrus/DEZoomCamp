{
 "cells": [
  {
   "cell_type": "code",
   "execution_count": 348,
   "id": "e0571c22",
   "metadata": {},
   "outputs": [],
   "source": [
    "import pandas as pd\n",
    "import numpy as np\n",
    "import re"
   ]
  },
  {
   "cell_type": "code",
   "execution_count": 349,
   "id": "e5c14d3d",
   "metadata": {},
   "outputs": [],
   "source": [
    "df = pd.read_csv('action.csv', low_memory=True)"
   ]
  },
  {
   "cell_type": "code",
   "execution_count": 350,
   "id": "4dfa97ae",
   "metadata": {},
   "outputs": [],
   "source": [
    "df['popularity'] = df.loc[:,'popularity'].apply(lambda x: x.strip('.')).apply(lambda x: x.replace(',', ''))"
   ]
  },
  {
   "cell_type": "code",
   "execution_count": 351,
   "id": "4265a406",
   "metadata": {},
   "outputs": [],
   "source": [
    "df[['title','episode', 'age', 'duration', 'genre', 'votes', 'description']] = df.loc[:,['title','episode', 'age', 'duration', 'genre', 'votes', 'description']].apply(lambda x: x.str.replace('\\n', '')).apply(lambda x: x.str.strip())"
   ]
  },
  {
   "cell_type": "code",
   "execution_count": 352,
   "id": "8aaa837c",
   "metadata": {},
   "outputs": [],
   "source": [
    "df['year'] = df['year'].str.extract(r'(\\d{4}?)', expand=False)"
   ]
  },
  {
   "cell_type": "code",
   "execution_count": 353,
   "id": "d7bce3e6",
   "metadata": {},
   "outputs": [],
   "source": [
    "df['episode_year'] = df['episode_year'].str.extract(r'(\\d{4}?)', expand=False)"
   ]
  },
  {
   "cell_type": "code",
   "execution_count": 354,
   "id": "16793745",
   "metadata": {},
   "outputs": [],
   "source": [
    "df['duration'] = df.loc[:,'duration'].astype(str).apply(lambda x: x.split(' ')[0]).apply(lambda x: x.replace(',', '')).astype(float)"
   ]
  },
  {
   "cell_type": "code",
   "execution_count": 355,
   "id": "25472716",
   "metadata": {},
   "outputs": [],
   "source": [
    "df['votes'] = df.loc[:,'votes'].astype(str).apply(lambda x: x.replace(',', ''))"
   ]
  },
  {
   "cell_type": "code",
   "execution_count": 356,
   "id": "bbcb15c9",
   "metadata": {},
   "outputs": [],
   "source": [
    "df['votes'] = pd.to_numeric(df['votes'], downcast='float', errors='coerce')"
   ]
  },
  {
   "cell_type": "code",
   "execution_count": 357,
   "id": "3abdf6eb",
   "metadata": {},
   "outputs": [],
   "source": [
    "df['votes'].fillna(0, inplace=True)"
   ]
  },
  {
   "cell_type": "code",
   "execution_count": 358,
   "id": "94836c27",
   "metadata": {},
   "outputs": [],
   "source": [
    "df['votes'] = pd.to_numeric(df['votes'], downcast='integer')"
   ]
  },
  {
   "cell_type": "code",
   "execution_count": 359,
   "id": "374ce3ee",
   "metadata": {},
   "outputs": [],
   "source": [
    "df['popularity'] = pd.to_numeric(df['popularity'], downcast='integer')"
   ]
  },
  {
   "cell_type": "code",
   "execution_count": 360,
   "id": "1035bc2a",
   "metadata": {},
   "outputs": [],
   "source": [
    "df = df[df['year'].notna()]"
   ]
  },
  {
   "cell_type": "code",
   "execution_count": 361,
   "id": "c7bf3c7a",
   "metadata": {},
   "outputs": [],
   "source": [
    "df['year'] = pd.to_numeric(df['year'], downcast='integer')"
   ]
  },
  {
   "cell_type": "code",
   "execution_count": 362,
   "id": "3476b7f0",
   "metadata": {},
   "outputs": [],
   "source": [
    "df['episode_year'] = pd.to_numeric(df['episode_year'], downcast='float')"
   ]
  },
  {
   "cell_type": "code",
   "execution_count": 363,
   "id": "075aa81e",
   "metadata": {},
   "outputs": [],
   "source": [
    "df['rating'].fillna('Not Rated', inplace=True)"
   ]
  },
  {
   "cell_type": "code",
   "execution_count": 364,
   "id": "639815c8",
   "metadata": {},
   "outputs": [],
   "source": [
    "df['episode'].fillna('No Episodes', inplace=True)"
   ]
  },
  {
   "cell_type": "code",
   "execution_count": 365,
   "id": "48edb5ca",
   "metadata": {},
   "outputs": [],
   "source": [
    "df['age'].fillna('Not Rated', inplace=True)"
   ]
  },
  {
   "cell_type": "code",
   "execution_count": 366,
   "id": "391969a5",
   "metadata": {},
   "outputs": [],
   "source": [
    "df['duration'] = df['duration'].fillna(0)"
   ]
  },
  {
   "cell_type": "code",
   "execution_count": 367,
   "id": "597f13f0",
   "metadata": {},
   "outputs": [],
   "source": [
    "df['duration'] = pd.to_numeric(df['duration'], downcast='integer')"
   ]
  },
  {
   "cell_type": "code",
   "execution_count": 368,
   "id": "1cd296a5",
   "metadata": {},
   "outputs": [],
   "source": [
    "df['description'].fillna('No description', inplace=True)"
   ]
  },
  {
   "cell_type": "code",
   "execution_count": 369,
   "id": "cdfb3216",
   "metadata": {},
   "outputs": [
    {
     "name": "stdout",
     "output_type": "stream",
     "text": [
      "<class 'pandas.core.frame.DataFrame'>\n",
      "Int64Index: 176074 entries, 0 to 189797\n",
      "Data columns (total 12 columns):\n",
      " #   Column        Non-Null Count   Dtype  \n",
      "---  ------        --------------   -----  \n",
      " 0   popularity    176074 non-null  int32  \n",
      " 1   title         176074 non-null  object \n",
      " 2   episode       176074 non-null  object \n",
      " 3   year          176074 non-null  int16  \n",
      " 4   episode_year  64408 non-null   float32\n",
      " 5   rating        176074 non-null  object \n",
      " 6   age           176074 non-null  object \n",
      " 7   duration      176074 non-null  int16  \n",
      " 8   genre         176074 non-null  object \n",
      " 9   votes         176074 non-null  int32  \n",
      " 10  description   176074 non-null  object \n",
      " 11  movie_url     176074 non-null  object \n",
      "dtypes: float32(1), int16(2), int32(2), object(7)\n",
      "memory usage: 13.4+ MB\n"
     ]
    }
   ],
   "source": [
    "df.info()"
   ]
  },
  {
   "cell_type": "code",
   "execution_count": null,
   "id": "bea348cb",
   "metadata": {},
   "outputs": [],
   "source": []
  }
 ],
 "metadata": {
  "kernelspec": {
   "display_name": "Python 3 (ipykernel)",
   "language": "python",
   "name": "python3"
  },
  "language_info": {
   "codemirror_mode": {
    "name": "ipython",
    "version": 3
   },
   "file_extension": ".py",
   "mimetype": "text/x-python",
   "name": "python",
   "nbconvert_exporter": "python",
   "pygments_lexer": "ipython3",
   "version": "3.9.15"
  }
 },
 "nbformat": 4,
 "nbformat_minor": 5
}
