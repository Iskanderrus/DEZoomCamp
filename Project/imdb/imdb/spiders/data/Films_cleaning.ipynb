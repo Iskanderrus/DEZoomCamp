{
 "cells": [
  {
   "cell_type": "code",
   "execution_count": 1,
   "id": "90e36a92",
   "metadata": {},
   "outputs": [],
   "source": [
    "import pandas as pd"
   ]
  },
  {
   "cell_type": "code",
   "execution_count": 2,
   "id": "d41c9729",
   "metadata": {},
   "outputs": [],
   "source": [
    "df = pd.read_csv('action.csv', low_memory=True)"
   ]
  },
  {
   "cell_type": "code",
   "execution_count": 24,
   "id": "570605a9",
   "metadata": {},
   "outputs": [
    {
     "data": {
      "text/html": [
       "<div>\n",
       "<style scoped>\n",
       "    .dataframe tbody tr th:only-of-type {\n",
       "        vertical-align: middle;\n",
       "    }\n",
       "\n",
       "    .dataframe tbody tr th {\n",
       "        vertical-align: top;\n",
       "    }\n",
       "\n",
       "    .dataframe thead th {\n",
       "        text-align: right;\n",
       "    }\n",
       "</style>\n",
       "<table border=\"1\" class=\"dataframe\">\n",
       "  <thead>\n",
       "    <tr style=\"text-align: right;\">\n",
       "      <th></th>\n",
       "      <th>popularity</th>\n",
       "      <th>title</th>\n",
       "      <th>main_genre</th>\n",
       "      <th>episode</th>\n",
       "      <th>year</th>\n",
       "      <th>episode_year</th>\n",
       "      <th>rating</th>\n",
       "      <th>age</th>\n",
       "      <th>duration</th>\n",
       "      <th>genre</th>\n",
       "      <th>votes</th>\n",
       "      <th>description</th>\n",
       "      <th>movie_url</th>\n",
       "      <th>movie_id</th>\n",
       "    </tr>\n",
       "  </thead>\n",
       "  <tbody>\n",
       "    <tr>\n",
       "      <th>0</th>\n",
       "      <td>1</td>\n",
       "      <td>The Night Agent</td>\n",
       "      <td>action</td>\n",
       "      <td>No Episodes</td>\n",
       "      <td>2023</td>\n",
       "      <td>NaN</td>\n",
       "      <td>7.6</td>\n",
       "      <td>TV-MA</td>\n",
       "      <td>0</td>\n",
       "      <td>Action, Drama, Thriller</td>\n",
       "      <td>41612</td>\n",
       "      <td>Low-level FBI agent, Peter Sutherland, works i...</td>\n",
       "      <td>https://www.imdb.com/title/tt13918776/</td>\n",
       "      <td>tt13918776</td>\n",
       "    </tr>\n",
       "    <tr>\n",
       "      <th>1</th>\n",
       "      <td>2</td>\n",
       "      <td>The Mandalorian</td>\n",
       "      <td>action</td>\n",
       "      <td>No Episodes</td>\n",
       "      <td>2019</td>\n",
       "      <td>NaN</td>\n",
       "      <td>8.7</td>\n",
       "      <td>TV-14</td>\n",
       "      <td>40</td>\n",
       "      <td>Action, Adventure, Fantasy</td>\n",
       "      <td>528333</td>\n",
       "      <td>The travels of a lone bounty hunter in the out...</td>\n",
       "      <td>https://www.imdb.com/title/tt8111088/</td>\n",
       "      <td>tt8111088</td>\n",
       "    </tr>\n",
       "    <tr>\n",
       "      <th>2</th>\n",
       "      <td>3</td>\n",
       "      <td>Dungeons &amp; Dragons: Honor Among Thieves</td>\n",
       "      <td>action</td>\n",
       "      <td>No Episodes</td>\n",
       "      <td>2023</td>\n",
       "      <td>NaN</td>\n",
       "      <td>7.6</td>\n",
       "      <td>PG-13</td>\n",
       "      <td>134</td>\n",
       "      <td>Action, Adventure, Comedy</td>\n",
       "      <td>38216</td>\n",
       "      <td>A charming thief and a band of unlikely advent...</td>\n",
       "      <td>https://www.imdb.com/title/tt2906216/</td>\n",
       "      <td>tt2906216</td>\n",
       "    </tr>\n",
       "    <tr>\n",
       "      <th>3</th>\n",
       "      <td>4</td>\n",
       "      <td>John Wick: Chapter 4</td>\n",
       "      <td>action</td>\n",
       "      <td>No Episodes</td>\n",
       "      <td>2023</td>\n",
       "      <td>NaN</td>\n",
       "      <td>8.2</td>\n",
       "      <td>R</td>\n",
       "      <td>169</td>\n",
       "      <td>Action, Crime, Thriller</td>\n",
       "      <td>109906</td>\n",
       "      <td>John Wick uncovers a path to defeating The Hig...</td>\n",
       "      <td>https://www.imdb.com/title/tt10366206/</td>\n",
       "      <td>tt10366206</td>\n",
       "    </tr>\n",
       "    <tr>\n",
       "      <th>4</th>\n",
       "      <td>5</td>\n",
       "      <td>Murder Mystery 2</td>\n",
       "      <td>action</td>\n",
       "      <td>No Episodes</td>\n",
       "      <td>2023</td>\n",
       "      <td>NaN</td>\n",
       "      <td>5.6</td>\n",
       "      <td>PG-13</td>\n",
       "      <td>90</td>\n",
       "      <td>Action, Comedy, Crime</td>\n",
       "      <td>33382</td>\n",
       "      <td>Full-time detectives Nick and Audrey are strug...</td>\n",
       "      <td>https://www.imdb.com/title/tt15255288/</td>\n",
       "      <td>tt15255288</td>\n",
       "    </tr>\n",
       "  </tbody>\n",
       "</table>\n",
       "</div>"
      ],
      "text/plain": [
       "   popularity                                    title main_genre  \\\n",
       "0           1                          The Night Agent     action   \n",
       "1           2                          The Mandalorian     action   \n",
       "2           3  Dungeons & Dragons: Honor Among Thieves     action   \n",
       "3           4                     John Wick: Chapter 4     action   \n",
       "4           5                         Murder Mystery 2     action   \n",
       "\n",
       "       episode  year  episode_year rating    age  duration  \\\n",
       "0  No Episodes  2023           NaN    7.6  TV-MA         0   \n",
       "1  No Episodes  2019           NaN    8.7  TV-14        40   \n",
       "2  No Episodes  2023           NaN    7.6  PG-13       134   \n",
       "3  No Episodes  2023           NaN    8.2      R       169   \n",
       "4  No Episodes  2023           NaN    5.6  PG-13        90   \n",
       "\n",
       "                        genre   votes  \\\n",
       "0     Action, Drama, Thriller   41612   \n",
       "1  Action, Adventure, Fantasy  528333   \n",
       "2   Action, Adventure, Comedy   38216   \n",
       "3     Action, Crime, Thriller  109906   \n",
       "4       Action, Comedy, Crime   33382   \n",
       "\n",
       "                                         description  \\\n",
       "0  Low-level FBI agent, Peter Sutherland, works i...   \n",
       "1  The travels of a lone bounty hunter in the out...   \n",
       "2  A charming thief and a band of unlikely advent...   \n",
       "3  John Wick uncovers a path to defeating The Hig...   \n",
       "4  Full-time detectives Nick and Audrey are strug...   \n",
       "\n",
       "                                movie_url    movie_id  \n",
       "0  https://www.imdb.com/title/tt13918776/  tt13918776  \n",
       "1   https://www.imdb.com/title/tt8111088/   tt8111088  \n",
       "2   https://www.imdb.com/title/tt2906216/   tt2906216  \n",
       "3  https://www.imdb.com/title/tt10366206/  tt10366206  \n",
       "4  https://www.imdb.com/title/tt15255288/  tt15255288  "
      ]
     },
     "execution_count": 24,
     "metadata": {},
     "output_type": "execute_result"
    }
   ],
   "source": [
    "df.head()"
   ]
  },
  {
   "cell_type": "code",
   "execution_count": 25,
   "id": "d6ab2867",
   "metadata": {},
   "outputs": [
    {
     "name": "stdout",
     "output_type": "stream",
     "text": [
      "<class 'pandas.core.frame.DataFrame'>\n",
      "Int64Index: 374303 entries, 0 to 389067\n",
      "Data columns (total 14 columns):\n",
      " #   Column        Non-Null Count   Dtype  \n",
      "---  ------        --------------   -----  \n",
      " 0   popularity    374303 non-null  int32  \n",
      " 1   title         374303 non-null  object \n",
      " 2   main_genre    374303 non-null  object \n",
      " 3   episode       374303 non-null  object \n",
      " 4   year          374303 non-null  int16  \n",
      " 5   episode_year  246296 non-null  float32\n",
      " 6   rating        374303 non-null  object \n",
      " 7   age           374303 non-null  object \n",
      " 8   duration      374303 non-null  int16  \n",
      " 9   genre         374303 non-null  object \n",
      " 10  votes         374303 non-null  int32  \n",
      " 11  description   374303 non-null  object \n",
      " 12  movie_url     374303 non-null  object \n",
      " 13  movie_id      374303 non-null  object \n",
      "dtypes: float32(1), int16(2), int32(2), object(9)\n",
      "memory usage: 34.3+ MB\n"
     ]
    }
   ],
   "source": [
    "df.info()"
   ]
  },
  {
   "cell_type": "code",
   "execution_count": 23,
   "id": "db054f33",
   "metadata": {},
   "outputs": [],
   "source": [
    "df.loc[:, 'movie_id'] = df.loc[:,'movie_url'].str.extract('([t]{2}\\d+)', expand=False)"
   ]
  },
  {
   "cell_type": "code",
   "execution_count": 4,
   "id": "ba7f78b6",
   "metadata": {},
   "outputs": [],
   "source": [
    "df['popularity'] = df.loc[:, 'popularity'].apply(lambda x: x.strip('.')).apply(lambda x: x.replace(',', ''))"
   ]
  },
  {
   "cell_type": "code",
   "execution_count": 7,
   "id": "a0e10d30",
   "metadata": {},
   "outputs": [],
   "source": [
    "df[['title', 'episode', 'age', 'duration', 'genre', 'votes', 'description']] = df.loc[:,\n",
    "                                                                               ['title', 'episode', 'age', 'duration',\n",
    "                                                                                'genre', 'votes', 'description']].apply(\n",
    "    lambda x: x.str.replace('\\n', '')).apply(lambda x: x.str.strip())"
   ]
  },
  {
   "cell_type": "code",
   "execution_count": 10,
   "id": "4e24dc5a",
   "metadata": {},
   "outputs": [],
   "source": [
    "df['year'] = df['year'].str.extract(r'(\\d{4}?)', expand=False)\n",
    "df['episode_year'] = df['episode_year'].str.extract(r'(\\d{4}?)', expand=False)"
   ]
  },
  {
   "cell_type": "code",
   "execution_count": 12,
   "id": "50ed89fb",
   "metadata": {},
   "outputs": [],
   "source": [
    "df['duration'] = df.loc[:, 'duration'].astype(str).apply(lambda x: x.split(' ')[0]).apply(\n",
    "    lambda x: x.replace(',', '')).astype(float)"
   ]
  },
  {
   "cell_type": "code",
   "execution_count": 14,
   "id": "a83acdeb",
   "metadata": {},
   "outputs": [],
   "source": [
    "df['votes'] = df.loc[:, 'votes'].astype(str).apply(lambda x: x.replace(',', ''))\n",
    "df['votes'] = pd.to_numeric(df['votes'], downcast='float', errors='coerce')\n",
    "df['votes'].fillna(0, inplace=True)\n",
    "df['votes'] = pd.to_numeric(df['votes'], downcast='integer')"
   ]
  },
  {
   "cell_type": "code",
   "execution_count": 16,
   "id": "90a578d3",
   "metadata": {},
   "outputs": [],
   "source": [
    "df['popularity'] = pd.to_numeric(df['popularity'], downcast='integer')"
   ]
  },
  {
   "cell_type": "code",
   "execution_count": 19,
   "id": "49f7a502",
   "metadata": {},
   "outputs": [],
   "source": [
    "df = df[df['year'].notna()]\n",
    "df['year'] = pd.to_numeric(df['year'], downcast='integer')"
   ]
  },
  {
   "cell_type": "code",
   "execution_count": 20,
   "id": "b76063a4",
   "metadata": {},
   "outputs": [],
   "source": [
    "df['episode_year'] = pd.to_numeric(df['episode_year'], downcast='float')\n",
    "df['rating'].fillna('Not Rated', inplace=True)\n",
    "df['episode'].fillna('No Episodes', inplace=True)\n",
    "df['age'].fillna('Not Rated', inplace=True)\n",
    "df['duration'] = df['duration'].fillna(0)\n",
    "df['duration'] = pd.to_numeric(df['duration'], downcast='integer')\n",
    "df['description'].fillna('No description', inplace=True)"
   ]
  },
  {
   "cell_type": "code",
   "execution_count": null,
   "id": "fcc705ea",
   "metadata": {},
   "outputs": [],
   "source": [
    "\n",
    "\n",
    "\n",
    "\n",
    "\n"
   ]
  }
 ],
 "metadata": {
  "kernelspec": {
   "display_name": "Python 3 (ipykernel)",
   "language": "python",
   "name": "python3"
  },
  "language_info": {
   "codemirror_mode": {
    "name": "ipython",
    "version": 3
   },
   "file_extension": ".py",
   "mimetype": "text/x-python",
   "name": "python",
   "nbconvert_exporter": "python",
   "pygments_lexer": "ipython3",
   "version": "3.9.15"
  }
 },
 "nbformat": 4,
 "nbformat_minor": 5
}
