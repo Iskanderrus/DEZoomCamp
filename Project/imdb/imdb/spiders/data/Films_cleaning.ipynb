{
 "cells": [
  {
   "cell_type": "code",
   "execution_count": 71,
   "id": "e0571c22",
   "metadata": {},
   "outputs": [],
   "source": [
    "import pandas as pd\n",
    "import numpy as np\n",
    "import re"
   ]
  },
  {
   "cell_type": "code",
   "execution_count": 72,
   "id": "e5c14d3d",
   "metadata": {},
   "outputs": [],
   "source": [
    "df = pd.read_csv('action.csv', low_memory=True)"
   ]
  },
  {
   "cell_type": "code",
   "execution_count": 73,
   "id": "ed658b8b",
   "metadata": {
    "scrolled": true
   },
   "outputs": [
    {
     "data": {
      "text/html": [
       "<div>\n",
       "<style scoped>\n",
       "    .dataframe tbody tr th:only-of-type {\n",
       "        vertical-align: middle;\n",
       "    }\n",
       "\n",
       "    .dataframe tbody tr th {\n",
       "        vertical-align: top;\n",
       "    }\n",
       "\n",
       "    .dataframe thead th {\n",
       "        text-align: right;\n",
       "    }\n",
       "</style>\n",
       "<table border=\"1\" class=\"dataframe\">\n",
       "  <thead>\n",
       "    <tr style=\"text-align: right;\">\n",
       "      <th></th>\n",
       "      <th>popularity</th>\n",
       "      <th>title</th>\n",
       "      <th>main_genre</th>\n",
       "      <th>episode</th>\n",
       "      <th>year</th>\n",
       "      <th>episode_year</th>\n",
       "      <th>rating</th>\n",
       "      <th>age</th>\n",
       "      <th>duration</th>\n",
       "      <th>genre</th>\n",
       "      <th>votes</th>\n",
       "      <th>description</th>\n",
       "      <th>movie_url</th>\n",
       "    </tr>\n",
       "  </thead>\n",
       "  <tbody>\n",
       "    <tr>\n",
       "      <th>0</th>\n",
       "      <td>1.</td>\n",
       "      <td>The Night Agent</td>\n",
       "      <td>action</td>\n",
       "      <td>NaN</td>\n",
       "      <td>(2023– )</td>\n",
       "      <td>NaN</td>\n",
       "      <td>7.6</td>\n",
       "      <td>TV-MA</td>\n",
       "      <td>NaN</td>\n",
       "      <td>Action, Drama, Thriller</td>\n",
       "      <td>41,612</td>\n",
       "      <td>Low-level FBI agent, Peter Sutherland, works i...</td>\n",
       "      <td>https://www.imdb.com/title/tt13918776/</td>\n",
       "    </tr>\n",
       "    <tr>\n",
       "      <th>1</th>\n",
       "      <td>2.</td>\n",
       "      <td>The Mandalorian</td>\n",
       "      <td>action</td>\n",
       "      <td>NaN</td>\n",
       "      <td>(2019– )</td>\n",
       "      <td>NaN</td>\n",
       "      <td>8.7</td>\n",
       "      <td>TV-14</td>\n",
       "      <td>40 min</td>\n",
       "      <td>Action, Adventure, Fantasy</td>\n",
       "      <td>528,333</td>\n",
       "      <td>The travels of a lone bounty hunter in the out...</td>\n",
       "      <td>https://www.imdb.com/title/tt8111088/</td>\n",
       "    </tr>\n",
       "    <tr>\n",
       "      <th>2</th>\n",
       "      <td>3.</td>\n",
       "      <td>Dungeons &amp; Dragons: Honor Among Thieves</td>\n",
       "      <td>action</td>\n",
       "      <td>NaN</td>\n",
       "      <td>(2023)</td>\n",
       "      <td>NaN</td>\n",
       "      <td>7.6</td>\n",
       "      <td>PG-13</td>\n",
       "      <td>134 min</td>\n",
       "      <td>Action, Adventure, Comedy</td>\n",
       "      <td>38,216</td>\n",
       "      <td>A charming thief and a band of unlikely advent...</td>\n",
       "      <td>https://www.imdb.com/title/tt2906216/</td>\n",
       "    </tr>\n",
       "    <tr>\n",
       "      <th>3</th>\n",
       "      <td>4.</td>\n",
       "      <td>John Wick: Chapter 4</td>\n",
       "      <td>action</td>\n",
       "      <td>NaN</td>\n",
       "      <td>(2023)</td>\n",
       "      <td>NaN</td>\n",
       "      <td>8.2</td>\n",
       "      <td>R</td>\n",
       "      <td>169 min</td>\n",
       "      <td>Action, Crime, Thriller</td>\n",
       "      <td>109,906</td>\n",
       "      <td>John Wick uncovers a path to defeating The Hig...</td>\n",
       "      <td>https://www.imdb.com/title/tt10366206/</td>\n",
       "    </tr>\n",
       "    <tr>\n",
       "      <th>4</th>\n",
       "      <td>5.</td>\n",
       "      <td>Murder Mystery 2</td>\n",
       "      <td>action</td>\n",
       "      <td>NaN</td>\n",
       "      <td>(2023)</td>\n",
       "      <td>NaN</td>\n",
       "      <td>5.6</td>\n",
       "      <td>PG-13</td>\n",
       "      <td>90 min</td>\n",
       "      <td>Action, Comedy, Crime</td>\n",
       "      <td>33,382</td>\n",
       "      <td>Full-time detectives Nick and Audrey are strug...</td>\n",
       "      <td>https://www.imdb.com/title/tt15255288/</td>\n",
       "    </tr>\n",
       "  </tbody>\n",
       "</table>\n",
       "</div>"
      ],
      "text/plain": [
       "  popularity                                    title main_genre episode  \\\n",
       "0         1.                          The Night Agent     action     NaN   \n",
       "1         2.                          The Mandalorian     action     NaN   \n",
       "2         3.  Dungeons & Dragons: Honor Among Thieves     action     NaN   \n",
       "3         4.                     John Wick: Chapter 4     action     NaN   \n",
       "4         5.                         Murder Mystery 2     action     NaN   \n",
       "\n",
       "       year episode_year  rating    age duration                       genre  \\\n",
       "0  (2023– )          NaN     7.6  TV-MA      NaN     Action, Drama, Thriller   \n",
       "1  (2019– )          NaN     8.7  TV-14   40 min  Action, Adventure, Fantasy   \n",
       "2    (2023)          NaN     7.6  PG-13  134 min   Action, Adventure, Comedy   \n",
       "3    (2023)          NaN     8.2      R  169 min     Action, Crime, Thriller   \n",
       "4    (2023)          NaN     5.6  PG-13   90 min       Action, Comedy, Crime   \n",
       "\n",
       "     votes                                        description  \\\n",
       "0   41,612  Low-level FBI agent, Peter Sutherland, works i...   \n",
       "1  528,333  The travels of a lone bounty hunter in the out...   \n",
       "2   38,216  A charming thief and a band of unlikely advent...   \n",
       "3  109,906  John Wick uncovers a path to defeating The Hig...   \n",
       "4   33,382  Full-time detectives Nick and Audrey are strug...   \n",
       "\n",
       "                                movie_url  \n",
       "0  https://www.imdb.com/title/tt13918776/  \n",
       "1   https://www.imdb.com/title/tt8111088/  \n",
       "2   https://www.imdb.com/title/tt2906216/  \n",
       "3  https://www.imdb.com/title/tt10366206/  \n",
       "4  https://www.imdb.com/title/tt15255288/  "
      ]
     },
     "execution_count": 73,
     "metadata": {},
     "output_type": "execute_result"
    }
   ],
   "source": [
    "df.head()"
   ]
  },
  {
   "cell_type": "code",
   "execution_count": 74,
   "id": "554ed9d3",
   "metadata": {},
   "outputs": [
    {
     "data": {
      "text/plain": [
       "Episode #1.1                                                                     1744\n",
       "Episode #1.2                                                                     1588\n",
       "Episode #1.3                                                                     1497\n",
       "Episode #1.4                                                                     1431\n",
       "Episode #1.5                                                                     1326\n",
       "                                                                                 ... \n",
       "Maigo sagashi                                                                       1\n",
       "WWE ThunderDome: Bottled Up Aggression                                              1\n",
       "WWE ThunderDome: Countdown to WWE TLC - Tables Ladders Chairs 2020                  1\n",
       "WWE ThunderDome: Merry Christmas/WWE TLC - Tables Ladders Chairs 2020 Fallout       1\n",
       "Nothing But Truffle                                                                 1\n",
       "Name: episode, Length: 174656, dtype: int64"
      ]
     },
     "execution_count": 74,
     "metadata": {},
     "output_type": "execute_result"
    }
   ],
   "source": [
    "df.episode.value_counts()"
   ]
  },
  {
   "cell_type": "code",
   "execution_count": 75,
   "id": "aacbcb1a",
   "metadata": {},
   "outputs": [],
   "source": [
    "df['movie_id'] = df.loc[:,['movie_url']].apply(lambda x: x.str.split('/').str[-2])"
   ]
  },
  {
   "cell_type": "code",
   "execution_count": 76,
   "id": "88058468",
   "metadata": {},
   "outputs": [
    {
     "data": {
      "text/plain": [
       "(389068, 14)"
      ]
     },
     "execution_count": 76,
     "metadata": {},
     "output_type": "execute_result"
    }
   ],
   "source": [
    "df.shape"
   ]
  },
  {
   "cell_type": "code",
   "execution_count": 77,
   "id": "6772d811",
   "metadata": {},
   "outputs": [
    {
     "data": {
      "text/plain": [
       "120389"
      ]
     },
     "execution_count": 77,
     "metadata": {},
     "output_type": "execute_result"
    }
   ],
   "source": [
    "df['movie_id'].nunique()"
   ]
  },
  {
   "cell_type": "code",
   "execution_count": 86,
   "id": "3d1cbb0e",
   "metadata": {},
   "outputs": [],
   "source": [
    "episodes = df[['movie_id', 'title', 'episode']].groupby(['movie_id', 'title']).agg('count')"
   ]
  },
  {
   "cell_type": "code",
   "execution_count": 89,
   "id": "9737b73b",
   "metadata": {},
   "outputs": [
    {
     "name": "stdout",
     "output_type": "stream",
     "text": [
      "                                                  episode\n",
      "movie_id   title                                         \n",
      "tt0149534   Thuis                                    3051\n",
      "tt0306365   Nintama Rantarô                          2064\n",
      "tt6155146   Ang probinsyano                          1684\n",
      "tt0185103   WWE Raw                                  1561\n",
      "tt0158220   Siempre en Domingo                       1522\n",
      "...                                                   ...\n",
      "tt1270770  Kungfused                                    0\n",
      "tt1270767  Higanjima: Escape from Vampire Island        0\n",
      "tt1270759  Crash Kids: Trust No One                     0\n",
      "tt12707364 Rice Girl: My Redneck Neighbor II            0\n",
      "tt9916248  Mahiwaga                                     0\n",
      "\n",
      "[128893 rows x 1 columns]\n"
     ]
    }
   ],
   "source": [
    "sorted_series_count=episodes.sort_values('episode', ascending=False)\n",
    "print(sorted_series_count)"
   ]
  },
  {
   "cell_type": "code",
   "execution_count": null,
   "id": "9e80c845",
   "metadata": {},
   "outputs": [],
   "source": []
  },
  {
   "cell_type": "code",
   "execution_count": null,
   "id": "5996847c",
   "metadata": {},
   "outputs": [],
   "source": []
  },
  {
   "cell_type": "code",
   "execution_count": 65,
   "id": "55df5444",
   "metadata": {},
   "outputs": [
    {
     "name": "stdout",
     "output_type": "stream",
     "text": [
      "movie_id\n",
      "tt9916248    1\n",
      "tt9916190    1\n",
      "tt9915536    1\n",
      "tt9915050    1\n",
      "tt9915010    1\n",
      "            ..\n",
      "tt0000447    1\n",
      "tt0000439    1\n",
      "tt0000417    1\n",
      "tt0000355    1\n",
      "tt0000273    1\n",
      "Name: title, Length: 120389, dtype: int64\n"
     ]
    }
   ],
   "source": [
    "series_count = df.groupby('movie_id',sort=False).count()\n",
    "sorted_series_count=series_count.sort_values('movie_id', ascending=False)['title']\n",
    "print(sorted_series_count)"
   ]
  },
  {
   "cell_type": "code",
   "execution_count": 48,
   "id": "855dc7eb",
   "metadata": {},
   "outputs": [],
   "source": [
    "df.set_index('movie_id', inplace=True)"
   ]
  },
  {
   "cell_type": "code",
   "execution_count": 49,
   "id": "7562c306",
   "metadata": {},
   "outputs": [
    {
     "data": {
      "text/html": [
       "<div>\n",
       "<style scoped>\n",
       "    .dataframe tbody tr th:only-of-type {\n",
       "        vertical-align: middle;\n",
       "    }\n",
       "\n",
       "    .dataframe tbody tr th {\n",
       "        vertical-align: top;\n",
       "    }\n",
       "\n",
       "    .dataframe thead th {\n",
       "        text-align: right;\n",
       "    }\n",
       "</style>\n",
       "<table border=\"1\" class=\"dataframe\">\n",
       "  <thead>\n",
       "    <tr style=\"text-align: right;\">\n",
       "      <th></th>\n",
       "      <th>popularity</th>\n",
       "      <th>title</th>\n",
       "      <th>main_genre</th>\n",
       "      <th>episode</th>\n",
       "      <th>year</th>\n",
       "      <th>episode_year</th>\n",
       "      <th>rating</th>\n",
       "      <th>age</th>\n",
       "      <th>duration</th>\n",
       "      <th>genre</th>\n",
       "      <th>votes</th>\n",
       "      <th>description</th>\n",
       "      <th>movie_url</th>\n",
       "    </tr>\n",
       "    <tr>\n",
       "      <th>movie_id</th>\n",
       "      <th></th>\n",
       "      <th></th>\n",
       "      <th></th>\n",
       "      <th></th>\n",
       "      <th></th>\n",
       "      <th></th>\n",
       "      <th></th>\n",
       "      <th></th>\n",
       "      <th></th>\n",
       "      <th></th>\n",
       "      <th></th>\n",
       "      <th></th>\n",
       "      <th></th>\n",
       "    </tr>\n",
       "  </thead>\n",
       "  <tbody>\n",
       "    <tr>\n",
       "      <th>tt13918776</th>\n",
       "      <td>1.</td>\n",
       "      <td>The Night Agent</td>\n",
       "      <td>action</td>\n",
       "      <td>NaN</td>\n",
       "      <td>(2023– )</td>\n",
       "      <td>NaN</td>\n",
       "      <td>7.6</td>\n",
       "      <td>TV-MA</td>\n",
       "      <td>NaN</td>\n",
       "      <td>Action, Drama, Thriller</td>\n",
       "      <td>41,612</td>\n",
       "      <td>Low-level FBI agent, Peter Sutherland, works i...</td>\n",
       "      <td>https://www.imdb.com/title/tt13918776/</td>\n",
       "    </tr>\n",
       "    <tr>\n",
       "      <th>tt8111088</th>\n",
       "      <td>2.</td>\n",
       "      <td>The Mandalorian</td>\n",
       "      <td>action</td>\n",
       "      <td>NaN</td>\n",
       "      <td>(2019– )</td>\n",
       "      <td>NaN</td>\n",
       "      <td>8.7</td>\n",
       "      <td>TV-14</td>\n",
       "      <td>40 min</td>\n",
       "      <td>Action, Adventure, Fantasy</td>\n",
       "      <td>528,333</td>\n",
       "      <td>The travels of a lone bounty hunter in the out...</td>\n",
       "      <td>https://www.imdb.com/title/tt8111088/</td>\n",
       "    </tr>\n",
       "    <tr>\n",
       "      <th>tt2906216</th>\n",
       "      <td>3.</td>\n",
       "      <td>Dungeons &amp; Dragons: Honor Among Thieves</td>\n",
       "      <td>action</td>\n",
       "      <td>NaN</td>\n",
       "      <td>(2023)</td>\n",
       "      <td>NaN</td>\n",
       "      <td>7.6</td>\n",
       "      <td>PG-13</td>\n",
       "      <td>134 min</td>\n",
       "      <td>Action, Adventure, Comedy</td>\n",
       "      <td>38,216</td>\n",
       "      <td>A charming thief and a band of unlikely advent...</td>\n",
       "      <td>https://www.imdb.com/title/tt2906216/</td>\n",
       "    </tr>\n",
       "    <tr>\n",
       "      <th>tt10366206</th>\n",
       "      <td>4.</td>\n",
       "      <td>John Wick: Chapter 4</td>\n",
       "      <td>action</td>\n",
       "      <td>NaN</td>\n",
       "      <td>(2023)</td>\n",
       "      <td>NaN</td>\n",
       "      <td>8.2</td>\n",
       "      <td>R</td>\n",
       "      <td>169 min</td>\n",
       "      <td>Action, Crime, Thriller</td>\n",
       "      <td>109,906</td>\n",
       "      <td>John Wick uncovers a path to defeating The Hig...</td>\n",
       "      <td>https://www.imdb.com/title/tt10366206/</td>\n",
       "    </tr>\n",
       "    <tr>\n",
       "      <th>tt15255288</th>\n",
       "      <td>5.</td>\n",
       "      <td>Murder Mystery 2</td>\n",
       "      <td>action</td>\n",
       "      <td>NaN</td>\n",
       "      <td>(2023)</td>\n",
       "      <td>NaN</td>\n",
       "      <td>5.6</td>\n",
       "      <td>PG-13</td>\n",
       "      <td>90 min</td>\n",
       "      <td>Action, Comedy, Crime</td>\n",
       "      <td>33,382</td>\n",
       "      <td>Full-time detectives Nick and Audrey are strug...</td>\n",
       "      <td>https://www.imdb.com/title/tt15255288/</td>\n",
       "    </tr>\n",
       "  </tbody>\n",
       "</table>\n",
       "</div>"
      ],
      "text/plain": [
       "           popularity                                    title main_genre  \\\n",
       "movie_id                                                                    \n",
       "tt13918776         1.                          The Night Agent     action   \n",
       "tt8111088          2.                          The Mandalorian     action   \n",
       "tt2906216          3.  Dungeons & Dragons: Honor Among Thieves     action   \n",
       "tt10366206         4.                     John Wick: Chapter 4     action   \n",
       "tt15255288         5.                         Murder Mystery 2     action   \n",
       "\n",
       "           episode      year episode_year  rating    age duration  \\\n",
       "movie_id                                                            \n",
       "tt13918776     NaN  (2023– )          NaN     7.6  TV-MA      NaN   \n",
       "tt8111088      NaN  (2019– )          NaN     8.7  TV-14   40 min   \n",
       "tt2906216      NaN    (2023)          NaN     7.6  PG-13  134 min   \n",
       "tt10366206     NaN    (2023)          NaN     8.2      R  169 min   \n",
       "tt15255288     NaN    (2023)          NaN     5.6  PG-13   90 min   \n",
       "\n",
       "                                 genre    votes  \\\n",
       "movie_id                                          \n",
       "tt13918776     Action, Drama, Thriller   41,612   \n",
       "tt8111088   Action, Adventure, Fantasy  528,333   \n",
       "tt2906216    Action, Adventure, Comedy   38,216   \n",
       "tt10366206     Action, Crime, Thriller  109,906   \n",
       "tt15255288       Action, Comedy, Crime   33,382   \n",
       "\n",
       "                                                  description  \\\n",
       "movie_id                                                        \n",
       "tt13918776  Low-level FBI agent, Peter Sutherland, works i...   \n",
       "tt8111088   The travels of a lone bounty hunter in the out...   \n",
       "tt2906216   A charming thief and a band of unlikely advent...   \n",
       "tt10366206  John Wick uncovers a path to defeating The Hig...   \n",
       "tt15255288  Full-time detectives Nick and Audrey are strug...   \n",
       "\n",
       "                                         movie_url  \n",
       "movie_id                                            \n",
       "tt13918776  https://www.imdb.com/title/tt13918776/  \n",
       "tt8111088    https://www.imdb.com/title/tt8111088/  \n",
       "tt2906216    https://www.imdb.com/title/tt2906216/  \n",
       "tt10366206  https://www.imdb.com/title/tt10366206/  \n",
       "tt15255288  https://www.imdb.com/title/tt15255288/  "
      ]
     },
     "execution_count": 49,
     "metadata": {},
     "output_type": "execute_result"
    }
   ],
   "source": [
    "df.head()"
   ]
  },
  {
   "cell_type": "code",
   "execution_count": 40,
   "id": "183d841f",
   "metadata": {},
   "outputs": [
    {
     "data": {
      "text/plain": [
       "0         [https:, , www.imdb.com, title, tt13918776, ]\n",
       "1          [https:, , www.imdb.com, title, tt8111088, ]\n",
       "2          [https:, , www.imdb.com, title, tt2906216, ]\n",
       "3         [https:, , www.imdb.com, title, tt10366206, ]\n",
       "4         [https:, , www.imdb.com, title, tt15255288, ]\n",
       "                              ...                      \n",
       "389063     [https:, , www.imdb.com, title, tt1289683, ]\n",
       "389064     [https:, , www.imdb.com, title, tt1289683, ]\n",
       "389065     [https:, , www.imdb.com, title, tt1289683, ]\n",
       "389066     [https:, , www.imdb.com, title, tt1289683, ]\n",
       "389067     [https:, , www.imdb.com, title, tt1289683, ]\n",
       "Name: movie_url, Length: 389068, dtype: object"
      ]
     },
     "execution_count": 40,
     "metadata": {},
     "output_type": "execute_result"
    }
   ],
   "source": [
    "codes"
   ]
  },
  {
   "cell_type": "code",
   "execution_count": 4,
   "id": "4dfa97ae",
   "metadata": {},
   "outputs": [],
   "source": [
    "df['popularity'] = df.loc[:,'popularity'].apply(lambda x: x.strip('.')).apply(lambda x: x.replace(',', ''))"
   ]
  },
  {
   "cell_type": "code",
   "execution_count": 5,
   "id": "4265a406",
   "metadata": {},
   "outputs": [],
   "source": [
    "df[['title','episode', 'age', 'duration', 'genre', 'votes', 'description']] = df.loc[:,['title','episode', 'age', 'duration', 'genre', 'votes', 'description']].apply(lambda x: x.str.replace('\\n', '')).apply(lambda x: x.str.strip())"
   ]
  },
  {
   "cell_type": "code",
   "execution_count": 6,
   "id": "8aaa837c",
   "metadata": {},
   "outputs": [],
   "source": [
    "df['year'] = df['year'].str.extract(r'(\\d{4}?)', expand=False)"
   ]
  },
  {
   "cell_type": "code",
   "execution_count": 7,
   "id": "d7bce3e6",
   "metadata": {},
   "outputs": [],
   "source": [
    "df['episode_year'] = df['episode_year'].str.extract(r'(\\d{4}?)', expand=False)"
   ]
  },
  {
   "cell_type": "code",
   "execution_count": 8,
   "id": "16793745",
   "metadata": {},
   "outputs": [],
   "source": [
    "df['duration'] = df.loc[:,'duration'].astype(str).apply(lambda x: x.split(' ')[0]).apply(lambda x: x.replace(',', '')).astype(float)"
   ]
  },
  {
   "cell_type": "code",
   "execution_count": 9,
   "id": "25472716",
   "metadata": {},
   "outputs": [],
   "source": [
    "df['votes'] = df.loc[:,'votes'].astype(str).apply(lambda x: x.replace(',', ''))"
   ]
  },
  {
   "cell_type": "code",
   "execution_count": 10,
   "id": "bbcb15c9",
   "metadata": {},
   "outputs": [],
   "source": [
    "df['votes'] = pd.to_numeric(df['votes'], downcast='float', errors='coerce')"
   ]
  },
  {
   "cell_type": "code",
   "execution_count": 11,
   "id": "3abdf6eb",
   "metadata": {},
   "outputs": [],
   "source": [
    "df['votes'].fillna(0, inplace=True)"
   ]
  },
  {
   "cell_type": "code",
   "execution_count": 12,
   "id": "94836c27",
   "metadata": {},
   "outputs": [],
   "source": [
    "df['votes'] = pd.to_numeric(df['votes'], downcast='integer')"
   ]
  },
  {
   "cell_type": "code",
   "execution_count": 13,
   "id": "374ce3ee",
   "metadata": {},
   "outputs": [],
   "source": [
    "df['popularity'] = pd.to_numeric(df['popularity'], downcast='integer')"
   ]
  },
  {
   "cell_type": "code",
   "execution_count": 14,
   "id": "1035bc2a",
   "metadata": {},
   "outputs": [],
   "source": [
    "df = df[df['year'].notna()]"
   ]
  },
  {
   "cell_type": "code",
   "execution_count": 15,
   "id": "c7bf3c7a",
   "metadata": {},
   "outputs": [],
   "source": [
    "df['year'] = pd.to_numeric(df['year'], downcast='integer')"
   ]
  },
  {
   "cell_type": "code",
   "execution_count": 16,
   "id": "3476b7f0",
   "metadata": {},
   "outputs": [],
   "source": [
    "df['episode_year'] = pd.to_numeric(df['episode_year'], downcast='float')"
   ]
  },
  {
   "cell_type": "code",
   "execution_count": 17,
   "id": "075aa81e",
   "metadata": {},
   "outputs": [],
   "source": [
    "df['rating'].fillna('Not Rated', inplace=True)"
   ]
  },
  {
   "cell_type": "code",
   "execution_count": 18,
   "id": "639815c8",
   "metadata": {},
   "outputs": [],
   "source": [
    "df['episode'].fillna('No Episodes', inplace=True)"
   ]
  },
  {
   "cell_type": "code",
   "execution_count": 19,
   "id": "48edb5ca",
   "metadata": {},
   "outputs": [],
   "source": [
    "df['age'].fillna('Not Rated', inplace=True)"
   ]
  },
  {
   "cell_type": "code",
   "execution_count": 20,
   "id": "391969a5",
   "metadata": {},
   "outputs": [],
   "source": [
    "df['duration'] = df['duration'].fillna(0)"
   ]
  },
  {
   "cell_type": "code",
   "execution_count": 21,
   "id": "597f13f0",
   "metadata": {},
   "outputs": [],
   "source": [
    "df['duration'] = pd.to_numeric(df['duration'], downcast='integer')"
   ]
  },
  {
   "cell_type": "code",
   "execution_count": 22,
   "id": "1cd296a5",
   "metadata": {},
   "outputs": [],
   "source": [
    "df['description'].fillna('No description', inplace=True)"
   ]
  },
  {
   "cell_type": "code",
   "execution_count": 23,
   "id": "cdfb3216",
   "metadata": {},
   "outputs": [
    {
     "name": "stdout",
     "output_type": "stream",
     "text": [
      "<class 'pandas.core.frame.DataFrame'>\n",
      "Int64Index: 374303 entries, 0 to 389067\n",
      "Data columns (total 13 columns):\n",
      " #   Column        Non-Null Count   Dtype  \n",
      "---  ------        --------------   -----  \n",
      " 0   popularity    374303 non-null  int32  \n",
      " 1   title         374303 non-null  object \n",
      " 2   main_genre    374303 non-null  object \n",
      " 3   episode       374303 non-null  object \n",
      " 4   year          374303 non-null  int16  \n",
      " 5   episode_year  246296 non-null  float32\n",
      " 6   rating        374303 non-null  object \n",
      " 7   age           374303 non-null  object \n",
      " 8   duration      374303 non-null  int16  \n",
      " 9   genre         374303 non-null  object \n",
      " 10  votes         374303 non-null  int32  \n",
      " 11  description   374303 non-null  object \n",
      " 12  movie_url     374303 non-null  object \n",
      "dtypes: float32(1), int16(2), int32(2), object(8)\n",
      "memory usage: 31.4+ MB\n"
     ]
    }
   ],
   "source": [
    "df.info()"
   ]
  },
  {
   "cell_type": "code",
   "execution_count": 24,
   "id": "bea348cb",
   "metadata": {},
   "outputs": [
    {
     "data": {
      "text/html": [
       "<div>\n",
       "<style scoped>\n",
       "    .dataframe tbody tr th:only-of-type {\n",
       "        vertical-align: middle;\n",
       "    }\n",
       "\n",
       "    .dataframe tbody tr th {\n",
       "        vertical-align: top;\n",
       "    }\n",
       "\n",
       "    .dataframe thead th {\n",
       "        text-align: right;\n",
       "    }\n",
       "</style>\n",
       "<table border=\"1\" class=\"dataframe\">\n",
       "  <thead>\n",
       "    <tr style=\"text-align: right;\">\n",
       "      <th></th>\n",
       "      <th>popularity</th>\n",
       "      <th>title</th>\n",
       "      <th>main_genre</th>\n",
       "      <th>episode</th>\n",
       "      <th>year</th>\n",
       "      <th>episode_year</th>\n",
       "      <th>rating</th>\n",
       "      <th>age</th>\n",
       "      <th>duration</th>\n",
       "      <th>genre</th>\n",
       "      <th>votes</th>\n",
       "      <th>description</th>\n",
       "      <th>movie_url</th>\n",
       "    </tr>\n",
       "  </thead>\n",
       "  <tbody>\n",
       "    <tr>\n",
       "      <th>0</th>\n",
       "      <td>1</td>\n",
       "      <td>The Night Agent</td>\n",
       "      <td>action</td>\n",
       "      <td>No Episodes</td>\n",
       "      <td>2023</td>\n",
       "      <td>NaN</td>\n",
       "      <td>7.6</td>\n",
       "      <td>TV-MA</td>\n",
       "      <td>0</td>\n",
       "      <td>Action, Drama, Thriller</td>\n",
       "      <td>41612</td>\n",
       "      <td>Low-level FBI agent, Peter Sutherland, works i...</td>\n",
       "      <td>https://www.imdb.com/title/tt13918776/</td>\n",
       "    </tr>\n",
       "    <tr>\n",
       "      <th>1</th>\n",
       "      <td>2</td>\n",
       "      <td>The Mandalorian</td>\n",
       "      <td>action</td>\n",
       "      <td>No Episodes</td>\n",
       "      <td>2019</td>\n",
       "      <td>NaN</td>\n",
       "      <td>8.7</td>\n",
       "      <td>TV-14</td>\n",
       "      <td>40</td>\n",
       "      <td>Action, Adventure, Fantasy</td>\n",
       "      <td>528333</td>\n",
       "      <td>The travels of a lone bounty hunter in the out...</td>\n",
       "      <td>https://www.imdb.com/title/tt8111088/</td>\n",
       "    </tr>\n",
       "    <tr>\n",
       "      <th>2</th>\n",
       "      <td>3</td>\n",
       "      <td>Dungeons &amp; Dragons: Honor Among Thieves</td>\n",
       "      <td>action</td>\n",
       "      <td>No Episodes</td>\n",
       "      <td>2023</td>\n",
       "      <td>NaN</td>\n",
       "      <td>7.6</td>\n",
       "      <td>PG-13</td>\n",
       "      <td>134</td>\n",
       "      <td>Action, Adventure, Comedy</td>\n",
       "      <td>38216</td>\n",
       "      <td>A charming thief and a band of unlikely advent...</td>\n",
       "      <td>https://www.imdb.com/title/tt2906216/</td>\n",
       "    </tr>\n",
       "    <tr>\n",
       "      <th>3</th>\n",
       "      <td>4</td>\n",
       "      <td>John Wick: Chapter 4</td>\n",
       "      <td>action</td>\n",
       "      <td>No Episodes</td>\n",
       "      <td>2023</td>\n",
       "      <td>NaN</td>\n",
       "      <td>8.2</td>\n",
       "      <td>R</td>\n",
       "      <td>169</td>\n",
       "      <td>Action, Crime, Thriller</td>\n",
       "      <td>109906</td>\n",
       "      <td>John Wick uncovers a path to defeating The Hig...</td>\n",
       "      <td>https://www.imdb.com/title/tt10366206/</td>\n",
       "    </tr>\n",
       "    <tr>\n",
       "      <th>4</th>\n",
       "      <td>5</td>\n",
       "      <td>Murder Mystery 2</td>\n",
       "      <td>action</td>\n",
       "      <td>No Episodes</td>\n",
       "      <td>2023</td>\n",
       "      <td>NaN</td>\n",
       "      <td>5.6</td>\n",
       "      <td>PG-13</td>\n",
       "      <td>90</td>\n",
       "      <td>Action, Comedy, Crime</td>\n",
       "      <td>33382</td>\n",
       "      <td>Full-time detectives Nick and Audrey are strug...</td>\n",
       "      <td>https://www.imdb.com/title/tt15255288/</td>\n",
       "    </tr>\n",
       "  </tbody>\n",
       "</table>\n",
       "</div>"
      ],
      "text/plain": [
       "   popularity                                    title main_genre  \\\n",
       "0           1                          The Night Agent     action   \n",
       "1           2                          The Mandalorian     action   \n",
       "2           3  Dungeons & Dragons: Honor Among Thieves     action   \n",
       "3           4                     John Wick: Chapter 4     action   \n",
       "4           5                         Murder Mystery 2     action   \n",
       "\n",
       "       episode  year  episode_year rating    age  duration  \\\n",
       "0  No Episodes  2023           NaN    7.6  TV-MA         0   \n",
       "1  No Episodes  2019           NaN    8.7  TV-14        40   \n",
       "2  No Episodes  2023           NaN    7.6  PG-13       134   \n",
       "3  No Episodes  2023           NaN    8.2      R       169   \n",
       "4  No Episodes  2023           NaN    5.6  PG-13        90   \n",
       "\n",
       "                        genre   votes  \\\n",
       "0     Action, Drama, Thriller   41612   \n",
       "1  Action, Adventure, Fantasy  528333   \n",
       "2   Action, Adventure, Comedy   38216   \n",
       "3     Action, Crime, Thriller  109906   \n",
       "4       Action, Comedy, Crime   33382   \n",
       "\n",
       "                                         description  \\\n",
       "0  Low-level FBI agent, Peter Sutherland, works i...   \n",
       "1  The travels of a lone bounty hunter in the out...   \n",
       "2  A charming thief and a band of unlikely advent...   \n",
       "3  John Wick uncovers a path to defeating The Hig...   \n",
       "4  Full-time detectives Nick and Audrey are strug...   \n",
       "\n",
       "                                movie_url  \n",
       "0  https://www.imdb.com/title/tt13918776/  \n",
       "1   https://www.imdb.com/title/tt8111088/  \n",
       "2   https://www.imdb.com/title/tt2906216/  \n",
       "3  https://www.imdb.com/title/tt10366206/  \n",
       "4  https://www.imdb.com/title/tt15255288/  "
      ]
     },
     "execution_count": 24,
     "metadata": {},
     "output_type": "execute_result"
    }
   ],
   "source": [
    "df.head()"
   ]
  },
  {
   "cell_type": "code",
   "execution_count": 29,
   "id": "4675e1bc",
   "metadata": {},
   "outputs": [
    {
     "ename": "TypeError",
     "evalue": "can only concatenate str (not \"int\") to str",
     "output_type": "error",
     "traceback": [
      "\u001b[0;31m---------------------------------------------------------------------------\u001b[0m",
      "\u001b[0;31mTypeError\u001b[0m                                 Traceback (most recent call last)",
      "\u001b[0;32m~/anaconda3/lib/python3.9/site-packages/pandas/core/ops/array_ops.py\u001b[0m in \u001b[0;36m_na_arithmetic_op\u001b[0;34m(left, right, op, is_cmp)\u001b[0m\n\u001b[1;32m    162\u001b[0m     \u001b[0;32mtry\u001b[0m\u001b[0;34m:\u001b[0m\u001b[0;34m\u001b[0m\u001b[0;34m\u001b[0m\u001b[0m\n\u001b[0;32m--> 163\u001b[0;31m         \u001b[0mresult\u001b[0m \u001b[0;34m=\u001b[0m \u001b[0mfunc\u001b[0m\u001b[0;34m(\u001b[0m\u001b[0mleft\u001b[0m\u001b[0;34m,\u001b[0m \u001b[0mright\u001b[0m\u001b[0;34m)\u001b[0m\u001b[0;34m\u001b[0m\u001b[0;34m\u001b[0m\u001b[0m\n\u001b[0m\u001b[1;32m    164\u001b[0m     \u001b[0;32mexcept\u001b[0m \u001b[0mTypeError\u001b[0m\u001b[0;34m:\u001b[0m\u001b[0;34m\u001b[0m\u001b[0;34m\u001b[0m\u001b[0m\n",
      "\u001b[0;32m~/anaconda3/lib/python3.9/site-packages/pandas/core/computation/expressions.py\u001b[0m in \u001b[0;36mevaluate\u001b[0;34m(op, a, b, use_numexpr)\u001b[0m\n\u001b[1;32m    238\u001b[0m             \u001b[0;31m# error: \"None\" not callable\u001b[0m\u001b[0;34m\u001b[0m\u001b[0;34m\u001b[0m\u001b[0m\n\u001b[0;32m--> 239\u001b[0;31m             \u001b[0;32mreturn\u001b[0m \u001b[0m_evaluate\u001b[0m\u001b[0;34m(\u001b[0m\u001b[0mop\u001b[0m\u001b[0;34m,\u001b[0m \u001b[0mop_str\u001b[0m\u001b[0;34m,\u001b[0m \u001b[0ma\u001b[0m\u001b[0;34m,\u001b[0m \u001b[0mb\u001b[0m\u001b[0;34m)\u001b[0m  \u001b[0;31m# type: ignore[misc]\u001b[0m\u001b[0;34m\u001b[0m\u001b[0;34m\u001b[0m\u001b[0m\n\u001b[0m\u001b[1;32m    240\u001b[0m     \u001b[0;32mreturn\u001b[0m \u001b[0m_evaluate_standard\u001b[0m\u001b[0;34m(\u001b[0m\u001b[0mop\u001b[0m\u001b[0;34m,\u001b[0m \u001b[0mop_str\u001b[0m\u001b[0;34m,\u001b[0m \u001b[0ma\u001b[0m\u001b[0;34m,\u001b[0m \u001b[0mb\u001b[0m\u001b[0;34m)\u001b[0m\u001b[0;34m\u001b[0m\u001b[0;34m\u001b[0m\u001b[0m\n",
      "\u001b[0;32m~/anaconda3/lib/python3.9/site-packages/pandas/core/computation/expressions.py\u001b[0m in \u001b[0;36m_evaluate_numexpr\u001b[0;34m(op, op_str, a, b)\u001b[0m\n\u001b[1;32m    127\u001b[0m     \u001b[0;32mif\u001b[0m \u001b[0mresult\u001b[0m \u001b[0;32mis\u001b[0m \u001b[0;32mNone\u001b[0m\u001b[0;34m:\u001b[0m\u001b[0;34m\u001b[0m\u001b[0;34m\u001b[0m\u001b[0m\n\u001b[0;32m--> 128\u001b[0;31m         \u001b[0mresult\u001b[0m \u001b[0;34m=\u001b[0m \u001b[0m_evaluate_standard\u001b[0m\u001b[0;34m(\u001b[0m\u001b[0mop\u001b[0m\u001b[0;34m,\u001b[0m \u001b[0mop_str\u001b[0m\u001b[0;34m,\u001b[0m \u001b[0ma\u001b[0m\u001b[0;34m,\u001b[0m \u001b[0mb\u001b[0m\u001b[0;34m)\u001b[0m\u001b[0;34m\u001b[0m\u001b[0;34m\u001b[0m\u001b[0m\n\u001b[0m\u001b[1;32m    129\u001b[0m \u001b[0;34m\u001b[0m\u001b[0m\n",
      "\u001b[0;32m~/anaconda3/lib/python3.9/site-packages/pandas/core/computation/expressions.py\u001b[0m in \u001b[0;36m_evaluate_standard\u001b[0;34m(op, op_str, a, b)\u001b[0m\n\u001b[1;32m     68\u001b[0m         \u001b[0m_store_test_result\u001b[0m\u001b[0;34m(\u001b[0m\u001b[0;32mFalse\u001b[0m\u001b[0;34m)\u001b[0m\u001b[0;34m\u001b[0m\u001b[0;34m\u001b[0m\u001b[0m\n\u001b[0;32m---> 69\u001b[0;31m     \u001b[0;32mreturn\u001b[0m \u001b[0mop\u001b[0m\u001b[0;34m(\u001b[0m\u001b[0ma\u001b[0m\u001b[0;34m,\u001b[0m \u001b[0mb\u001b[0m\u001b[0;34m)\u001b[0m\u001b[0;34m\u001b[0m\u001b[0;34m\u001b[0m\u001b[0m\n\u001b[0m\u001b[1;32m     70\u001b[0m \u001b[0;34m\u001b[0m\u001b[0m\n",
      "\u001b[0;31mTypeError\u001b[0m: can only concatenate str (not \"int\") to str",
      "\nDuring handling of the above exception, another exception occurred:\n",
      "\u001b[0;31mTypeError\u001b[0m                                 Traceback (most recent call last)",
      "\u001b[0;32m/tmp/ipykernel_315788/1805253240.py\u001b[0m in \u001b[0;36m<module>\u001b[0;34m\u001b[0m\n\u001b[0;32m----> 1\u001b[0;31m \u001b[0mdf\u001b[0m\u001b[0;34m[\u001b[0m\u001b[0;34m'movie_id'\u001b[0m\u001b[0;34m]\u001b[0m \u001b[0;34m=\u001b[0m \u001b[0mdf\u001b[0m\u001b[0;34m[\u001b[0m\u001b[0;34m'main_genre'\u001b[0m\u001b[0;34m]\u001b[0m\u001b[0;34m.\u001b[0m\u001b[0mastype\u001b[0m\u001b[0;34m(\u001b[0m\u001b[0;34m'str'\u001b[0m\u001b[0;34m)\u001b[0m \u001b[0;34m+\u001b[0m \u001b[0mdf\u001b[0m\u001b[0;34m[\u001b[0m\u001b[0;34m'popularity'\u001b[0m\u001b[0;34m]\u001b[0m\u001b[0;34m\u001b[0m\u001b[0;34m\u001b[0m\u001b[0m\n\u001b[0m",
      "\u001b[0;32m~/anaconda3/lib/python3.9/site-packages/pandas/core/ops/common.py\u001b[0m in \u001b[0;36mnew_method\u001b[0;34m(self, other)\u001b[0m\n\u001b[1;32m     68\u001b[0m         \u001b[0mother\u001b[0m \u001b[0;34m=\u001b[0m \u001b[0mitem_from_zerodim\u001b[0m\u001b[0;34m(\u001b[0m\u001b[0mother\u001b[0m\u001b[0;34m)\u001b[0m\u001b[0;34m\u001b[0m\u001b[0;34m\u001b[0m\u001b[0m\n\u001b[1;32m     69\u001b[0m \u001b[0;34m\u001b[0m\u001b[0m\n\u001b[0;32m---> 70\u001b[0;31m         \u001b[0;32mreturn\u001b[0m \u001b[0mmethod\u001b[0m\u001b[0;34m(\u001b[0m\u001b[0mself\u001b[0m\u001b[0;34m,\u001b[0m \u001b[0mother\u001b[0m\u001b[0;34m)\u001b[0m\u001b[0;34m\u001b[0m\u001b[0;34m\u001b[0m\u001b[0m\n\u001b[0m\u001b[1;32m     71\u001b[0m \u001b[0;34m\u001b[0m\u001b[0m\n\u001b[1;32m     72\u001b[0m     \u001b[0;32mreturn\u001b[0m \u001b[0mnew_method\u001b[0m\u001b[0;34m\u001b[0m\u001b[0;34m\u001b[0m\u001b[0m\n",
      "\u001b[0;32m~/anaconda3/lib/python3.9/site-packages/pandas/core/arraylike.py\u001b[0m in \u001b[0;36m__add__\u001b[0;34m(self, other)\u001b[0m\n\u001b[1;32m     98\u001b[0m     \u001b[0;34m@\u001b[0m\u001b[0munpack_zerodim_and_defer\u001b[0m\u001b[0;34m(\u001b[0m\u001b[0;34m\"__add__\"\u001b[0m\u001b[0;34m)\u001b[0m\u001b[0;34m\u001b[0m\u001b[0;34m\u001b[0m\u001b[0m\n\u001b[1;32m     99\u001b[0m     \u001b[0;32mdef\u001b[0m \u001b[0m__add__\u001b[0m\u001b[0;34m(\u001b[0m\u001b[0mself\u001b[0m\u001b[0;34m,\u001b[0m \u001b[0mother\u001b[0m\u001b[0;34m)\u001b[0m\u001b[0;34m:\u001b[0m\u001b[0;34m\u001b[0m\u001b[0;34m\u001b[0m\u001b[0m\n\u001b[0;32m--> 100\u001b[0;31m         \u001b[0;32mreturn\u001b[0m \u001b[0mself\u001b[0m\u001b[0;34m.\u001b[0m\u001b[0m_arith_method\u001b[0m\u001b[0;34m(\u001b[0m\u001b[0mother\u001b[0m\u001b[0;34m,\u001b[0m \u001b[0moperator\u001b[0m\u001b[0;34m.\u001b[0m\u001b[0madd\u001b[0m\u001b[0;34m)\u001b[0m\u001b[0;34m\u001b[0m\u001b[0;34m\u001b[0m\u001b[0m\n\u001b[0m\u001b[1;32m    101\u001b[0m \u001b[0;34m\u001b[0m\u001b[0m\n\u001b[1;32m    102\u001b[0m     \u001b[0;34m@\u001b[0m\u001b[0munpack_zerodim_and_defer\u001b[0m\u001b[0;34m(\u001b[0m\u001b[0;34m\"__radd__\"\u001b[0m\u001b[0;34m)\u001b[0m\u001b[0;34m\u001b[0m\u001b[0;34m\u001b[0m\u001b[0m\n",
      "\u001b[0;32m~/anaconda3/lib/python3.9/site-packages/pandas/core/series.py\u001b[0m in \u001b[0;36m_arith_method\u001b[0;34m(self, other, op)\u001b[0m\n\u001b[1;32m   5637\u001b[0m     \u001b[0;32mdef\u001b[0m \u001b[0m_arith_method\u001b[0m\u001b[0;34m(\u001b[0m\u001b[0mself\u001b[0m\u001b[0;34m,\u001b[0m \u001b[0mother\u001b[0m\u001b[0;34m,\u001b[0m \u001b[0mop\u001b[0m\u001b[0;34m)\u001b[0m\u001b[0;34m:\u001b[0m\u001b[0;34m\u001b[0m\u001b[0;34m\u001b[0m\u001b[0m\n\u001b[1;32m   5638\u001b[0m         \u001b[0mself\u001b[0m\u001b[0;34m,\u001b[0m \u001b[0mother\u001b[0m \u001b[0;34m=\u001b[0m \u001b[0mops\u001b[0m\u001b[0;34m.\u001b[0m\u001b[0malign_method_SERIES\u001b[0m\u001b[0;34m(\u001b[0m\u001b[0mself\u001b[0m\u001b[0;34m,\u001b[0m \u001b[0mother\u001b[0m\u001b[0;34m)\u001b[0m\u001b[0;34m\u001b[0m\u001b[0;34m\u001b[0m\u001b[0m\n\u001b[0;32m-> 5639\u001b[0;31m         \u001b[0;32mreturn\u001b[0m \u001b[0mbase\u001b[0m\u001b[0;34m.\u001b[0m\u001b[0mIndexOpsMixin\u001b[0m\u001b[0;34m.\u001b[0m\u001b[0m_arith_method\u001b[0m\u001b[0;34m(\u001b[0m\u001b[0mself\u001b[0m\u001b[0;34m,\u001b[0m \u001b[0mother\u001b[0m\u001b[0;34m,\u001b[0m \u001b[0mop\u001b[0m\u001b[0;34m)\u001b[0m\u001b[0;34m\u001b[0m\u001b[0;34m\u001b[0m\u001b[0m\n\u001b[0m\u001b[1;32m   5640\u001b[0m \u001b[0;34m\u001b[0m\u001b[0m\n\u001b[1;32m   5641\u001b[0m \u001b[0;34m\u001b[0m\u001b[0m\n",
      "\u001b[0;32m~/anaconda3/lib/python3.9/site-packages/pandas/core/base.py\u001b[0m in \u001b[0;36m_arith_method\u001b[0;34m(self, other, op)\u001b[0m\n\u001b[1;32m   1293\u001b[0m \u001b[0;34m\u001b[0m\u001b[0m\n\u001b[1;32m   1294\u001b[0m         \u001b[0;32mwith\u001b[0m \u001b[0mnp\u001b[0m\u001b[0;34m.\u001b[0m\u001b[0merrstate\u001b[0m\u001b[0;34m(\u001b[0m\u001b[0mall\u001b[0m\u001b[0;34m=\u001b[0m\u001b[0;34m\"ignore\"\u001b[0m\u001b[0;34m)\u001b[0m\u001b[0;34m:\u001b[0m\u001b[0;34m\u001b[0m\u001b[0;34m\u001b[0m\u001b[0m\n\u001b[0;32m-> 1295\u001b[0;31m             \u001b[0mresult\u001b[0m \u001b[0;34m=\u001b[0m \u001b[0mops\u001b[0m\u001b[0;34m.\u001b[0m\u001b[0marithmetic_op\u001b[0m\u001b[0;34m(\u001b[0m\u001b[0mlvalues\u001b[0m\u001b[0;34m,\u001b[0m \u001b[0mrvalues\u001b[0m\u001b[0;34m,\u001b[0m \u001b[0mop\u001b[0m\u001b[0;34m)\u001b[0m\u001b[0;34m\u001b[0m\u001b[0;34m\u001b[0m\u001b[0m\n\u001b[0m\u001b[1;32m   1296\u001b[0m \u001b[0;34m\u001b[0m\u001b[0m\n\u001b[1;32m   1297\u001b[0m         \u001b[0;32mreturn\u001b[0m \u001b[0mself\u001b[0m\u001b[0;34m.\u001b[0m\u001b[0m_construct_result\u001b[0m\u001b[0;34m(\u001b[0m\u001b[0mresult\u001b[0m\u001b[0;34m,\u001b[0m \u001b[0mname\u001b[0m\u001b[0;34m=\u001b[0m\u001b[0mres_name\u001b[0m\u001b[0;34m)\u001b[0m\u001b[0;34m\u001b[0m\u001b[0;34m\u001b[0m\u001b[0m\n",
      "\u001b[0;32m~/anaconda3/lib/python3.9/site-packages/pandas/core/ops/array_ops.py\u001b[0m in \u001b[0;36marithmetic_op\u001b[0;34m(left, right, op)\u001b[0m\n\u001b[1;32m    220\u001b[0m         \u001b[0m_bool_arith_check\u001b[0m\u001b[0;34m(\u001b[0m\u001b[0mop\u001b[0m\u001b[0;34m,\u001b[0m \u001b[0mleft\u001b[0m\u001b[0;34m,\u001b[0m \u001b[0mright\u001b[0m\u001b[0;34m)\u001b[0m\u001b[0;34m\u001b[0m\u001b[0;34m\u001b[0m\u001b[0m\n\u001b[1;32m    221\u001b[0m \u001b[0;34m\u001b[0m\u001b[0m\n\u001b[0;32m--> 222\u001b[0;31m         \u001b[0mres_values\u001b[0m \u001b[0;34m=\u001b[0m \u001b[0m_na_arithmetic_op\u001b[0m\u001b[0;34m(\u001b[0m\u001b[0mleft\u001b[0m\u001b[0;34m,\u001b[0m \u001b[0mright\u001b[0m\u001b[0;34m,\u001b[0m \u001b[0mop\u001b[0m\u001b[0;34m)\u001b[0m\u001b[0;34m\u001b[0m\u001b[0;34m\u001b[0m\u001b[0m\n\u001b[0m\u001b[1;32m    223\u001b[0m \u001b[0;34m\u001b[0m\u001b[0m\n\u001b[1;32m    224\u001b[0m     \u001b[0;32mreturn\u001b[0m \u001b[0mres_values\u001b[0m\u001b[0;34m\u001b[0m\u001b[0;34m\u001b[0m\u001b[0m\n",
      "\u001b[0;32m~/anaconda3/lib/python3.9/site-packages/pandas/core/ops/array_ops.py\u001b[0m in \u001b[0;36m_na_arithmetic_op\u001b[0;34m(left, right, op, is_cmp)\u001b[0m\n\u001b[1;32m    168\u001b[0m             \u001b[0;31m# Don't do this for comparisons, as that will handle complex numbers\u001b[0m\u001b[0;34m\u001b[0m\u001b[0;34m\u001b[0m\u001b[0m\n\u001b[1;32m    169\u001b[0m             \u001b[0;31m#  incorrectly, see GH#32047\u001b[0m\u001b[0;34m\u001b[0m\u001b[0;34m\u001b[0m\u001b[0m\n\u001b[0;32m--> 170\u001b[0;31m             \u001b[0mresult\u001b[0m \u001b[0;34m=\u001b[0m \u001b[0m_masked_arith_op\u001b[0m\u001b[0;34m(\u001b[0m\u001b[0mleft\u001b[0m\u001b[0;34m,\u001b[0m \u001b[0mright\u001b[0m\u001b[0;34m,\u001b[0m \u001b[0mop\u001b[0m\u001b[0;34m)\u001b[0m\u001b[0;34m\u001b[0m\u001b[0;34m\u001b[0m\u001b[0m\n\u001b[0m\u001b[1;32m    171\u001b[0m         \u001b[0;32melse\u001b[0m\u001b[0;34m:\u001b[0m\u001b[0;34m\u001b[0m\u001b[0;34m\u001b[0m\u001b[0m\n\u001b[1;32m    172\u001b[0m             \u001b[0;32mraise\u001b[0m\u001b[0;34m\u001b[0m\u001b[0;34m\u001b[0m\u001b[0m\n",
      "\u001b[0;32m~/anaconda3/lib/python3.9/site-packages/pandas/core/ops/array_ops.py\u001b[0m in \u001b[0;36m_masked_arith_op\u001b[0;34m(x, y, op)\u001b[0m\n\u001b[1;32m    106\u001b[0m         \u001b[0;31m# See GH#5284, GH#5035, GH#19448 for historical reference\u001b[0m\u001b[0;34m\u001b[0m\u001b[0;34m\u001b[0m\u001b[0m\n\u001b[1;32m    107\u001b[0m         \u001b[0;32mif\u001b[0m \u001b[0mmask\u001b[0m\u001b[0;34m.\u001b[0m\u001b[0many\u001b[0m\u001b[0;34m(\u001b[0m\u001b[0;34m)\u001b[0m\u001b[0;34m:\u001b[0m\u001b[0;34m\u001b[0m\u001b[0;34m\u001b[0m\u001b[0m\n\u001b[0;32m--> 108\u001b[0;31m             \u001b[0mresult\u001b[0m\u001b[0;34m[\u001b[0m\u001b[0mmask\u001b[0m\u001b[0;34m]\u001b[0m \u001b[0;34m=\u001b[0m \u001b[0mop\u001b[0m\u001b[0;34m(\u001b[0m\u001b[0mxrav\u001b[0m\u001b[0;34m[\u001b[0m\u001b[0mmask\u001b[0m\u001b[0;34m]\u001b[0m\u001b[0;34m,\u001b[0m \u001b[0myrav\u001b[0m\u001b[0;34m[\u001b[0m\u001b[0mmask\u001b[0m\u001b[0;34m]\u001b[0m\u001b[0;34m)\u001b[0m\u001b[0;34m\u001b[0m\u001b[0;34m\u001b[0m\u001b[0m\n\u001b[0m\u001b[1;32m    109\u001b[0m \u001b[0;34m\u001b[0m\u001b[0m\n\u001b[1;32m    110\u001b[0m     \u001b[0;32melse\u001b[0m\u001b[0;34m:\u001b[0m\u001b[0;34m\u001b[0m\u001b[0;34m\u001b[0m\u001b[0m\n",
      "\u001b[0;31mTypeError\u001b[0m: can only concatenate str (not \"int\") to str"
     ]
    }
   ],
   "source": []
  },
  {
   "cell_type": "code",
   "execution_count": 26,
   "id": "da8543ea",
   "metadata": {},
   "outputs": [
    {
     "data": {
      "text/plain": [
       "106890"
      ]
     },
     "execution_count": 26,
     "metadata": {},
     "output_type": "execute_result"
    }
   ],
   "source": [
    "df.movie_url.nunique()"
   ]
  },
  {
   "cell_type": "code",
   "execution_count": null,
   "id": "23f077fb",
   "metadata": {},
   "outputs": [],
   "source": []
  }
 ],
 "metadata": {
  "kernelspec": {
   "display_name": "Python 3 (ipykernel)",
   "language": "python",
   "name": "python3"
  },
  "language_info": {
   "codemirror_mode": {
    "name": "ipython",
    "version": 3
   },
   "file_extension": ".py",
   "mimetype": "text/x-python",
   "name": "python",
   "nbconvert_exporter": "python",
   "pygments_lexer": "ipython3",
   "version": "3.9.15"
  }
 },
 "nbformat": 4,
 "nbformat_minor": 5
}
