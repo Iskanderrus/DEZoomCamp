{
 "cells": [
  {
   "cell_type": "code",
   "execution_count": 1,
   "id": "e7d4b83a",
   "metadata": {},
   "outputs": [],
   "source": [
    "import pandas as pd"
   ]
  },
  {
   "cell_type": "code",
   "execution_count": 2,
   "id": "bf43cb76",
   "metadata": {},
   "outputs": [],
   "source": [
    "df = pd.read_csv('action.csv', low_memory=True)"
   ]
  },
  {
   "cell_type": "code",
   "execution_count": 23,
   "id": "cd0b4dd5",
   "metadata": {},
   "outputs": [],
   "source": [
    "df.loc[:, 'movie_id'] = df.loc[:,'movie_url'].str.extract('([t]{2}\\d+)', expand=False)"
   ]
  },
  {
   "cell_type": "code",
   "execution_count": 4,
   "id": "3aafd5f9",
   "metadata": {},
   "outputs": [],
   "source": [
    "df['popularity'] = df.loc[:, 'popularity'].apply(lambda x: x.strip('.')).apply(lambda x: x.replace(',', ''))"
   ]
  },
  {
   "cell_type": "code",
   "execution_count": 7,
   "id": "a0c33fd9",
   "metadata": {},
   "outputs": [],
   "source": [
    "df[['title', 'episode', 'age', 'duration', 'genre', 'votes', 'description']] = df.loc[:,\n",
    "                                                                               ['title', 'episode', 'age', 'duration',\n",
    "                                                                                'genre', 'votes', 'description']].apply(\n",
    "    lambda x: x.str.replace('\\n', '')).apply(lambda x: x.str.strip())"
   ]
  },
  {
   "cell_type": "code",
   "execution_count": 10,
   "id": "1c20b4fa",
   "metadata": {},
   "outputs": [],
   "source": [
    "df['year'] = df['year'].str.extract(r'(\\d{4}?)', expand=False)\n",
    "df['episode_year'] = df['episode_year'].str.extract(r'(\\d{4}?)', expand=False)"
   ]
  },
  {
   "cell_type": "code",
   "execution_count": 12,
   "id": "c7ea434a",
   "metadata": {},
   "outputs": [],
   "source": [
    "df['duration'] = df.loc[:, 'duration'].astype(str).apply(lambda x: x.split(' ')[0]).apply(\n",
    "    lambda x: x.replace(',', '')).astype(float)"
   ]
  },
  {
   "cell_type": "code",
   "execution_count": 14,
   "id": "ab6dd502",
   "metadata": {},
   "outputs": [],
   "source": [
    "df['votes'] = df.loc[:, 'votes'].astype(str).apply(lambda x: x.replace(',', ''))\n",
    "df['votes'] = pd.to_numeric(df['votes'], downcast='float', errors='coerce')\n",
    "df['votes'].fillna(0, inplace=True)\n",
    "df['votes'] = pd.to_numeric(df['votes'], downcast='integer')"
   ]
  },
  {
   "cell_type": "code",
   "execution_count": 16,
   "id": "c2ba1383",
   "metadata": {},
   "outputs": [],
   "source": [
    "df['popularity'] = pd.to_numeric(df['popularity'], downcast='integer')"
   ]
  },
  {
   "cell_type": "code",
   "execution_count": 19,
   "id": "26eef167",
   "metadata": {},
   "outputs": [],
   "source": [
    "df = df[df['year'].notna()]\n",
    "df['year'] = pd.to_numeric(df['year'], downcast='integer')"
   ]
  },
  {
   "cell_type": "code",
   "execution_count": 20,
   "id": "a4e50b94",
   "metadata": {},
   "outputs": [],
   "source": [
    "df['episode_year'] = pd.to_numeric(df['episode_year'], downcast='float')\n",
    "df['rating'].fillna('Not Rated', inplace=True)\n",
    "df['episode'].fillna('No Episodes', inplace=True)\n",
    "df['age'].fillna('Not Rated', inplace=True)\n",
    "df['duration'] = df['duration'].fillna(0)\n",
    "df['duration'] = pd.to_numeric(df['duration'], downcast='integer')\n",
    "df['description'].fillna('No description', inplace=True)"
   ]
  },
  {
   "cell_type": "code",
   "execution_count": null,
   "id": "6b85059b",
   "metadata": {},
   "outputs": [],
   "source": [
    "\n",
    "\n",
    "\n",
    "\n",
    "\n"
   ]
  }
 ],
 "metadata": {
  "kernelspec": {
   "display_name": "Python 3 (ipykernel)",
   "language": "python",
   "name": "python3"
  },
  "language_info": {
   "codemirror_mode": {
    "name": "ipython",
    "version": 3
   },
   "file_extension": ".py",
   "mimetype": "text/x-python",
   "name": "python",
   "nbconvert_exporter": "python",
   "pygments_lexer": "ipython3",
   "version": "3.9.15"
  }
 },
 "nbformat": 4,
 "nbformat_minor": 5
}
