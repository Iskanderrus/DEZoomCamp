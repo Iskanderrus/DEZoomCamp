{
 "cells": [
  {
   "cell_type": "code",
   "execution_count": 1,
   "id": "e0571c22",
   "metadata": {},
   "outputs": [],
   "source": [
    "import pandas as pd\n",
    "import numpy as np\n",
    "import re"
   ]
  },
  {
   "cell_type": "code",
   "execution_count": 5,
   "id": "e5c14d3d",
   "metadata": {},
   "outputs": [
    {
     "name": "stderr",
     "output_type": "stream",
     "text": [
      "/tmp/ipykernel_89139/1019702677.py:1: DtypeWarning: Columns (5,14,15,16,17,18,19,20) have mixed types. Specify dtype option on import or set low_memory=False.\n",
      "  df = pd.read_csv('action_01.csv', low_memory=True)\n"
     ]
    }
   ],
   "source": [
    "df = pd.read_csv('action.csv', low_memory=True)"
   ]
  },
  {
   "cell_type": "code",
   "execution_count": 6,
   "id": "ed658b8b",
   "metadata": {
    "scrolled": true
   },
   "outputs": [
    {
     "data": {
      "text/html": [
       "<div>\n",
       "<style scoped>\n",
       "    .dataframe tbody tr th:only-of-type {\n",
       "        vertical-align: middle;\n",
       "    }\n",
       "\n",
       "    .dataframe tbody tr th {\n",
       "        vertical-align: top;\n",
       "    }\n",
       "\n",
       "    .dataframe thead th {\n",
       "        text-align: right;\n",
       "    }\n",
       "</style>\n",
       "<table border=\"1\" class=\"dataframe\">\n",
       "  <thead>\n",
       "    <tr style=\"text-align: right;\">\n",
       "      <th></th>\n",
       "      <th>popularity</th>\n",
       "      <th>title</th>\n",
       "      <th>episode</th>\n",
       "      <th>year</th>\n",
       "      <th>episode_year</th>\n",
       "      <th>rating</th>\n",
       "      <th>age</th>\n",
       "      <th>duration</th>\n",
       "      <th>genre</th>\n",
       "      <th>votes</th>\n",
       "      <th>...</th>\n",
       "      <th>movie_url</th>\n",
       "      <th>Unnamed: 12</th>\n",
       "      <th>Unnamed: 13</th>\n",
       "      <th>Unnamed: 14</th>\n",
       "      <th>Unnamed: 15</th>\n",
       "      <th>Unnamed: 16</th>\n",
       "      <th>Unnamed: 17</th>\n",
       "      <th>Unnamed: 18</th>\n",
       "      <th>Unnamed: 19</th>\n",
       "      <th>Unnamed: 20</th>\n",
       "    </tr>\n",
       "  </thead>\n",
       "  <tbody>\n",
       "    <tr>\n",
       "      <th>0</th>\n",
       "      <td>1</td>\n",
       "      <td>The Night Agent</td>\n",
       "      <td>NaN</td>\n",
       "      <td>(2023– )</td>\n",
       "      <td>NaN</td>\n",
       "      <td>7.6</td>\n",
       "      <td>TV-MA</td>\n",
       "      <td>NaN</td>\n",
       "      <td>Action, Drama, Thriller</td>\n",
       "      <td>40441</td>\n",
       "      <td>...</td>\n",
       "      <td>https://www.imdb.com/title/tt13918776/</td>\n",
       "      <td>NaN</td>\n",
       "      <td>NaN</td>\n",
       "      <td>NaN</td>\n",
       "      <td>NaN</td>\n",
       "      <td>NaN</td>\n",
       "      <td>NaN</td>\n",
       "      <td>NaN</td>\n",
       "      <td>NaN</td>\n",
       "      <td>NaN</td>\n",
       "    </tr>\n",
       "    <tr>\n",
       "      <th>1</th>\n",
       "      <td>2</td>\n",
       "      <td>The Mandalorian</td>\n",
       "      <td>NaN</td>\n",
       "      <td>(2019– )</td>\n",
       "      <td>NaN</td>\n",
       "      <td>8.7</td>\n",
       "      <td>TV-14</td>\n",
       "      <td>40 min</td>\n",
       "      <td>Action, Adventure, Fantasy</td>\n",
       "      <td>527834</td>\n",
       "      <td>...</td>\n",
       "      <td>https://www.imdb.com/title/tt8111088/</td>\n",
       "      <td>NaN</td>\n",
       "      <td>NaN</td>\n",
       "      <td>NaN</td>\n",
       "      <td>NaN</td>\n",
       "      <td>NaN</td>\n",
       "      <td>NaN</td>\n",
       "      <td>NaN</td>\n",
       "      <td>NaN</td>\n",
       "      <td>NaN</td>\n",
       "    </tr>\n",
       "    <tr>\n",
       "      <th>2</th>\n",
       "      <td>3</td>\n",
       "      <td>Dungeons &amp; Dragons: Honor Among Thieves</td>\n",
       "      <td>NaN</td>\n",
       "      <td>(2023)</td>\n",
       "      <td>NaN</td>\n",
       "      <td>7.6</td>\n",
       "      <td>PG-13</td>\n",
       "      <td>134 min</td>\n",
       "      <td>Action, Adventure, Comedy</td>\n",
       "      <td>37233</td>\n",
       "      <td>...</td>\n",
       "      <td>https://www.imdb.com/title/tt2906216/</td>\n",
       "      <td>NaN</td>\n",
       "      <td>NaN</td>\n",
       "      <td>NaN</td>\n",
       "      <td>NaN</td>\n",
       "      <td>NaN</td>\n",
       "      <td>NaN</td>\n",
       "      <td>NaN</td>\n",
       "      <td>NaN</td>\n",
       "      <td>NaN</td>\n",
       "    </tr>\n",
       "    <tr>\n",
       "      <th>3</th>\n",
       "      <td>4</td>\n",
       "      <td>John Wick: Chapter 4</td>\n",
       "      <td>NaN</td>\n",
       "      <td>(2023)</td>\n",
       "      <td>NaN</td>\n",
       "      <td>8.2</td>\n",
       "      <td>R</td>\n",
       "      <td>169 min</td>\n",
       "      <td>Action, Crime, Thriller</td>\n",
       "      <td>108570</td>\n",
       "      <td>...</td>\n",
       "      <td>https://www.imdb.com/title/tt10366206/</td>\n",
       "      <td>NaN</td>\n",
       "      <td>NaN</td>\n",
       "      <td>NaN</td>\n",
       "      <td>NaN</td>\n",
       "      <td>NaN</td>\n",
       "      <td>NaN</td>\n",
       "      <td>NaN</td>\n",
       "      <td>NaN</td>\n",
       "      <td>NaN</td>\n",
       "    </tr>\n",
       "    <tr>\n",
       "      <th>4</th>\n",
       "      <td>5</td>\n",
       "      <td>Murder Mystery 2</td>\n",
       "      <td>NaN</td>\n",
       "      <td>(2023)</td>\n",
       "      <td>NaN</td>\n",
       "      <td>5.6</td>\n",
       "      <td>PG-13</td>\n",
       "      <td>90 min</td>\n",
       "      <td>Action, Comedy, Crime</td>\n",
       "      <td>32531</td>\n",
       "      <td>...</td>\n",
       "      <td>https://www.imdb.com/title/tt15255288/</td>\n",
       "      <td>NaN</td>\n",
       "      <td>NaN</td>\n",
       "      <td>NaN</td>\n",
       "      <td>NaN</td>\n",
       "      <td>NaN</td>\n",
       "      <td>NaN</td>\n",
       "      <td>NaN</td>\n",
       "      <td>NaN</td>\n",
       "      <td>NaN</td>\n",
       "    </tr>\n",
       "  </tbody>\n",
       "</table>\n",
       "<p>5 rows × 21 columns</p>\n",
       "</div>"
      ],
      "text/plain": [
       "   popularity                                    title episode      year  \\\n",
       "0           1                          The Night Agent     NaN  (2023– )   \n",
       "1           2                          The Mandalorian     NaN  (2019– )   \n",
       "2           3  Dungeons & Dragons: Honor Among Thieves     NaN    (2023)   \n",
       "3           4                     John Wick: Chapter 4     NaN    (2023)   \n",
       "4           5                         Murder Mystery 2     NaN    (2023)   \n",
       "\n",
       "  episode_year rating    age duration                       genre   votes  \\\n",
       "0          NaN    7.6  TV-MA      NaN     Action, Drama, Thriller   40441   \n",
       "1          NaN    8.7  TV-14   40 min  Action, Adventure, Fantasy  527834   \n",
       "2          NaN    7.6  PG-13  134 min   Action, Adventure, Comedy   37233   \n",
       "3          NaN    8.2      R  169 min     Action, Crime, Thriller  108570   \n",
       "4          NaN    5.6  PG-13   90 min       Action, Comedy, Crime   32531   \n",
       "\n",
       "   ...                               movie_url Unnamed: 12 Unnamed: 13  \\\n",
       "0  ...  https://www.imdb.com/title/tt13918776/         NaN         NaN   \n",
       "1  ...   https://www.imdb.com/title/tt8111088/         NaN         NaN   \n",
       "2  ...   https://www.imdb.com/title/tt2906216/         NaN         NaN   \n",
       "3  ...  https://www.imdb.com/title/tt10366206/         NaN         NaN   \n",
       "4  ...  https://www.imdb.com/title/tt15255288/         NaN         NaN   \n",
       "\n",
       "  Unnamed: 14 Unnamed: 15 Unnamed: 16 Unnamed: 17 Unnamed: 18 Unnamed: 19  \\\n",
       "0         NaN         NaN         NaN         NaN         NaN         NaN   \n",
       "1         NaN         NaN         NaN         NaN         NaN         NaN   \n",
       "2         NaN         NaN         NaN         NaN         NaN         NaN   \n",
       "3         NaN         NaN         NaN         NaN         NaN         NaN   \n",
       "4         NaN         NaN         NaN         NaN         NaN         NaN   \n",
       "\n",
       "  Unnamed: 20  \n",
       "0         NaN  \n",
       "1         NaN  \n",
       "2         NaN  \n",
       "3         NaN  \n",
       "4         NaN  \n",
       "\n",
       "[5 rows x 21 columns]"
      ]
     },
     "execution_count": 6,
     "metadata": {},
     "output_type": "execute_result"
    }
   ],
   "source": [
    "df.head()"
   ]
  },
  {
   "cell_type": "code",
   "execution_count": 350,
   "id": "4dfa97ae",
   "metadata": {},
   "outputs": [],
   "source": [
    "df['popularity'] = df.loc[:,'popularity'].apply(lambda x: x.strip('.')).apply(lambda x: x.replace(',', ''))"
   ]
  },
  {
   "cell_type": "code",
   "execution_count": 351,
   "id": "4265a406",
   "metadata": {},
   "outputs": [],
   "source": [
    "df[['title','episode', 'age', 'duration', 'genre', 'votes', 'description']] = df.loc[:,['title','episode', 'age', 'duration', 'genre', 'votes', 'description']].apply(lambda x: x.str.replace('\\n', '')).apply(lambda x: x.str.strip())"
   ]
  },
  {
   "cell_type": "code",
   "execution_count": 352,
   "id": "8aaa837c",
   "metadata": {},
   "outputs": [],
   "source": [
    "df['year'] = df['year'].str.extract(r'(\\d{4}?)', expand=False)"
   ]
  },
  {
   "cell_type": "code",
   "execution_count": 353,
   "id": "d7bce3e6",
   "metadata": {},
   "outputs": [],
   "source": [
    "df['episode_year'] = df['episode_year'].str.extract(r'(\\d{4}?)', expand=False)"
   ]
  },
  {
   "cell_type": "code",
   "execution_count": 354,
   "id": "16793745",
   "metadata": {},
   "outputs": [],
   "source": [
    "df['duration'] = df.loc[:,'duration'].astype(str).apply(lambda x: x.split(' ')[0]).apply(lambda x: x.replace(',', '')).astype(float)"
   ]
  },
  {
   "cell_type": "code",
   "execution_count": 355,
   "id": "25472716",
   "metadata": {},
   "outputs": [],
   "source": [
    "df['votes'] = df.loc[:,'votes'].astype(str).apply(lambda x: x.replace(',', ''))"
   ]
  },
  {
   "cell_type": "code",
   "execution_count": 356,
   "id": "bbcb15c9",
   "metadata": {},
   "outputs": [],
   "source": [
    "df['votes'] = pd.to_numeric(df['votes'], downcast='float', errors='coerce')"
   ]
  },
  {
   "cell_type": "code",
   "execution_count": 357,
   "id": "3abdf6eb",
   "metadata": {},
   "outputs": [],
   "source": [
    "df['votes'].fillna(0, inplace=True)"
   ]
  },
  {
   "cell_type": "code",
   "execution_count": 358,
   "id": "94836c27",
   "metadata": {},
   "outputs": [],
   "source": [
    "df['votes'] = pd.to_numeric(df['votes'], downcast='integer')"
   ]
  },
  {
   "cell_type": "code",
   "execution_count": 359,
   "id": "374ce3ee",
   "metadata": {},
   "outputs": [],
   "source": [
    "df['popularity'] = pd.to_numeric(df['popularity'], downcast='integer')"
   ]
  },
  {
   "cell_type": "code",
   "execution_count": 360,
   "id": "1035bc2a",
   "metadata": {},
   "outputs": [],
   "source": [
    "df = df[df['year'].notna()]"
   ]
  },
  {
   "cell_type": "code",
   "execution_count": 361,
   "id": "c7bf3c7a",
   "metadata": {},
   "outputs": [],
   "source": [
    "df['year'] = pd.to_numeric(df['year'], downcast='integer')"
   ]
  },
  {
   "cell_type": "code",
   "execution_count": 362,
   "id": "3476b7f0",
   "metadata": {},
   "outputs": [],
   "source": [
    "df['episode_year'] = pd.to_numeric(df['episode_year'], downcast='float')"
   ]
  },
  {
   "cell_type": "code",
   "execution_count": 363,
   "id": "075aa81e",
   "metadata": {},
   "outputs": [],
   "source": [
    "df['rating'].fillna('Not Rated', inplace=True)"
   ]
  },
  {
   "cell_type": "code",
   "execution_count": 364,
   "id": "639815c8",
   "metadata": {},
   "outputs": [],
   "source": [
    "df['episode'].fillna('No Episodes', inplace=True)"
   ]
  },
  {
   "cell_type": "code",
   "execution_count": 365,
   "id": "48edb5ca",
   "metadata": {},
   "outputs": [],
   "source": [
    "df['age'].fillna('Not Rated', inplace=True)"
   ]
  },
  {
   "cell_type": "code",
   "execution_count": 366,
   "id": "391969a5",
   "metadata": {},
   "outputs": [],
   "source": [
    "df['duration'] = df['duration'].fillna(0)"
   ]
  },
  {
   "cell_type": "code",
   "execution_count": 367,
   "id": "597f13f0",
   "metadata": {},
   "outputs": [],
   "source": [
    "df['duration'] = pd.to_numeric(df['duration'], downcast='integer')"
   ]
  },
  {
   "cell_type": "code",
   "execution_count": 368,
   "id": "1cd296a5",
   "metadata": {},
   "outputs": [],
   "source": [
    "df['description'].fillna('No description', inplace=True)"
   ]
  },
  {
   "cell_type": "code",
   "execution_count": 369,
   "id": "cdfb3216",
   "metadata": {},
   "outputs": [
    {
     "name": "stdout",
     "output_type": "stream",
     "text": [
      "<class 'pandas.core.frame.DataFrame'>\n",
      "Int64Index: 176074 entries, 0 to 189797\n",
      "Data columns (total 12 columns):\n",
      " #   Column        Non-Null Count   Dtype  \n",
      "---  ------        --------------   -----  \n",
      " 0   popularity    176074 non-null  int32  \n",
      " 1   title         176074 non-null  object \n",
      " 2   episode       176074 non-null  object \n",
      " 3   year          176074 non-null  int16  \n",
      " 4   episode_year  64408 non-null   float32\n",
      " 5   rating        176074 non-null  object \n",
      " 6   age           176074 non-null  object \n",
      " 7   duration      176074 non-null  int16  \n",
      " 8   genre         176074 non-null  object \n",
      " 9   votes         176074 non-null  int32  \n",
      " 10  description   176074 non-null  object \n",
      " 11  movie_url     176074 non-null  object \n",
      "dtypes: float32(1), int16(2), int32(2), object(7)\n",
      "memory usage: 13.4+ MB\n"
     ]
    }
   ],
   "source": [
    "df.info()"
   ]
  },
  {
   "cell_type": "code",
   "execution_count": null,
   "id": "bea348cb",
   "metadata": {},
   "outputs": [],
   "source": []
  }
 ],
 "metadata": {
  "kernelspec": {
   "display_name": "Python 3 (ipykernel)",
   "language": "python",
   "name": "python3"
  },
  "language_info": {
   "codemirror_mode": {
    "name": "ipython",
    "version": 3
   },
   "file_extension": ".py",
   "mimetype": "text/x-python",
   "name": "python",
   "nbconvert_exporter": "python",
   "pygments_lexer": "ipython3",
   "version": "3.9.15"
  }
 },
 "nbformat": 4,
 "nbformat_minor": 5
}
