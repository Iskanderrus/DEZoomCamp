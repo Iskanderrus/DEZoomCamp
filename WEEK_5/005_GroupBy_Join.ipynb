{
 "cells": [
  {
   "cell_type": "code",
   "execution_count": 1,
   "id": "cb9798df",
   "metadata": {},
   "outputs": [],
   "source": [
    "import pyspark\n",
    "import pandas as pd\n",
    "from pyspark.sql import SparkSession\n",
    "from pyspark.sql import types as T \n",
    "from pyspark.sql import functions as F "
   ]
  },
  {
   "cell_type": "code",
   "execution_count": 2,
   "id": "1dd9498d",
   "metadata": {},
   "outputs": [
    {
     "name": "stderr",
     "output_type": "stream",
     "text": [
      "Setting default log level to \"WARN\".\n",
      "To adjust logging level use sc.setLogLevel(newLevel). For SparkR, use setLogLevel(newLevel).\n"
     ]
    },
    {
     "name": "stdout",
     "output_type": "stream",
     "text": [
      "23/03/01 17:14:40 WARN NativeCodeLoader: Unable to load native-hadoop library for your platform... using builtin-java classes where applicable\n",
      "23/03/01 17:14:41 WARN Utils: Service 'SparkUI' could not bind on port 4040. Attempting port 4041.\n"
     ]
    }
   ],
   "source": [
    "spark = SparkSession.builder \\\n",
    "        .master('local[*]') \\\n",
    "        .appName('test') \\\n",
    "        .getOrCreate()"
   ]
  },
  {
   "cell_type": "markdown",
   "id": "aa3b3db5",
   "metadata": {},
   "source": [
    "# Loading green taxi data"
   ]
  },
  {
   "cell_type": "code",
   "execution_count": 48,
   "id": "3e5fb98a",
   "metadata": {},
   "outputs": [],
   "source": [
    "df_green = spark.read \\\n",
    "           .parquet('./data/unified/green/*/*')"
   ]
  },
  {
   "cell_type": "code",
   "execution_count": 49,
   "id": "71ef5940",
   "metadata": {},
   "outputs": [],
   "source": [
    "df_green.createOrReplaceTempView('green_trips_data')"
   ]
  },
  {
   "cell_type": "markdown",
   "id": "c4d8b420",
   "metadata": {},
   "source": [
    "# Group By on green taxi data"
   ]
  },
  {
   "cell_type": "code",
   "execution_count": 50,
   "id": "af8fab98",
   "metadata": {},
   "outputs": [],
   "source": [
    "df_green_result = spark.sql(\"\"\"\n",
    "SELECT \n",
    "    date_trunc('hour', lpep_pickup_datetime) AS hour, \n",
    "    PULocationID as zone,    \n",
    "    \n",
    "    ROUND(SUM(total_amount), 2)  AS amount,\n",
    "    COUNT(1) AS number_of_records\n",
    "FROM \n",
    "    green_trips_data\n",
    "WHERE \n",
    "    lpep_pickup_datetime >= '2020-01-01 00:00:00'\n",
    "GROUP BY\n",
    "    1, 2\n",
    "ORDER BY\n",
    "    1, 2; \n",
    "\"\"\")"
   ]
  },
  {
   "cell_type": "code",
   "execution_count": 51,
   "id": "98266ce1",
   "metadata": {},
   "outputs": [
    {
     "name": "stderr",
     "output_type": "stream",
     "text": [
      "[Stage 64:===========================================>              (3 + 1) / 4]\r"
     ]
    },
    {
     "name": "stdout",
     "output_type": "stream",
     "text": [
      "+-------------------+----+-------+-----------------+\n",
      "|               hour|zone| amount|number_of_records|\n",
      "+-------------------+----+-------+-----------------+\n",
      "|2020-01-01 00:00:00|   7| 769.73|               45|\n",
      "|2020-01-01 00:00:00|  17| 195.03|                9|\n",
      "|2020-01-01 00:00:00|  18|    7.8|                1|\n",
      "|2020-01-01 00:00:00|  22|   15.8|                1|\n",
      "|2020-01-01 00:00:00|  24|   87.6|                3|\n",
      "|2020-01-01 00:00:00|  25|  531.0|               26|\n",
      "|2020-01-01 00:00:00|  29|   61.3|                1|\n",
      "|2020-01-01 00:00:00|  32|  68.95|                2|\n",
      "|2020-01-01 00:00:00|  33| 317.27|               11|\n",
      "|2020-01-01 00:00:00|  35| 129.96|                5|\n",
      "|2020-01-01 00:00:00|  36| 295.34|               11|\n",
      "|2020-01-01 00:00:00|  37| 175.67|                6|\n",
      "|2020-01-01 00:00:00|  38|  98.79|                2|\n",
      "|2020-01-01 00:00:00|  40| 168.98|                8|\n",
      "|2020-01-01 00:00:00|  41|1363.96|               84|\n",
      "|2020-01-01 00:00:00|  42| 799.76|               52|\n",
      "|2020-01-01 00:00:00|  43| 107.52|                6|\n",
      "|2020-01-01 00:00:00|  47|   13.3|                1|\n",
      "|2020-01-01 00:00:00|  49| 266.76|               14|\n",
      "|2020-01-01 00:00:00|  51|   17.8|                2|\n",
      "+-------------------+----+-------+-----------------+\n",
      "only showing top 20 rows\n",
      "\n"
     ]
    },
    {
     "name": "stderr",
     "output_type": "stream",
     "text": [
      "\r",
      "                                                                                \r"
     ]
    }
   ],
   "source": [
    "df_green_result.show()"
   ]
  },
  {
   "cell_type": "code",
   "execution_count": 52,
   "id": "be60e0cb",
   "metadata": {},
   "outputs": [
    {
     "name": "stderr",
     "output_type": "stream",
     "text": [
      "                                                                                \r"
     ]
    }
   ],
   "source": [
    "df_green_result.write.parquet('data/reports/revenue/green', mode='overwrite')"
   ]
  },
  {
   "cell_type": "markdown",
   "id": "4aa8b730",
   "metadata": {},
   "source": [
    "# Loading yellow taxi data"
   ]
  },
  {
   "cell_type": "code",
   "execution_count": 53,
   "id": "6111e832",
   "metadata": {},
   "outputs": [],
   "source": [
    "df_yellow = spark.read \\\n",
    "           .parquet('./data/unified/yellow/*/*')"
   ]
  },
  {
   "cell_type": "code",
   "execution_count": 54,
   "id": "9472453a",
   "metadata": {},
   "outputs": [],
   "source": [
    "df_yellow.createOrReplaceTempView('yellow_trips_data')"
   ]
  },
  {
   "cell_type": "markdown",
   "id": "380bb5cb",
   "metadata": {},
   "source": [
    "# Group By on yellow taxi data"
   ]
  },
  {
   "cell_type": "code",
   "execution_count": 55,
   "id": "7884d31e",
   "metadata": {},
   "outputs": [],
   "source": [
    "df_yellow_result = spark.sql(\"\"\"\n",
    "SELECT \n",
    "    date_trunc('hour', tpep_pickup_datetime) AS hour, \n",
    "    PULocationID as zone,    \n",
    "    \n",
    "    ROUND(SUM(total_amount), 2)  AS amount,\n",
    "    COUNT(1) AS number_of_records\n",
    "FROM \n",
    "    yellow_trips_data\n",
    "WHERE \n",
    "    tpep_pickup_datetime >= '2020-01-01 00:00:00'\n",
    "GROUP BY\n",
    "    1, 2\n",
    "ORDER BY\n",
    "    1, 2; \n",
    "\"\"\")"
   ]
  },
  {
   "cell_type": "code",
   "execution_count": 56,
   "id": "b8cee737",
   "metadata": {},
   "outputs": [
    {
     "name": "stderr",
     "output_type": "stream",
     "text": [
      "[Stage 78:>                                                         (0 + 4) / 4]\r"
     ]
    },
    {
     "name": "stdout",
     "output_type": "stream",
     "text": [
      "+-------------------+----+-------+-----------------+\n",
      "|               hour|zone| amount|number_of_records|\n",
      "+-------------------+----+-------+-----------------+\n",
      "|2020-01-01 00:00:00|   3|   25.0|                1|\n",
      "|2020-01-01 00:00:00|   4| 1004.3|               57|\n",
      "|2020-01-01 00:00:00|   7| 455.17|               38|\n",
      "|2020-01-01 00:00:00|  10|  42.41|                2|\n",
      "|2020-01-01 00:00:00|  12|  107.0|                6|\n",
      "|2020-01-01 00:00:00|  13| 1214.8|               56|\n",
      "|2020-01-01 00:00:00|  14|    8.8|                1|\n",
      "|2020-01-01 00:00:00|  15|  34.09|                1|\n",
      "|2020-01-01 00:00:00|  17| 220.21|                8|\n",
      "|2020-01-01 00:00:00|  18|    5.8|                1|\n",
      "|2020-01-01 00:00:00|  24| 754.95|               45|\n",
      "|2020-01-01 00:00:00|  25| 324.35|               16|\n",
      "|2020-01-01 00:00:00|  32|   18.0|                1|\n",
      "|2020-01-01 00:00:00|  33| 255.56|                8|\n",
      "|2020-01-01 00:00:00|  34|   19.3|                1|\n",
      "|2020-01-01 00:00:00|  36| 109.17|                3|\n",
      "|2020-01-01 00:00:00|  37| 161.61|                7|\n",
      "|2020-01-01 00:00:00|  40|  89.97|                5|\n",
      "|2020-01-01 00:00:00|  41|1256.53|               80|\n",
      "|2020-01-01 00:00:00|  42| 635.35|               46|\n",
      "+-------------------+----+-------+-----------------+\n",
      "only showing top 20 rows\n",
      "\n"
     ]
    },
    {
     "name": "stderr",
     "output_type": "stream",
     "text": [
      "\r",
      "[Stage 78:===========================================>              (3 + 1) / 4]\r",
      "\r",
      "                                                                                \r"
     ]
    }
   ],
   "source": [
    "df_yellow_result.show()"
   ]
  },
  {
   "cell_type": "code",
   "execution_count": 57,
   "id": "1dccb30a",
   "metadata": {},
   "outputs": [
    {
     "name": "stderr",
     "output_type": "stream",
     "text": [
      "                                                                                \r"
     ]
    }
   ],
   "source": [
    "df_yellow_result.write.parquet('data/reports/revenue/yellow', mode='overwrite')"
   ]
  },
  {
   "cell_type": "markdown",
   "id": "7efda2fd",
   "metadata": {},
   "source": [
    "# Join"
   ]
  },
  {
   "cell_type": "code",
   "execution_count": 63,
   "id": "0ddd15cc",
   "metadata": {},
   "outputs": [],
   "source": [
    "df_green_result_tmp = df_green_result \\\n",
    "    .withColumnRenamed('amount', 'green_amount') \\\n",
    "    .withColumnRenamed('number_of_records', 'green_records')"
   ]
  },
  {
   "cell_type": "code",
   "execution_count": 64,
   "id": "f4301f3a",
   "metadata": {},
   "outputs": [],
   "source": [
    "df_yellow_result_tmp = df_yellow_result \\\n",
    "    .withColumnRenamed('amount', 'yellow_amount') \\\n",
    "    .withColumnRenamed('number_of_records', 'yellow_records')"
   ]
  },
  {
   "cell_type": "code",
   "execution_count": 65,
   "id": "8a715528",
   "metadata": {},
   "outputs": [],
   "source": [
    "df_join = df_green_result_tmp.join(df_yellow_result_tmp, on=['hour', 'zone'], how='outer')"
   ]
  },
  {
   "cell_type": "code",
   "execution_count": 66,
   "id": "1592e82d",
   "metadata": {},
   "outputs": [
    {
     "name": "stderr",
     "output_type": "stream",
     "text": [
      "[Stage 101:>                                                        (0 + 1) / 1]\r"
     ]
    },
    {
     "name": "stdout",
     "output_type": "stream",
     "text": [
      "+-------------------+----+------------+-------------+-------------+--------------+\n",
      "|               hour|zone|green_amount|green_records|yellow_amount|yellow_records|\n",
      "+-------------------+----+------------+-------------+-------------+--------------+\n",
      "|2020-01-01 00:00:00|  10|        null|         null|        42.41|             2|\n",
      "|2020-01-01 00:00:00|  17|      195.03|            9|       220.21|             8|\n",
      "|2020-01-01 00:00:00|  35|      129.96|            5|         null|          null|\n",
      "|2020-01-01 00:00:00|  36|      295.34|           11|       109.17|             3|\n",
      "|2020-01-01 00:00:00|  42|      799.76|           52|       635.35|            46|\n",
      "+-------------------+----+------------+-------------+-------------+--------------+\n",
      "only showing top 5 rows\n",
      "\n"
     ]
    },
    {
     "name": "stderr",
     "output_type": "stream",
     "text": [
      "\r",
      "                                                                                \r"
     ]
    }
   ],
   "source": [
    "df_join.show(5)"
   ]
  },
  {
   "cell_type": "code",
   "execution_count": 67,
   "id": "2c55463f",
   "metadata": {},
   "outputs": [
    {
     "name": "stderr",
     "output_type": "stream",
     "text": [
      "                                                                                \r"
     ]
    }
   ],
   "source": [
    "df_join.write.parquet('data/reports/revenue/total', mode='overwrite')"
   ]
  },
  {
   "cell_type": "markdown",
   "id": "a90b1677",
   "metadata": {},
   "source": [
    "# Loading and Joining previously prepared data"
   ]
  },
  {
   "cell_type": "code",
   "execution_count": 68,
   "id": "7e63c96e",
   "metadata": {},
   "outputs": [],
   "source": [
    "df_green_result = spark.read \\\n",
    "           .parquet('data/reports/revenue/green')\n",
    "\n",
    "df_yellow_result = spark.read \\\n",
    "           .parquet('data/reports/revenue/yellow')"
   ]
  },
  {
   "cell_type": "code",
   "execution_count": 69,
   "id": "a8c70550",
   "metadata": {},
   "outputs": [],
   "source": [
    "df_green_result_tmp = df_green_result \\\n",
    "    .withColumnRenamed('amount', 'green_amount') \\\n",
    "    .withColumnRenamed('number_of_records', 'green_records')"
   ]
  },
  {
   "cell_type": "code",
   "execution_count": 70,
   "id": "8c0503ee",
   "metadata": {},
   "outputs": [],
   "source": [
    "df_yellow_result_tmp = df_yellow_result \\\n",
    "    .withColumnRenamed('amount', 'yellow_amount') \\\n",
    "    .withColumnRenamed('number_of_records', 'yellow_records')"
   ]
  },
  {
   "cell_type": "code",
   "execution_count": 71,
   "id": "d8e81289",
   "metadata": {},
   "outputs": [],
   "source": [
    "df_join = df_green_result_tmp.join(df_yellow_result_tmp, on=['hour', 'zone'], how='outer')"
   ]
  },
  {
   "cell_type": "code",
   "execution_count": 72,
   "id": "a8da3180",
   "metadata": {},
   "outputs": [
    {
     "name": "stderr",
     "output_type": "stream",
     "text": [
      "[Stage 110:==========================================>              (3 + 1) / 4]\r"
     ]
    },
    {
     "name": "stdout",
     "output_type": "stream",
     "text": [
      "+-------------------+----+------------+-------------+-------------+--------------+\n",
      "|               hour|zone|green_amount|green_records|yellow_amount|yellow_records|\n",
      "+-------------------+----+------------+-------------+-------------+--------------+\n",
      "|2020-01-01 00:00:00|  10|        null|         null|        42.41|             2|\n",
      "|2020-01-01 00:00:00|  17|      195.03|            9|       220.21|             8|\n",
      "|2020-01-01 00:00:00|  35|      129.96|            5|         null|          null|\n",
      "|2020-01-01 00:00:00|  36|      295.34|           11|       109.17|             3|\n",
      "|2020-01-01 00:00:00|  42|      799.76|           52|       635.35|            46|\n",
      "|2020-01-01 00:00:00|  45|        null|         null|       732.48|            42|\n",
      "|2020-01-01 00:00:00|  50|        null|         null|      4177.48|           183|\n",
      "|2020-01-01 00:00:00|  68|        null|         null|      7825.07|           396|\n",
      "|2020-01-01 00:00:00|  70|        54.9|            3|          9.3|             1|\n",
      "|2020-01-01 00:00:00|  71|        23.8|            1|         null|          null|\n",
      "|2020-01-01 00:00:00|  73|        null|         null|         17.3|             1|\n",
      "|2020-01-01 00:00:00|  76|      143.78|            4|        35.51|             2|\n",
      "|2020-01-01 00:00:00|  77|       75.99|            2|       134.24|             3|\n",
      "|2020-01-01 00:00:00|  79|        null|         null|     12573.81|           721|\n",
      "|2020-01-01 00:00:00|  82|      305.12|           28|         29.8|             1|\n",
      "|2020-01-01 00:00:00|  83|        94.1|            7|          9.8|             1|\n",
      "|2020-01-01 00:00:00| 107|        null|         null|      6441.03|           380|\n",
      "|2020-01-01 00:00:00| 112|      312.26|           18|       119.48|             8|\n",
      "|2020-01-01 00:00:00| 114|        null|         null|      6256.43|           333|\n",
      "|2020-01-01 00:00:00| 125|        null|         null|      1342.07|            68|\n",
      "+-------------------+----+------------+-------------+-------------+--------------+\n",
      "only showing top 20 rows\n",
      "\n"
     ]
    },
    {
     "name": "stderr",
     "output_type": "stream",
     "text": [
      "\r",
      "                                                                                \r"
     ]
    }
   ],
   "source": [
    "df_join.show()"
   ]
  },
  {
   "cell_type": "code",
   "execution_count": 73,
   "id": "220e1f21",
   "metadata": {},
   "outputs": [
    {
     "name": "stderr",
     "output_type": "stream",
     "text": [
      "                                                                                \r"
     ]
    }
   ],
   "source": [
    "df_join.write.parquet('data/reports/revenue/total', mode='overwrite')"
   ]
  },
  {
   "cell_type": "markdown",
   "id": "6e529e0a",
   "metadata": {},
   "source": [
    "# Joining dfs of different size"
   ]
  },
  {
   "cell_type": "code",
   "execution_count": 74,
   "id": "cc520704",
   "metadata": {},
   "outputs": [],
   "source": [
    "df_join = spark.read \\\n",
    "           .parquet('data/reports/revenue/total')"
   ]
  },
  {
   "cell_type": "code",
   "execution_count": 81,
   "id": "c3e0a357",
   "metadata": {},
   "outputs": [],
   "source": [
    "df_zones = spark.read \\\n",
    "            .parquet('./zones')"
   ]
  },
  {
   "cell_type": "code",
   "execution_count": 82,
   "id": "3f20846d",
   "metadata": {},
   "outputs": [
    {
     "name": "stdout",
     "output_type": "stream",
     "text": [
      "['hour', 'zone', 'green_amount', 'green_records', 'yellow_amount', 'yellow_records']\n",
      "['LocationID', 'Borough', 'Zone', 'service_zone']\n"
     ]
    }
   ],
   "source": [
    "print(df_join.columns)\n",
    "print(df_zones.columns)"
   ]
  },
  {
   "cell_type": "code",
   "execution_count": 83,
   "id": "d8067556",
   "metadata": {},
   "outputs": [
    {
     "name": "stdout",
     "output_type": "stream",
     "text": [
      "+----------+-------------+--------------------+------------+\n",
      "|LocationID|      Borough|                Zone|service_zone|\n",
      "+----------+-------------+--------------------+------------+\n",
      "|         1|          EWR|      Newark Airport|         EWR|\n",
      "|         2|       Queens|         Jamaica Bay|   Boro Zone|\n",
      "|         3|        Bronx|Allerton/Pelham G...|   Boro Zone|\n",
      "|         4|    Manhattan|       Alphabet City| Yellow Zone|\n",
      "|         5|Staten Island|       Arden Heights|   Boro Zone|\n",
      "|         6|Staten Island|Arrochar/Fort Wad...|   Boro Zone|\n",
      "|         7|       Queens|             Astoria|   Boro Zone|\n",
      "|         8|       Queens|        Astoria Park|   Boro Zone|\n",
      "|         9|       Queens|          Auburndale|   Boro Zone|\n",
      "|        10|       Queens|        Baisley Park|   Boro Zone|\n",
      "|        11|     Brooklyn|          Bath Beach|   Boro Zone|\n",
      "|        12|    Manhattan|        Battery Park| Yellow Zone|\n",
      "|        13|    Manhattan|   Battery Park City| Yellow Zone|\n",
      "|        14|     Brooklyn|           Bay Ridge|   Boro Zone|\n",
      "|        15|       Queens|Bay Terrace/Fort ...|   Boro Zone|\n",
      "|        16|       Queens|             Bayside|   Boro Zone|\n",
      "|        17|     Brooklyn|             Bedford|   Boro Zone|\n",
      "|        18|        Bronx|        Bedford Park|   Boro Zone|\n",
      "|        19|       Queens|           Bellerose|   Boro Zone|\n",
      "|        20|        Bronx|             Belmont|   Boro Zone|\n",
      "+----------+-------------+--------------------+------------+\n",
      "only showing top 20 rows\n",
      "\n"
     ]
    }
   ],
   "source": [
    "df_zones.show()"
   ]
  },
  {
   "cell_type": "code",
   "execution_count": 92,
   "id": "2a9b6010",
   "metadata": {},
   "outputs": [],
   "source": [
    "df_joint_zones = df_join.join(df_zones, df_join.zone == df_zones.LocationID)"
   ]
  },
  {
   "cell_type": "code",
   "execution_count": 94,
   "id": "7f1dff55",
   "metadata": {},
   "outputs": [
    {
     "name": "stderr",
     "output_type": "stream",
     "text": [
      "                                                                                \r"
     ]
    }
   ],
   "source": [
    "df_joint_zones.drop('zone', 'LocationID').write.parquet('data/tmp/revenue-zones')"
   ]
  },
  {
   "cell_type": "code",
   "execution_count": null,
   "id": "4faaeb92",
   "metadata": {},
   "outputs": [],
   "source": []
  }
 ],
 "metadata": {
  "kernelspec": {
   "display_name": "Python 3 (ipykernel)",
   "language": "python",
   "name": "python3"
  },
  "language_info": {
   "codemirror_mode": {
    "name": "ipython",
    "version": 3
   },
   "file_extension": ".py",
   "mimetype": "text/x-python",
   "name": "python",
   "nbconvert_exporter": "python",
   "pygments_lexer": "ipython3",
   "version": "3.9.16"
  }
 },
 "nbformat": 4,
 "nbformat_minor": 5
}
