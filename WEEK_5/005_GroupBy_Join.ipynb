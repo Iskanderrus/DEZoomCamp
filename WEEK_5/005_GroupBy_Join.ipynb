{
 "cells": [
  {
   "cell_type": "code",
   "execution_count": 1,
   "id": "245b57c9",
   "metadata": {},
   "outputs": [],
   "source": [
    "import pyspark\n",
    "import pandas as pd\n",
    "from pyspark.sql import SparkSession\n",
    "from pyspark.sql import types as T \n",
    "from pyspark.sql import functions as F "
   ]
  },
  {
   "cell_type": "code",
   "execution_count": 2,
   "id": "2d06b01e",
   "metadata": {},
   "outputs": [
    {
     "name": "stderr",
     "output_type": "stream",
     "text": [
      "Setting default log level to \"WARN\".\n",
      "To adjust logging level use sc.setLogLevel(newLevel). For SparkR, use setLogLevel(newLevel).\n"
     ]
    },
    {
     "name": "stdout",
     "output_type": "stream",
     "text": [
      "23/03/01 17:14:40 WARN NativeCodeLoader: Unable to load native-hadoop library for your platform... using builtin-java classes where applicable\n",
      "23/03/01 17:14:41 WARN Utils: Service 'SparkUI' could not bind on port 4040. Attempting port 4041.\n"
     ]
    }
   ],
   "source": [
    "spark = SparkSession.builder \\\n",
    "        .master('local[*]') \\\n",
    "        .appName('test') \\\n",
    "        .getOrCreate()"
   ]
  },
  {
   "cell_type": "code",
   "execution_count": 3,
   "id": "236d0dbe",
   "metadata": {},
   "outputs": [
    {
     "name": "stderr",
     "output_type": "stream",
     "text": [
      "                                                                                \r"
     ]
    }
   ],
   "source": [
    "df_green = spark.read \\\n",
    "           .parquet('./data/unified/green/*/*')"
   ]
  },
  {
   "cell_type": "code",
   "execution_count": 5,
   "id": "ae139986",
   "metadata": {},
   "outputs": [],
   "source": [
    "df_green.createOrReplaceTempView('trips_data')"
   ]
  },
  {
   "cell_type": "code",
   "execution_count": 28,
   "id": "1ece50bd",
   "metadata": {},
   "outputs": [],
   "source": [
    "df_result = spark.sql(\"\"\"\n",
    "SELECT \n",
    "    date_trunc('hour', lpep_pickup_datetime) AS hour, \n",
    "    PULocationID as zone,    \n",
    "    \n",
    "    ROUND(SUM(total_amount), 2)  AS amount,\n",
    "    COUNT(1) AS number_of_records\n",
    "FROM \n",
    "    trips_data\n",
    "WHERE \n",
    "    lpep_pickup_datetime >= '2020-01-01 00:00:00'\n",
    "GROUP BY\n",
    "    1, 2\n",
    "ORDER BY\n",
    "    1, 2; \n",
    "\"\"\")"
   ]
  },
  {
   "cell_type": "code",
   "execution_count": 29,
   "id": "3302f83f",
   "metadata": {},
   "outputs": [
    {
     "name": "stderr",
     "output_type": "stream",
     "text": [
      "[Stage 18:>                                                         (0 + 4) / 4]\r"
     ]
    },
    {
     "name": "stdout",
     "output_type": "stream",
     "text": [
      "+-------------------+----+-------+-----------------+\n",
      "|               hour|zone| amount|number_of_records|\n",
      "+-------------------+----+-------+-----------------+\n",
      "|2020-01-01 00:00:00|   7| 769.73|               45|\n",
      "|2020-01-01 00:00:00|  17| 195.03|                9|\n",
      "|2020-01-01 00:00:00|  18|    7.8|                1|\n",
      "|2020-01-01 00:00:00|  22|   15.8|                1|\n",
      "|2020-01-01 00:00:00|  24|   87.6|                3|\n",
      "|2020-01-01 00:00:00|  25|  531.0|               26|\n",
      "|2020-01-01 00:00:00|  29|   61.3|                1|\n",
      "|2020-01-01 00:00:00|  32|  68.95|                2|\n",
      "|2020-01-01 00:00:00|  33| 317.27|               11|\n",
      "|2020-01-01 00:00:00|  35| 129.96|                5|\n",
      "|2020-01-01 00:00:00|  36| 295.34|               11|\n",
      "|2020-01-01 00:00:00|  37| 175.67|                6|\n",
      "|2020-01-01 00:00:00|  38|  98.79|                2|\n",
      "|2020-01-01 00:00:00|  40| 168.98|                8|\n",
      "|2020-01-01 00:00:00|  41|1363.96|               84|\n",
      "|2020-01-01 00:00:00|  42| 799.76|               52|\n",
      "|2020-01-01 00:00:00|  43| 107.52|                6|\n",
      "|2020-01-01 00:00:00|  47|   13.3|                1|\n",
      "|2020-01-01 00:00:00|  49| 266.76|               14|\n",
      "|2020-01-01 00:00:00|  51|   17.8|                2|\n",
      "+-------------------+----+-------+-----------------+\n",
      "only showing top 20 rows\n",
      "\n"
     ]
    },
    {
     "name": "stderr",
     "output_type": "stream",
     "text": [
      "\r",
      "[Stage 18:=============================>                            (2 + 2) / 4]\r",
      "\r",
      "                                                                                \r"
     ]
    }
   ],
   "source": [
    "df_result.show()"
   ]
  },
  {
   "cell_type": "code",
   "execution_count": 30,
   "id": "ddf18399",
   "metadata": {},
   "outputs": [
    {
     "name": "stderr",
     "output_type": "stream",
     "text": [
      "                                                                                \r"
     ]
    }
   ],
   "source": [
    "df_result.write.parquet('data/repoer/revenue/green')"
   ]
  },
  {
   "cell_type": "code",
   "execution_count": null,
   "id": "f8de5694",
   "metadata": {},
   "outputs": [],
   "source": []
  }
 ],
 "metadata": {
  "kernelspec": {
   "display_name": "Python 3 (ipykernel)",
   "language": "python",
   "name": "python3"
  },
  "language_info": {
   "codemirror_mode": {
    "name": "ipython",
    "version": 3
   },
   "file_extension": ".py",
   "mimetype": "text/x-python",
   "name": "python",
   "nbconvert_exporter": "python",
   "pygments_lexer": "ipython3",
   "version": "3.9.16"
  }
 },
 "nbformat": 4,
 "nbformat_minor": 5
}
