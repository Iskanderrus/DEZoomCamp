{
 "cells": [
  {
   "cell_type": "code",
   "execution_count": 2,
   "id": "2b778fd2",
   "metadata": {},
   "outputs": [],
   "source": [
    "import pyspark\n",
    "from pyspark.sql import SparkSession\n",
    "from pyspark.conf import SparkConf \n",
    "from pyspark.context import SparkContext\n",
    "from pyspark.sql import functions as F\n",
    "import pandas as pd"
   ]
  },
  {
   "cell_type": "code",
   "execution_count": 3,
   "id": "3346aa8b",
   "metadata": {},
   "outputs": [],
   "source": [
    "credentials_location = '/home/alex/.google/credentials/sanguine-form-376720-9f11d64bdbbd.json'\n",
    "\n",
    "conf = SparkConf() \\\n",
    "        .setMaster('local[*]') \\\n",
    "        .setAppName('test') \\\n",
    "        .set('spark.jars', '/home/alex/lib/gcs-connector-hadoop3-latest.jar') \\\n",
    "        .set('spark.hadoop.google.cloud.auth.service.account.enable', 'true') \\\n",
    "        .set('spark.hadoop.google.cloud.auth.service.account.json.keyfile', credentials_location)"
   ]
  },
  {
   "cell_type": "code",
   "execution_count": 4,
   "id": "add4c2fb",
   "metadata": {},
   "outputs": [
    {
     "name": "stdout",
     "output_type": "stream",
     "text": [
      "23/03/02 17:01:43 WARN NativeCodeLoader: Unable to load native-hadoop library for your platform... using builtin-java classes where applicable\n"
     ]
    },
    {
     "name": "stderr",
     "output_type": "stream",
     "text": [
      "Setting default log level to \"WARN\".\n",
      "To adjust logging level use sc.setLogLevel(newLevel). For SparkR, use setLogLevel(newLevel).\n"
     ]
    },
    {
     "name": "stdout",
     "output_type": "stream",
     "text": [
      "23/03/02 17:01:44 WARN Utils: Service 'SparkUI' could not bind on port 4040. Attempting port 4041.\n"
     ]
    }
   ],
   "source": [
    "sc = SparkContext(conf=conf)"
   ]
  },
  {
   "cell_type": "code",
   "execution_count": 5,
   "id": "aa042588",
   "metadata": {},
   "outputs": [],
   "source": [
    "hadoop_conf = sc._jsc.hadoopConfiguration()\n",
    "\n",
    "hadoop_conf.set(\"fs.AbstractFileSystem.gs.impl\", \"com.google.cloud.hadoop.fs.gcs.GoogleHadoopFS\")\n",
    "hadoop_conf.set(\"fs.gs.impl\", \"com.google.cloud.hadoop.fs.gcs.GoogleHadoopFileSystem\")\n",
    "hadoop_conf.set(\"fs.gs.auth.service.account.json.keyfile\", credentials_location)\n",
    "hadoop_conf.set(\"fs.gs.auth.service.account.enable\", \"true\")"
   ]
  },
  {
   "cell_type": "code",
   "execution_count": 6,
   "id": "96c79d4d",
   "metadata": {},
   "outputs": [],
   "source": [
    "spark = SparkSession.builder \\\n",
    "    .config(conf=sc.getConf()) \\\n",
    "    .getOrCreate()"
   ]
  },
  {
   "cell_type": "code",
   "execution_count": 7,
   "id": "669ec122",
   "metadata": {},
   "outputs": [
    {
     "name": "stderr",
     "output_type": "stream",
     "text": [
      "                                                                                \r"
     ]
    }
   ],
   "source": [
    "df_green = spark.read \\\n",
    "           .parquet('gs://iskanderrus_dez_data_lake_sanguine-form-376720/unified/green/*/*')"
   ]
  },
  {
   "cell_type": "code",
   "execution_count": 8,
   "id": "08fd5d16",
   "metadata": {},
   "outputs": [
    {
     "data": {
      "text/plain": [
       "['VendorID',\n",
       " 'lpep_pickup_datetime',\n",
       " 'lpep_dropoff_datetime',\n",
       " 'store_and_fwd_flag',\n",
       " 'RatecodeID',\n",
       " 'PULocationID',\n",
       " 'DOLocationID',\n",
       " 'passenger_count',\n",
       " 'trip_distance',\n",
       " 'fare_amount',\n",
       " 'extra',\n",
       " 'mta_tax',\n",
       " 'tip_amount',\n",
       " 'tolls_amount',\n",
       " 'ehail_fee',\n",
       " 'improvement_surcharge',\n",
       " 'total_amount',\n",
       " 'payment_type',\n",
       " 'trip_type',\n",
       " 'congestion_surcharge']"
      ]
     },
     "execution_count": 8,
     "metadata": {},
     "output_type": "execute_result"
    }
   ],
   "source": [
    "df_green.columns"
   ]
  },
  {
   "cell_type": "code",
   "execution_count": 9,
   "id": "273a563b",
   "metadata": {},
   "outputs": [],
   "source": [
    "df_green = df_green \\\n",
    ".withColumnRenamed('lpep_pickup_datetime', 'pickup_datetime') \\\n",
    ".withColumnRenamed('lpep_dropoff_datetime', 'dropoff_datetime')"
   ]
  },
  {
   "cell_type": "code",
   "execution_count": 10,
   "id": "385d0339",
   "metadata": {},
   "outputs": [
    {
     "name": "stderr",
     "output_type": "stream",
     "text": [
      "\r",
      "[Stage 1:>                                                          (0 + 1) / 1]\r"
     ]
    },
    {
     "name": "stdout",
     "output_type": "stream",
     "text": [
      "+--------+-------------------+-------------------+------------------+----------+------------+------------+---------------+-------------+-----------+-----+-------+----------+------------+---------+---------------------+------------+------------+---------+--------------------+\n",
      "|VendorID|    pickup_datetime|   dropoff_datetime|store_and_fwd_flag|RatecodeID|PULocationID|DOLocationID|passenger_count|trip_distance|fare_amount|extra|mta_tax|tip_amount|tolls_amount|ehail_fee|improvement_surcharge|total_amount|payment_type|trip_type|congestion_surcharge|\n",
      "+--------+-------------------+-------------------+------------------+----------+------------+------------+---------------+-------------+-----------+-----+-------+----------+------------+---------+---------------------+------------+------------+---------+--------------------+\n",
      "|       2|2020-01-11 04:05:54|2020-01-11 04:13:49|                 N|       1.0|         129|         129|            1.0|         0.81|        6.5|  0.5|    0.5|      0.71|         0.0|     null|                  0.3|        8.51|         1.0|      1.0|                 0.0|\n",
      "|       2|2020-01-17 19:33:05|2020-01-17 19:51:08|                 N|       1.0|          75|          42|            3.0|         2.69|       13.5|  1.0|    0.5|      3.06|         0.0|     null|                  0.3|       18.36|         1.0|      1.0|                 0.0|\n",
      "|       2|2020-01-30 12:41:00|2020-01-30 13:30:00|              null|      null|         117|         188|           null|        13.11|      38.57| 2.75|    0.0|       0.0|        2.29|     null|                  0.3|       43.91|        null|     null|                null|\n",
      "|       2|2020-01-11 21:25:44|2020-01-11 21:40:11|                 N|       1.0|          41|         151|            1.0|         2.13|       11.0|  0.5|    0.5|       0.0|         0.0|     null|                  0.3|        12.3|         2.0|      1.0|                 0.0|\n",
      "|       2|2020-01-04 21:45:19|2020-01-04 21:52:57|                 N|       1.0|         129|         260|            1.0|         0.89|        6.5|  0.5|    0.5|       0.0|         0.0|     null|                  0.3|         7.8|         2.0|      1.0|                 0.0|\n",
      "+--------+-------------------+-------------------+------------------+----------+------------+------------+---------------+-------------+-----------+-----+-------+----------+------------+---------+---------------------+------------+------------+---------+--------------------+\n",
      "only showing top 5 rows\n",
      "\n"
     ]
    },
    {
     "name": "stderr",
     "output_type": "stream",
     "text": [
      "\r",
      "                                                                                \r"
     ]
    }
   ],
   "source": [
    "df_green.show(5)"
   ]
  },
  {
   "cell_type": "code",
   "execution_count": 11,
   "id": "bdd999de",
   "metadata": {},
   "outputs": [],
   "source": [
    "df_yellow = spark.read \\\n",
    "           .parquet('gs://iskanderrus_dez_data_lake_sanguine-form-376720/unified/yellow/*/*')"
   ]
  },
  {
   "cell_type": "code",
   "execution_count": 12,
   "id": "0b89dbbb",
   "metadata": {},
   "outputs": [
    {
     "data": {
      "text/plain": [
       "['VendorID',\n",
       " 'tpep_pickup_datetime',\n",
       " 'tpep_dropoff_datetime',\n",
       " 'passenger_count',\n",
       " 'trip_distance',\n",
       " 'RatecodeID',\n",
       " 'store_and_fwd_flag',\n",
       " 'PULocationID',\n",
       " 'DOLocationID',\n",
       " 'payment_type',\n",
       " 'fare_amount',\n",
       " 'extra',\n",
       " 'mta_tax',\n",
       " 'tip_amount',\n",
       " 'tolls_amount',\n",
       " 'improvement_surcharge',\n",
       " 'total_amount',\n",
       " 'congestion_surcharge',\n",
       " 'airport_fee']"
      ]
     },
     "execution_count": 12,
     "metadata": {},
     "output_type": "execute_result"
    }
   ],
   "source": [
    "df_yellow.columns"
   ]
  },
  {
   "cell_type": "code",
   "execution_count": 13,
   "id": "7241471e",
   "metadata": {},
   "outputs": [],
   "source": [
    "df_yellow = df_yellow \\\n",
    ".withColumnRenamed('tpep_pickup_datetime', 'pickup_datetime') \\\n",
    ".withColumnRenamed('tpep_dropoff_datetime', 'dropoff_datetime')"
   ]
  },
  {
   "cell_type": "code",
   "execution_count": 14,
   "id": "b54612c9",
   "metadata": {},
   "outputs": [
    {
     "name": "stderr",
     "output_type": "stream",
     "text": [
      "\r",
      "[Stage 3:>                                                          (0 + 1) / 1]\r"
     ]
    },
    {
     "name": "stdout",
     "output_type": "stream",
     "text": [
      "+--------+-------------------+-------------------+---------------+-------------+----------+------------------+------------+------------+------------+-----------+-----+-------+----------+------------+---------------------+------------+--------------------+-----------+\n",
      "|VendorID|    pickup_datetime|   dropoff_datetime|passenger_count|trip_distance|RatecodeID|store_and_fwd_flag|PULocationID|DOLocationID|payment_type|fare_amount|extra|mta_tax|tip_amount|tolls_amount|improvement_surcharge|total_amount|congestion_surcharge|airport_fee|\n",
      "+--------+-------------------+-------------------+---------------+-------------+----------+------------------+------------+------------+------------+-----------+-----+-------+----------+------------+---------------------+------------+--------------------+-----------+\n",
      "|       1|2020-01-02 18:49:18|2020-01-02 19:06:24|            0.0|          2.7|       1.0|                 N|         263|         230|           1|       13.0|  3.5|    0.5|      3.45|         0.0|                  0.3|       20.75|                 2.5|       null|\n",
      "|       2|2020-01-30 19:15:47|2020-01-30 19:40:38|           null|         4.58|      null|              null|         147|          41|           0|      25.28| 2.75|    0.0|       0.0|         0.0|                  0.3|       28.33|                null|       null|\n",
      "|       2|2020-01-06 21:05:11|2020-01-06 21:08:07|            2.0|         0.83|       1.0|                 N|         142|         239|           1|        4.5|  0.5|    0.5|       1.0|         0.0|                  0.3|         9.3|                 2.5|       null|\n",
      "|       2|2020-01-07 09:13:36|2020-01-07 09:18:26|            1.0|         0.96|       1.0|                 N|         107|          79|           2|        5.5|  0.0|    0.5|       0.0|         0.0|                  0.3|         8.8|                 2.5|       null|\n",
      "|       2|2020-01-21 08:42:00|2020-01-21 08:56:55|            3.0|         2.05|       1.0|                 N|         143|          68|           1|       10.5|  0.0|    0.5|      2.76|         0.0|                  0.3|       16.56|                 2.5|       null|\n",
      "+--------+-------------------+-------------------+---------------+-------------+----------+------------------+------------+------------+------------+-----------+-----+-------+----------+------------+---------------------+------------+--------------------+-----------+\n",
      "only showing top 5 rows\n",
      "\n"
     ]
    },
    {
     "name": "stderr",
     "output_type": "stream",
     "text": [
      "\r",
      "                                                                                \r"
     ]
    }
   ],
   "source": [
    "df_yellow.show(5)"
   ]
  },
  {
   "cell_type": "code",
   "execution_count": 15,
   "id": "02518d1f",
   "metadata": {},
   "outputs": [],
   "source": [
    "common_cols = []\n",
    "\n",
    "for col in df_green.columns: \n",
    "    if col in set(df_yellow.columns): \n",
    "        common_cols.append(col)"
   ]
  },
  {
   "cell_type": "code",
   "execution_count": 16,
   "id": "4ae79e67",
   "metadata": {},
   "outputs": [
    {
     "data": {
      "text/plain": [
       "['VendorID',\n",
       " 'pickup_datetime',\n",
       " 'dropoff_datetime',\n",
       " 'store_and_fwd_flag',\n",
       " 'RatecodeID',\n",
       " 'PULocationID',\n",
       " 'DOLocationID',\n",
       " 'passenger_count',\n",
       " 'trip_distance',\n",
       " 'fare_amount',\n",
       " 'extra',\n",
       " 'mta_tax',\n",
       " 'tip_amount',\n",
       " 'tolls_amount',\n",
       " 'improvement_surcharge',\n",
       " 'total_amount',\n",
       " 'payment_type',\n",
       " 'congestion_surcharge']"
      ]
     },
     "execution_count": 16,
     "metadata": {},
     "output_type": "execute_result"
    }
   ],
   "source": [
    "common_cols"
   ]
  },
  {
   "cell_type": "code",
   "execution_count": 17,
   "id": "928d5dca",
   "metadata": {},
   "outputs": [],
   "source": [
    "df_green_sel = df_green \\\n",
    ".select(common_cols) \\\n",
    ".withColumn('service_type', F.lit('green'))"
   ]
  },
  {
   "cell_type": "code",
   "execution_count": 18,
   "id": "66d21e8c",
   "metadata": {},
   "outputs": [],
   "source": [
    "df_yellow_sel = df_yellow \\\n",
    ".select(common_cols) \\\n",
    ".withColumn('service_type', F.lit('yellow'))"
   ]
  },
  {
   "cell_type": "code",
   "execution_count": 19,
   "id": "cfb65c8c",
   "metadata": {},
   "outputs": [],
   "source": [
    "df_trips_data = df_green_sel.unionAll(df_yellow_sel)"
   ]
  },
  {
   "cell_type": "code",
   "execution_count": 20,
   "id": "92321877",
   "metadata": {},
   "outputs": [
    {
     "name": "stdout",
     "output_type": "stream",
     "text": [
      "+--------+-------------------+-------------------+------------------+----------+------------+------------+---------------+-------------+-----------+-----+-------+----------+------------+---------------------+------------+------------+--------------------+------------+\n",
      "|VendorID|    pickup_datetime|   dropoff_datetime|store_and_fwd_flag|RatecodeID|PULocationID|DOLocationID|passenger_count|trip_distance|fare_amount|extra|mta_tax|tip_amount|tolls_amount|improvement_surcharge|total_amount|payment_type|congestion_surcharge|service_type|\n",
      "+--------+-------------------+-------------------+------------------+----------+------------+------------+---------------+-------------+-----------+-----+-------+----------+------------+---------------------+------------+------------+--------------------+------------+\n",
      "|       2|2020-01-11 04:05:54|2020-01-11 04:13:49|                 N|       1.0|         129|         129|            1.0|         0.81|        6.5|  0.5|    0.5|      0.71|         0.0|                  0.3|        8.51|         1.0|                 0.0|       green|\n",
      "|       2|2020-01-17 19:33:05|2020-01-17 19:51:08|                 N|       1.0|          75|          42|            3.0|         2.69|       13.5|  1.0|    0.5|      3.06|         0.0|                  0.3|       18.36|         1.0|                 0.0|       green|\n",
      "|       2|2020-01-30 12:41:00|2020-01-30 13:30:00|              null|      null|         117|         188|           null|        13.11|      38.57| 2.75|    0.0|       0.0|        2.29|                  0.3|       43.91|        null|                null|       green|\n",
      "|       2|2020-01-11 21:25:44|2020-01-11 21:40:11|                 N|       1.0|          41|         151|            1.0|         2.13|       11.0|  0.5|    0.5|       0.0|         0.0|                  0.3|        12.3|         2.0|                 0.0|       green|\n",
      "|       2|2020-01-04 21:45:19|2020-01-04 21:52:57|                 N|       1.0|         129|         260|            1.0|         0.89|        6.5|  0.5|    0.5|       0.0|         0.0|                  0.3|         7.8|         2.0|                 0.0|       green|\n",
      "+--------+-------------------+-------------------+------------------+----------+------------+------------+---------------+-------------+-----------+-----+-------+----------+------------+---------------------+------------+------------+--------------------+------------+\n",
      "only showing top 5 rows\n",
      "\n"
     ]
    }
   ],
   "source": [
    "df_trips_data.show(5)"
   ]
  },
  {
   "cell_type": "code",
   "execution_count": 21,
   "id": "434be5dd",
   "metadata": {},
   "outputs": [
    {
     "name": "stderr",
     "output_type": "stream",
     "text": [
      "[Stage 5:======================================================>  (19 + 1) / 20]\r"
     ]
    },
    {
     "name": "stdout",
     "output_type": "stream",
     "text": [
      "+------------+--------+\n",
      "|service_type|   count|\n",
      "+------------+--------+\n",
      "|       green| 2802931|\n",
      "|      yellow|55553400|\n",
      "+------------+--------+\n",
      "\n"
     ]
    },
    {
     "name": "stderr",
     "output_type": "stream",
     "text": [
      "\r",
      "                                                                                \r"
     ]
    }
   ],
   "source": [
    "df_trips_data.groupBy('service_type').count().show()"
   ]
  },
  {
   "cell_type": "code",
   "execution_count": 22,
   "id": "7f6a2907",
   "metadata": {},
   "outputs": [],
   "source": [
    "df_trips_data.createOrReplaceTempView('trips_data')"
   ]
  },
  {
   "cell_type": "code",
   "execution_count": 23,
   "id": "af029442",
   "metadata": {},
   "outputs": [
    {
     "name": "stderr",
     "output_type": "stream",
     "text": [
      "[Stage 8:===================================================>     (18 + 2) / 20]\r"
     ]
    },
    {
     "name": "stdout",
     "output_type": "stream",
     "text": [
      "+------------+-----------+\n",
      "|service_type|trips_count|\n",
      "+------------+-----------+\n",
      "|       green|    2802931|\n",
      "|      yellow|   55553400|\n",
      "+------------+-----------+\n",
      "\n"
     ]
    },
    {
     "name": "stderr",
     "output_type": "stream",
     "text": [
      "\r",
      "[Stage 8:======================================================>  (19 + 1) / 20]\r",
      "\r",
      "                                                                                \r"
     ]
    }
   ],
   "source": [
    "spark.sql(\"\"\"\n",
    "SELECT \n",
    "    service_type, \n",
    "    count(1) as trips_count\n",
    "FROM \n",
    "    trips_data\n",
    "GROUP BY\n",
    "    service_type; \n",
    "\"\"\").show()"
   ]
  },
  {
   "cell_type": "code",
   "execution_count": 24,
   "id": "3cbba856",
   "metadata": {},
   "outputs": [],
   "source": [
    "df_result = spark.sql(\"\"\"\n",
    "SELECT \n",
    "    PULocationID as revenue_location,\n",
    "    EXTRACT(MONTH FROM pickup_datetime) AS revenue_month, \n",
    "    service_type, \n",
    "    \n",
    "    SUM(fare_amount)  AS revenue_monthly_fare,\n",
    "    SUM(extra)  AS revenue_monthly_extra,\n",
    "    SUM(mta_tax)  AS revenue_monthly_mta_tax,\n",
    "    SUM(tip_amount)  AS revenue_monthly_tip_amount,\n",
    "    SUM(tolls_amount)  AS revenue_monthly_tolls_amount,\n",
    "    SUM(improvement_surcharge)  AS revenue_monthly_improvement_surcharge,\n",
    "    SUM(total_amount)  AS revenue_monthly_total_amount,\n",
    "    SUM(congestion_surcharge)  AS revenue_monthly_congestion_surcharge,\n",
    "    \n",
    "    COUNT(*) AS total_monthly_trips, \n",
    "    AVG(passenger_count) AS avg_monthly_passenger_count, \n",
    "    AVG(trip_distance) as avg_monthly_trip_distance\n",
    "\n",
    "FROM \n",
    "    trips_data\n",
    "GROUP BY\n",
    "    revenue_location, revenue_month, service_type\n",
    "ORDER BY revenue_location ASC, revenue_month ASC; \n",
    "\"\"\")"
   ]
  },
  {
   "cell_type": "code",
   "execution_count": 25,
   "id": "f3cadc2b",
   "metadata": {},
   "outputs": [
    {
     "name": "stderr",
     "output_type": "stream",
     "text": [
      "                                                                                \r"
     ]
    }
   ],
   "source": [
    "df_result.coalesce(1).write.parquet('gs://iskanderrus_dez_data_lake_sanguine-form-376720/reports/monthly_revenue_by_service_type.parquet', mode='overwrite')"
   ]
  },
  {
   "cell_type": "code",
   "execution_count": 29,
   "id": "da377563",
   "metadata": {},
   "outputs": [],
   "source": [
    "df = pd.read_parquet('gs://iskanderrus_dez_data_lake_sanguine-form-376720/reports/monthly_revenue_by_service_type.parquet/part-00000-f2e3d77a-a09e-4bf2-a623-20c390dc5f89-c000.snappy.parquet')"
   ]
  },
  {
   "cell_type": "code",
   "execution_count": 30,
   "id": "4a7cd622",
   "metadata": {},
   "outputs": [
    {
     "data": {
      "text/html": [
       "<div>\n",
       "<style scoped>\n",
       "    .dataframe tbody tr th:only-of-type {\n",
       "        vertical-align: middle;\n",
       "    }\n",
       "\n",
       "    .dataframe tbody tr th {\n",
       "        vertical-align: top;\n",
       "    }\n",
       "\n",
       "    .dataframe thead th {\n",
       "        text-align: right;\n",
       "    }\n",
       "</style>\n",
       "<table border=\"1\" class=\"dataframe\">\n",
       "  <thead>\n",
       "    <tr style=\"text-align: right;\">\n",
       "      <th></th>\n",
       "      <th>revenue_location</th>\n",
       "      <th>revenue_month</th>\n",
       "      <th>service_type</th>\n",
       "      <th>revenue_monthly_fare</th>\n",
       "      <th>revenue_monthly_extra</th>\n",
       "      <th>revenue_monthly_mta_tax</th>\n",
       "      <th>revenue_monthly_tip_amount</th>\n",
       "      <th>revenue_monthly_tolls_amount</th>\n",
       "      <th>revenue_monthly_improvement_surcharge</th>\n",
       "      <th>revenue_monthly_total_amount</th>\n",
       "      <th>revenue_monthly_congestion_surcharge</th>\n",
       "      <th>total_monthly_trips</th>\n",
       "      <th>avg_monthly_passenger_count</th>\n",
       "      <th>avg_monthly_trip_distance</th>\n",
       "    </tr>\n",
       "  </thead>\n",
       "  <tbody>\n",
       "    <tr>\n",
       "      <th>0</th>\n",
       "      <td>1</td>\n",
       "      <td>1</td>\n",
       "      <td>green</td>\n",
       "      <td>491.00</td>\n",
       "      <td>0.0</td>\n",
       "      <td>0.0</td>\n",
       "      <td>74.41</td>\n",
       "      <td>0.00</td>\n",
       "      <td>1.5</td>\n",
       "      <td>566.91</td>\n",
       "      <td>0.0</td>\n",
       "      <td>5</td>\n",
       "      <td>1.200000</td>\n",
       "      <td>0.000000</td>\n",
       "    </tr>\n",
       "    <tr>\n",
       "      <th>1</th>\n",
       "      <td>1</td>\n",
       "      <td>1</td>\n",
       "      <td>yellow</td>\n",
       "      <td>65249.83</td>\n",
       "      <td>33.5</td>\n",
       "      <td>115.0</td>\n",
       "      <td>9530.27</td>\n",
       "      <td>2913.45</td>\n",
       "      <td>237.3</td>\n",
       "      <td>78086.85</td>\n",
       "      <td>7.5</td>\n",
       "      <td>808</td>\n",
       "      <td>1.582609</td>\n",
       "      <td>0.929022</td>\n",
       "    </tr>\n",
       "    <tr>\n",
       "      <th>2</th>\n",
       "      <td>1</td>\n",
       "      <td>2</td>\n",
       "      <td>green</td>\n",
       "      <td>384.50</td>\n",
       "      <td>1.0</td>\n",
       "      <td>0.5</td>\n",
       "      <td>53.34</td>\n",
       "      <td>0.00</td>\n",
       "      <td>1.5</td>\n",
       "      <td>440.84</td>\n",
       "      <td>0.0</td>\n",
       "      <td>5</td>\n",
       "      <td>1.000000</td>\n",
       "      <td>2.800000</td>\n",
       "    </tr>\n",
       "    <tr>\n",
       "      <th>3</th>\n",
       "      <td>1</td>\n",
       "      <td>2</td>\n",
       "      <td>yellow</td>\n",
       "      <td>52619.82</td>\n",
       "      <td>14.5</td>\n",
       "      <td>89.5</td>\n",
       "      <td>6900.12</td>\n",
       "      <td>2021.26</td>\n",
       "      <td>192.9</td>\n",
       "      <td>61845.05</td>\n",
       "      <td>5.0</td>\n",
       "      <td>656</td>\n",
       "      <td>1.509924</td>\n",
       "      <td>1.071829</td>\n",
       "    </tr>\n",
       "    <tr>\n",
       "      <th>4</th>\n",
       "      <td>1</td>\n",
       "      <td>3</td>\n",
       "      <td>green</td>\n",
       "      <td>481.00</td>\n",
       "      <td>0.0</td>\n",
       "      <td>1.0</td>\n",
       "      <td>90.76</td>\n",
       "      <td>0.00</td>\n",
       "      <td>2.1</td>\n",
       "      <td>574.86</td>\n",
       "      <td>0.0</td>\n",
       "      <td>7</td>\n",
       "      <td>1.285714</td>\n",
       "      <td>0.000000</td>\n",
       "    </tr>\n",
       "    <tr>\n",
       "      <th>5</th>\n",
       "      <td>1</td>\n",
       "      <td>3</td>\n",
       "      <td>yellow</td>\n",
       "      <td>31782.28</td>\n",
       "      <td>15.8</td>\n",
       "      <td>55.5</td>\n",
       "      <td>4158.57</td>\n",
       "      <td>1201.93</td>\n",
       "      <td>118.2</td>\n",
       "      <td>37347.28</td>\n",
       "      <td>15.0</td>\n",
       "      <td>400</td>\n",
       "      <td>1.433584</td>\n",
       "      <td>1.317425</td>\n",
       "    </tr>\n",
       "    <tr>\n",
       "      <th>6</th>\n",
       "      <td>1</td>\n",
       "      <td>4</td>\n",
       "      <td>green</td>\n",
       "      <td>407.05</td>\n",
       "      <td>0.0</td>\n",
       "      <td>0.5</td>\n",
       "      <td>1.00</td>\n",
       "      <td>0.00</td>\n",
       "      <td>1.2</td>\n",
       "      <td>412.25</td>\n",
       "      <td>0.0</td>\n",
       "      <td>4</td>\n",
       "      <td>1.000000</td>\n",
       "      <td>4.682500</td>\n",
       "    </tr>\n",
       "    <tr>\n",
       "      <th>7</th>\n",
       "      <td>1</td>\n",
       "      <td>4</td>\n",
       "      <td>yellow</td>\n",
       "      <td>7635.41</td>\n",
       "      <td>6.8</td>\n",
       "      <td>17.0</td>\n",
       "      <td>630.21</td>\n",
       "      <td>124.60</td>\n",
       "      <td>26.7</td>\n",
       "      <td>8448.22</td>\n",
       "      <td>7.5</td>\n",
       "      <td>92</td>\n",
       "      <td>1.247191</td>\n",
       "      <td>2.431848</td>\n",
       "    </tr>\n",
       "    <tr>\n",
       "      <th>8</th>\n",
       "      <td>1</td>\n",
       "      <td>5</td>\n",
       "      <td>yellow</td>\n",
       "      <td>9761.66</td>\n",
       "      <td>1.0</td>\n",
       "      <td>23.0</td>\n",
       "      <td>1339.19</td>\n",
       "      <td>227.05</td>\n",
       "      <td>39.3</td>\n",
       "      <td>11396.20</td>\n",
       "      <td>2.5</td>\n",
       "      <td>144</td>\n",
       "      <td>1.608696</td>\n",
       "      <td>0.966458</td>\n",
       "    </tr>\n",
       "    <tr>\n",
       "      <th>9</th>\n",
       "      <td>1</td>\n",
       "      <td>6</td>\n",
       "      <td>green</td>\n",
       "      <td>194.00</td>\n",
       "      <td>0.0</td>\n",
       "      <td>0.0</td>\n",
       "      <td>31.66</td>\n",
       "      <td>0.00</td>\n",
       "      <td>0.6</td>\n",
       "      <td>226.26</td>\n",
       "      <td>0.0</td>\n",
       "      <td>2</td>\n",
       "      <td>1.500000</td>\n",
       "      <td>0.030000</td>\n",
       "    </tr>\n",
       "    <tr>\n",
       "      <th>10</th>\n",
       "      <td>1</td>\n",
       "      <td>6</td>\n",
       "      <td>yellow</td>\n",
       "      <td>14005.78</td>\n",
       "      <td>15.0</td>\n",
       "      <td>35.0</td>\n",
       "      <td>2075.90</td>\n",
       "      <td>660.12</td>\n",
       "      <td>56.1</td>\n",
       "      <td>16879.50</td>\n",
       "      <td>17.5</td>\n",
       "      <td>198</td>\n",
       "      <td>1.546392</td>\n",
       "      <td>1.048990</td>\n",
       "    </tr>\n",
       "    <tr>\n",
       "      <th>11</th>\n",
       "      <td>1</td>\n",
       "      <td>7</td>\n",
       "      <td>green</td>\n",
       "      <td>206.50</td>\n",
       "      <td>0.0</td>\n",
       "      <td>1.0</td>\n",
       "      <td>5.50</td>\n",
       "      <td>23.00</td>\n",
       "      <td>0.9</td>\n",
       "      <td>236.90</td>\n",
       "      <td>0.0</td>\n",
       "      <td>3</td>\n",
       "      <td>1.000000</td>\n",
       "      <td>18.133333</td>\n",
       "    </tr>\n",
       "    <tr>\n",
       "      <th>12</th>\n",
       "      <td>1</td>\n",
       "      <td>7</td>\n",
       "      <td>yellow</td>\n",
       "      <td>21799.94</td>\n",
       "      <td>19.0</td>\n",
       "      <td>41.5</td>\n",
       "      <td>3187.81</td>\n",
       "      <td>1122.35</td>\n",
       "      <td>83.1</td>\n",
       "      <td>26266.35</td>\n",
       "      <td>15.0</td>\n",
       "      <td>292</td>\n",
       "      <td>1.533101</td>\n",
       "      <td>1.964692</td>\n",
       "    </tr>\n",
       "    <tr>\n",
       "      <th>13</th>\n",
       "      <td>1</td>\n",
       "      <td>8</td>\n",
       "      <td>green</td>\n",
       "      <td>242.50</td>\n",
       "      <td>0.0</td>\n",
       "      <td>0.5</td>\n",
       "      <td>7.75</td>\n",
       "      <td>13.75</td>\n",
       "      <td>1.2</td>\n",
       "      <td>265.70</td>\n",
       "      <td>0.0</td>\n",
       "      <td>4</td>\n",
       "      <td>1.500000</td>\n",
       "      <td>4.040000</td>\n",
       "    </tr>\n",
       "    <tr>\n",
       "      <th>14</th>\n",
       "      <td>1</td>\n",
       "      <td>8</td>\n",
       "      <td>yellow</td>\n",
       "      <td>24931.02</td>\n",
       "      <td>16.0</td>\n",
       "      <td>43.5</td>\n",
       "      <td>3646.13</td>\n",
       "      <td>1048.76</td>\n",
       "      <td>100.2</td>\n",
       "      <td>29790.11</td>\n",
       "      <td>0.0</td>\n",
       "      <td>354</td>\n",
       "      <td>1.601744</td>\n",
       "      <td>0.985000</td>\n",
       "    </tr>\n",
       "    <tr>\n",
       "      <th>15</th>\n",
       "      <td>1</td>\n",
       "      <td>9</td>\n",
       "      <td>green</td>\n",
       "      <td>60.00</td>\n",
       "      <td>0.0</td>\n",
       "      <td>0.5</td>\n",
       "      <td>0.00</td>\n",
       "      <td>13.75</td>\n",
       "      <td>0.3</td>\n",
       "      <td>74.55</td>\n",
       "      <td>0.0</td>\n",
       "      <td>1</td>\n",
       "      <td>1.000000</td>\n",
       "      <td>21.640000</td>\n",
       "    </tr>\n",
       "    <tr>\n",
       "      <th>16</th>\n",
       "      <td>1</td>\n",
       "      <td>9</td>\n",
       "      <td>yellow</td>\n",
       "      <td>26605.86</td>\n",
       "      <td>7.5</td>\n",
       "      <td>42.0</td>\n",
       "      <td>3586.59</td>\n",
       "      <td>1634.87</td>\n",
       "      <td>102.0</td>\n",
       "      <td>31981.32</td>\n",
       "      <td>0.0</td>\n",
       "      <td>349</td>\n",
       "      <td>1.644315</td>\n",
       "      <td>1.275874</td>\n",
       "    </tr>\n",
       "    <tr>\n",
       "      <th>17</th>\n",
       "      <td>1</td>\n",
       "      <td>10</td>\n",
       "      <td>green</td>\n",
       "      <td>289.00</td>\n",
       "      <td>1.0</td>\n",
       "      <td>0.5</td>\n",
       "      <td>42.64</td>\n",
       "      <td>25.99</td>\n",
       "      <td>0.9</td>\n",
       "      <td>360.03</td>\n",
       "      <td>0.0</td>\n",
       "      <td>3</td>\n",
       "      <td>1.000000</td>\n",
       "      <td>12.386667</td>\n",
       "    </tr>\n",
       "    <tr>\n",
       "      <th>18</th>\n",
       "      <td>1</td>\n",
       "      <td>10</td>\n",
       "      <td>yellow</td>\n",
       "      <td>37805.71</td>\n",
       "      <td>17.5</td>\n",
       "      <td>43.5</td>\n",
       "      <td>5365.71</td>\n",
       "      <td>2288.15</td>\n",
       "      <td>138.3</td>\n",
       "      <td>45666.37</td>\n",
       "      <td>12.5</td>\n",
       "      <td>477</td>\n",
       "      <td>1.653277</td>\n",
       "      <td>0.877275</td>\n",
       "    </tr>\n",
       "    <tr>\n",
       "      <th>19</th>\n",
       "      <td>1</td>\n",
       "      <td>11</td>\n",
       "      <td>green</td>\n",
       "      <td>589.00</td>\n",
       "      <td>0.0</td>\n",
       "      <td>0.0</td>\n",
       "      <td>76.52</td>\n",
       "      <td>0.00</td>\n",
       "      <td>1.8</td>\n",
       "      <td>667.32</td>\n",
       "      <td>0.0</td>\n",
       "      <td>6</td>\n",
       "      <td>1.000000</td>\n",
       "      <td>0.140000</td>\n",
       "    </tr>\n",
       "    <tr>\n",
       "      <th>20</th>\n",
       "      <td>1</td>\n",
       "      <td>11</td>\n",
       "      <td>yellow</td>\n",
       "      <td>48258.20</td>\n",
       "      <td>14.0</td>\n",
       "      <td>62.5</td>\n",
       "      <td>7471.28</td>\n",
       "      <td>2332.47</td>\n",
       "      <td>179.7</td>\n",
       "      <td>58328.15</td>\n",
       "      <td>12.5</td>\n",
       "      <td>627</td>\n",
       "      <td>1.606400</td>\n",
       "      <td>0.701707</td>\n",
       "    </tr>\n",
       "    <tr>\n",
       "      <th>21</th>\n",
       "      <td>1</td>\n",
       "      <td>12</td>\n",
       "      <td>green</td>\n",
       "      <td>334.09</td>\n",
       "      <td>1.0</td>\n",
       "      <td>0.5</td>\n",
       "      <td>0.00</td>\n",
       "      <td>13.75</td>\n",
       "      <td>1.2</td>\n",
       "      <td>350.54</td>\n",
       "      <td>0.0</td>\n",
       "      <td>4</td>\n",
       "      <td>1.000000</td>\n",
       "      <td>10.670000</td>\n",
       "    </tr>\n",
       "    <tr>\n",
       "      <th>22</th>\n",
       "      <td>1</td>\n",
       "      <td>12</td>\n",
       "      <td>yellow</td>\n",
       "      <td>60284.58</td>\n",
       "      <td>12.5</td>\n",
       "      <td>63.0</td>\n",
       "      <td>8139.87</td>\n",
       "      <td>2308.94</td>\n",
       "      <td>208.8</td>\n",
       "      <td>71030.19</td>\n",
       "      <td>12.5</td>\n",
       "      <td>732</td>\n",
       "      <td>1.778386</td>\n",
       "      <td>0.831735</td>\n",
       "    </tr>\n",
       "    <tr>\n",
       "      <th>23</th>\n",
       "      <td>2</td>\n",
       "      <td>1</td>\n",
       "      <td>yellow</td>\n",
       "      <td>65.50</td>\n",
       "      <td>1.5</td>\n",
       "      <td>1.5</td>\n",
       "      <td>5.00</td>\n",
       "      <td>2.29</td>\n",
       "      <td>0.9</td>\n",
       "      <td>76.69</td>\n",
       "      <td>0.0</td>\n",
       "      <td>3</td>\n",
       "      <td>1.333333</td>\n",
       "      <td>7.200000</td>\n",
       "    </tr>\n",
       "  </tbody>\n",
       "</table>\n",
       "</div>"
      ],
      "text/plain": [
       "    revenue_location  revenue_month service_type  revenue_monthly_fare  \\\n",
       "0                  1              1        green                491.00   \n",
       "1                  1              1       yellow              65249.83   \n",
       "2                  1              2        green                384.50   \n",
       "3                  1              2       yellow              52619.82   \n",
       "4                  1              3        green                481.00   \n",
       "5                  1              3       yellow              31782.28   \n",
       "6                  1              4        green                407.05   \n",
       "7                  1              4       yellow               7635.41   \n",
       "8                  1              5       yellow               9761.66   \n",
       "9                  1              6        green                194.00   \n",
       "10                 1              6       yellow              14005.78   \n",
       "11                 1              7        green                206.50   \n",
       "12                 1              7       yellow              21799.94   \n",
       "13                 1              8        green                242.50   \n",
       "14                 1              8       yellow              24931.02   \n",
       "15                 1              9        green                 60.00   \n",
       "16                 1              9       yellow              26605.86   \n",
       "17                 1             10        green                289.00   \n",
       "18                 1             10       yellow              37805.71   \n",
       "19                 1             11        green                589.00   \n",
       "20                 1             11       yellow              48258.20   \n",
       "21                 1             12        green                334.09   \n",
       "22                 1             12       yellow              60284.58   \n",
       "23                 2              1       yellow                 65.50   \n",
       "\n",
       "    revenue_monthly_extra  revenue_monthly_mta_tax  \\\n",
       "0                     0.0                      0.0   \n",
       "1                    33.5                    115.0   \n",
       "2                     1.0                      0.5   \n",
       "3                    14.5                     89.5   \n",
       "4                     0.0                      1.0   \n",
       "5                    15.8                     55.5   \n",
       "6                     0.0                      0.5   \n",
       "7                     6.8                     17.0   \n",
       "8                     1.0                     23.0   \n",
       "9                     0.0                      0.0   \n",
       "10                   15.0                     35.0   \n",
       "11                    0.0                      1.0   \n",
       "12                   19.0                     41.5   \n",
       "13                    0.0                      0.5   \n",
       "14                   16.0                     43.5   \n",
       "15                    0.0                      0.5   \n",
       "16                    7.5                     42.0   \n",
       "17                    1.0                      0.5   \n",
       "18                   17.5                     43.5   \n",
       "19                    0.0                      0.0   \n",
       "20                   14.0                     62.5   \n",
       "21                    1.0                      0.5   \n",
       "22                   12.5                     63.0   \n",
       "23                    1.5                      1.5   \n",
       "\n",
       "    revenue_monthly_tip_amount  revenue_monthly_tolls_amount  \\\n",
       "0                        74.41                          0.00   \n",
       "1                      9530.27                       2913.45   \n",
       "2                        53.34                          0.00   \n",
       "3                      6900.12                       2021.26   \n",
       "4                        90.76                          0.00   \n",
       "5                      4158.57                       1201.93   \n",
       "6                         1.00                          0.00   \n",
       "7                       630.21                        124.60   \n",
       "8                      1339.19                        227.05   \n",
       "9                        31.66                          0.00   \n",
       "10                     2075.90                        660.12   \n",
       "11                        5.50                         23.00   \n",
       "12                     3187.81                       1122.35   \n",
       "13                        7.75                         13.75   \n",
       "14                     3646.13                       1048.76   \n",
       "15                        0.00                         13.75   \n",
       "16                     3586.59                       1634.87   \n",
       "17                       42.64                         25.99   \n",
       "18                     5365.71                       2288.15   \n",
       "19                       76.52                          0.00   \n",
       "20                     7471.28                       2332.47   \n",
       "21                        0.00                         13.75   \n",
       "22                     8139.87                       2308.94   \n",
       "23                        5.00                          2.29   \n",
       "\n",
       "    revenue_monthly_improvement_surcharge  revenue_monthly_total_amount  \\\n",
       "0                                     1.5                        566.91   \n",
       "1                                   237.3                      78086.85   \n",
       "2                                     1.5                        440.84   \n",
       "3                                   192.9                      61845.05   \n",
       "4                                     2.1                        574.86   \n",
       "5                                   118.2                      37347.28   \n",
       "6                                     1.2                        412.25   \n",
       "7                                    26.7                       8448.22   \n",
       "8                                    39.3                      11396.20   \n",
       "9                                     0.6                        226.26   \n",
       "10                                   56.1                      16879.50   \n",
       "11                                    0.9                        236.90   \n",
       "12                                   83.1                      26266.35   \n",
       "13                                    1.2                        265.70   \n",
       "14                                  100.2                      29790.11   \n",
       "15                                    0.3                         74.55   \n",
       "16                                  102.0                      31981.32   \n",
       "17                                    0.9                        360.03   \n",
       "18                                  138.3                      45666.37   \n",
       "19                                    1.8                        667.32   \n",
       "20                                  179.7                      58328.15   \n",
       "21                                    1.2                        350.54   \n",
       "22                                  208.8                      71030.19   \n",
       "23                                    0.9                         76.69   \n",
       "\n",
       "    revenue_monthly_congestion_surcharge  total_monthly_trips  \\\n",
       "0                                    0.0                    5   \n",
       "1                                    7.5                  808   \n",
       "2                                    0.0                    5   \n",
       "3                                    5.0                  656   \n",
       "4                                    0.0                    7   \n",
       "5                                   15.0                  400   \n",
       "6                                    0.0                    4   \n",
       "7                                    7.5                   92   \n",
       "8                                    2.5                  144   \n",
       "9                                    0.0                    2   \n",
       "10                                  17.5                  198   \n",
       "11                                   0.0                    3   \n",
       "12                                  15.0                  292   \n",
       "13                                   0.0                    4   \n",
       "14                                   0.0                  354   \n",
       "15                                   0.0                    1   \n",
       "16                                   0.0                  349   \n",
       "17                                   0.0                    3   \n",
       "18                                  12.5                  477   \n",
       "19                                   0.0                    6   \n",
       "20                                  12.5                  627   \n",
       "21                                   0.0                    4   \n",
       "22                                  12.5                  732   \n",
       "23                                   0.0                    3   \n",
       "\n",
       "    avg_monthly_passenger_count  avg_monthly_trip_distance  \n",
       "0                      1.200000                   0.000000  \n",
       "1                      1.582609                   0.929022  \n",
       "2                      1.000000                   2.800000  \n",
       "3                      1.509924                   1.071829  \n",
       "4                      1.285714                   0.000000  \n",
       "5                      1.433584                   1.317425  \n",
       "6                      1.000000                   4.682500  \n",
       "7                      1.247191                   2.431848  \n",
       "8                      1.608696                   0.966458  \n",
       "9                      1.500000                   0.030000  \n",
       "10                     1.546392                   1.048990  \n",
       "11                     1.000000                  18.133333  \n",
       "12                     1.533101                   1.964692  \n",
       "13                     1.500000                   4.040000  \n",
       "14                     1.601744                   0.985000  \n",
       "15                     1.000000                  21.640000  \n",
       "16                     1.644315                   1.275874  \n",
       "17                     1.000000                  12.386667  \n",
       "18                     1.653277                   0.877275  \n",
       "19                     1.000000                   0.140000  \n",
       "20                     1.606400                   0.701707  \n",
       "21                     1.000000                  10.670000  \n",
       "22                     1.778386                   0.831735  \n",
       "23                     1.333333                   7.200000  "
      ]
     },
     "execution_count": 30,
     "metadata": {},
     "output_type": "execute_result"
    }
   ],
   "source": [
    "df.head(24)"
   ]
  },
  {
   "cell_type": "code",
   "execution_count": 31,
   "id": "f8ef4e07",
   "metadata": {},
   "outputs": [
    {
     "data": {
      "text/plain": [
       "(6217, 14)"
      ]
     },
     "execution_count": 31,
     "metadata": {},
     "output_type": "execute_result"
    }
   ],
   "source": [
    "df.shape"
   ]
  },
  {
   "cell_type": "code",
   "execution_count": null,
   "id": "b7461b3f",
   "metadata": {},
   "outputs": [],
   "source": []
  }
 ],
 "metadata": {
  "kernelspec": {
   "display_name": "Python 3 (ipykernel)",
   "language": "python",
   "name": "python3"
  },
  "language_info": {
   "codemirror_mode": {
    "name": "ipython",
    "version": 3
   },
   "file_extension": ".py",
   "mimetype": "text/x-python",
   "name": "python",
   "nbconvert_exporter": "python",
   "pygments_lexer": "ipython3",
   "version": "3.9.16"
  }
 },
 "nbformat": 4,
 "nbformat_minor": 5
}
