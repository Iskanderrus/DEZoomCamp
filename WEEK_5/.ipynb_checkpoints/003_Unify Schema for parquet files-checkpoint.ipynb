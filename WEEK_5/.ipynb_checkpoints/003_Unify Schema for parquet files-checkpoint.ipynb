{
 "cells": [
  {
   "cell_type": "markdown",
   "id": "14ef8a0c",
   "metadata": {},
   "source": [
    "# Import Libraries"
   ]
  },
  {
   "cell_type": "code",
   "execution_count": 33,
   "id": "bce0f717",
   "metadata": {},
   "outputs": [],
   "source": [
    "import pyspark\n",
    "import pandas as pd\n",
    "from pyspark.sql import SparkSession\n",
    "from pyspark.sql import types as T "
   ]
  },
  {
   "cell_type": "markdown",
   "id": "9668bee2",
   "metadata": {},
   "source": [
    "# Initiate Spark"
   ]
  },
  {
   "cell_type": "code",
   "execution_count": 34,
   "id": "49cf6b59",
   "metadata": {},
   "outputs": [],
   "source": [
    "spark = SparkSession.builder \\\n",
    "        .master('local[*]') \\\n",
    "        .appName('test') \\\n",
    "        .getOrCreate()"
   ]
  },
  {
   "cell_type": "code",
   "execution_count": 35,
   "id": "649b8ccb",
   "metadata": {},
   "outputs": [],
   "source": [
    "green_schema = T.StructType([\n",
    "    T.StructField('VendorID', T.IntegerType(), True),\n",
    "    T.StructField('lpep_pickup_datetime', T.TimestampType(), True),\n",
    "    T.StructField('lpep_dropoff_datetime', T.TimestampType(), True),\n",
    "    T.StructField('store_and_fwd_flag', T.StringType(), True),\n",
    "    T.StructField('RatecodeID', T.IntegerType(), True),\n",
    "    T.StructField('PULocationID', T.IntegerType(), True),\n",
    "    T.StructField('DOLocationID', T.IntegerType(), True),\n",
    "    T.StructField('passenger_count', T.DoubleType(), True),\n",
    "    T.StructField('trip_distance', T.DoubleType(), True),\n",
    "    T.StructField('fare_amount', T.DoubleType(), True),\n",
    "    T.StructField('extra', T.DoubleType(), True),\n",
    "    T.StructField('mta_tax', T.DoubleType(), True),\n",
    "    T.StructField('tip_amount', T.DoubleType(), True),\n",
    "    T.StructField('tolls_amount', T.DoubleType(), True),\n",
    "    T.StructField('ehail_fee', T.IntegerType(), True),\n",
    "    T.StructField('improvement_surcharge', T.DoubleType(), True),\n",
    "    T.StructField('total_amount', T.DoubleType(), True),\n",
    "    T.StructField('payment_type', T.IntegerType(), True),\n",
    "    T.StructField('trip_type', T.IntegerType(), True),\n",
    "    T.StructField('congestion_surcharge', T.DoubleType(), True)\n",
    "])"
   ]
  },
  {
   "cell_type": "code",
   "execution_count": 36,
   "id": "4894dd32",
   "metadata": {},
   "outputs": [],
   "source": [
    "yellow_schema = T.StructType([\n",
    "    T.StructField('VendorID', T.IntegerType(), True),\n",
    "    T.StructField('lpep_pickup_datetime', T.TimestampType(), True),\n",
    "    T.StructField('lpep_dropoff_datetime', T.TimestampType(), True),\n",
    "    T.StructField('store_and_fwd_flag', T.StringType(), True),\n",
    "    T.StructField('RatecodeID', T.IntegerType(), True),\n",
    "    T.StructField('PULocationID', T.IntegerType(), True),\n",
    "    T.StructField('DOLocationID', T.IntegerType(), True),\n",
    "    T.StructField('passenger_count', T.IntegerType(), True),\n",
    "    T.StructField('trip_distance', T.DoubleType(), True),\n",
    "    T.StructField('fare_amount', T.DoubleType(), True),\n",
    "    T.StructField('extra', T.DoubleType(), True),\n",
    "    T.StructField('mta_tax', T.DoubleType(), True),\n",
    "    T.StructField('tip_amount', T.DoubleType(), True),\n",
    "    T.StructField('tolls_amount', T.DoubleType(), True),\n",
    "    T.StructField('ehail_fee', T.IntegerType(), True),\n",
    "    T.StructField('improvement_surcharge', T.DoubleType(), True),\n",
    "    T.StructField('total_amount', T.DoubleType(), True),\n",
    "    T.StructField('payment_type', T.IntegerType(), True),\n",
    "    T.StructField('trip_type', T.IntegerType(), True),\n",
    "    T.StructField('congestion_surcharge', T.DoubleType(), True)\n",
    "])"
   ]
  },
  {
   "cell_type": "code",
   "execution_count": 47,
   "id": "04a782c2",
   "metadata": {},
   "outputs": [
    {
     "name": "stdout",
     "output_type": "stream",
     "text": [
      "Data of what type of taxi to convert?\n",
      " Green \n",
      "What year to convert?\n",
      "2021\n"
     ]
    }
   ],
   "source": [
    "taxi_type = input('Data of what type of taxi to convert?\\n').strip().lower()\n",
    "year = input('What year to convert?\\n')\n",
    "\n",
    "if taxi_type == 'yellow':\n",
    "    my_schema = yellow_schema\n",
    "elif taxi_type == 'green':\n",
    "    my_schema = green_schema\n",
    "else:\n",
    "    print('This schema does not exist')\n",
    "\n",
    "for month in range(1, 13):\n",
    "    input_path = f'./data/raw/{taxi_type}/{year}/{month:02d}/'\n",
    "    output_path = f'./data/unified/{taxi_type}/{year}/{month:02d}/'\n",
    "\n",
    "    df = spark.read \\\n",
    "        .option('header', 'true') \\\n",
    "        .option(\"schema\",my_schema) \\\n",
    "        .parquet(input_path)\n",
    "\n",
    "    df \\\n",
    "    .repartition(4) \\\n",
    "    .write.parquet(output_path)"
   ]
  },
  {
   "cell_type": "code",
   "execution_count": null,
   "id": "cfe37095",
   "metadata": {},
   "outputs": [],
   "source": []
  }
 ],
 "metadata": {
  "kernelspec": {
   "display_name": "Python 3 (ipykernel)",
   "language": "python",
   "name": "python3"
  },
  "language_info": {
   "codemirror_mode": {
    "name": "ipython",
    "version": 3
   },
   "file_extension": ".py",
   "mimetype": "text/x-python",
   "name": "python",
   "nbconvert_exporter": "python",
   "pygments_lexer": "ipython3",
   "version": "3.9.16"
  }
 },
 "nbformat": 4,
 "nbformat_minor": 5
}
